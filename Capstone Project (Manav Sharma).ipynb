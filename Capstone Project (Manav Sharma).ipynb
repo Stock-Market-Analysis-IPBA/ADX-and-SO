{
 "cells": [
  {
   "cell_type": "code",
   "execution_count": 1,
   "metadata": {},
   "outputs": [],
   "source": [
    "# ====================Importing All the libraries ====================\n",
    "import pandas as pd\n",
    "import numpy as np\n",
    "import copy\n",
    "import os\n",
    "import plotly.graph_objects as go\n",
    "from datetime import datetime"
   ]
  },
  {
   "cell_type": "markdown",
   "metadata": {},
   "source": [
    "## Banking Files"
   ]
  },
  {
   "cell_type": "code",
   "execution_count": 2,
   "metadata": {},
   "outputs": [
    {
     "name": "stdout",
     "output_type": "stream",
     "text": [
      "1. Allahabad Bank.xlsx\n",
      "2. Andhra Bank.xlsx\n",
      "3. AXIS BANK.xlsx\n",
      "4. Bank of Baroda.xlsx\n",
      "5. BANK OF MAHARASHTRA.xlsx\n",
      "6. BankNifty.csv\n",
      "7. BOI.xlsx\n",
      "8. Canara Bank.xlsx\n",
      "9. Central Bank.xlsx\n",
      "10. Corparation Bank.xlsx\n",
      "11. Federal Bank.xlsx\n",
      "12. HDFC Bank.xlsx\n",
      "13. ICICI Bank.xlsx\n",
      "14. IDBI.xlsx\n",
      "15. Indian Bank.xlsx\n",
      "16. Karnataka Bank.xlsx\n",
      "17. Kotak Mahindra Bank.xlsx\n",
      "18. Lakshmi Vilas Bank.xlsx\n",
      "19. Oriental Bank.xlsx\n",
      "20. PNB.xlsx\n",
      "21. SBI.xlsx\n",
      "22. SOUTH BANK.xlsx\n",
      "23. Syndicate bank.xlsx\n",
      "24. UCO Bank.xlsx\n",
      "25. Union Bank.xlsx\n",
      "26. YES BANK.xlsx\n"
     ]
    }
   ],
   "source": [
    "#View all the files present in the folder\n",
    "os.chdir('C:\\\\Users\\\\Manav\\\\Desktop\\\\Desktop files\\\\BYOP\\\\Banking data')\n",
    "\n",
    "file_index=1\n",
    "for folder,sub,files in os.walk(os.getcwd()):\n",
    "    for file in files:\n",
    "        print(f\"{file_index}.\",file)\n",
    "        file_index+=1"
   ]
  },
  {
   "cell_type": "markdown",
   "metadata": {},
   "source": [
    "## Indicator ADX, Stochastic Oscillator"
   ]
  },
  {
   "cell_type": "code",
   "execution_count": 28,
   "metadata": {},
   "outputs": [],
   "source": [
    "def Indicator(indata,n):\n",
    "    #Adx indicator \n",
    "    indata['HL'] = indata['High Price'] - indata['Low Price']             \n",
    "    indata['absHC'] = abs(indata['High Price'] - indata['Close Price'].shift(1))\n",
    "    indata['absLC'] = abs(indata['Low Price'] - indata['Close Price'].shift(1))\n",
    "    indata['TR'] = indata[['HL','absHC','absLC']].max(axis=1)\n",
    "    indata['ATR'] = indata['TR'].rolling(window=14).mean()\n",
    "    #indata['NATR'] = (indata['ATR'] / indata['Close Price']) *100\n",
    "    indata = indata.fillna(0)\n",
    "    \n",
    "    indata['Up'] = indata['High Price'] - indata['High Price'].shift(1)\n",
    "    indata['Down'] = indata['Low Price'].shift(1) - indata[' Low Price'] \n",
    "    indata['Zero'] = 0\n",
    "    indata['+DM'] = np.where((indata['Up'] > indata['Down']) & (indata['Up'] > indata['Zero']), indata['Up'], 0) \n",
    "    indata['-DM'] = np.where((indata['Up'] < indata['Down']) & (indata['Down'] > indata['Zero']), indata['Down'], 0)\n",
    "    indata['+DI'] = 100 * (indata['+DM']/indata['ATR']).ewm(span=14,min_periods=0,adjust=True,ignore_na=False).mean() \n",
    "    indata['-DI'] = 100 * (indata['-DM']/indata['ATR']).ewm(span=14,min_periods=0,adjust=True,ignore_na=False).mean()\n",
    "    indata['ADX'] = 100 * (abs((indata['+DI'] - indata['-DI'])/(indata['+DI'] + indata['-DI']))).ewm(span=14,min_periods=0,adjust=True,ignore_na=False).mean()\n",
    "    \n",
    "    for stock in range(len(indata)):\n",
    "        if (((indata.loc[stock,'ADX'])>=25) and (indata.loc[stock,'+DI'] >= indata.loc[stock,'-DI'])):\n",
    "            indata.loc[stock,'Trend Signal'] = 'Uptrend'\n",
    "        elif (((indata.loc[stock,'ADX'])>=25) and (indata.loc[stock,'+DI'] <= indata.loc[stock,'-DI'])):\n",
    "            indata.loc[stock,'Trend Signal'] = 'Short Trade'\n",
    "        else:\n",
    "            indata.loc[stock,'Trend Signal'] = 'Trendless'\n",
    "                   \n",
    "    #Stochastic Indicator\n",
    "    indata['SOK'] = abs(((indata['Close Price'] - indata['Low Price'].rolling(window=n, center=False).mean()) / (indata['High Price'].rolling(window=n, center=False).max() - indata['Low Price'].rolling(window=n, center=False).min())) * 100)\n",
    "    indata['SOD'] = indata['SOK'].rolling(window = 3, center=False).mean()\n",
    "        \n",
    "    for i in range(len(indata)):\n",
    "        if (indata.loc[i,'Trend Signal'] == 'Uptrend') & (indata.loc[i,'SOK'] >= 15) & (indata.loc[i,'SOK']<= 27):\n",
    "            indata.loc[i,'Signal'] = 'Buy'\n",
    "        elif (indata.loc[i,'Trend Signal'] == 'Short Trade') & (indata.loc[i,'SOK'] >= 75) & (indata.loc[i,'SOK']<= 100):\n",
    "            indata.loc[i,'Signal'] = 'Sell'\n",
    "        else:\n",
    "            indata.loc[i,'Signal'] = 'NA'\n",
    "         \n",
    "    return indata"
   ]
  },
  {
   "cell_type": "markdown",
   "metadata": {},
   "source": [
    "### Investment"
   ]
  },
  {
   "cell_type": "code",
   "execution_count": 29,
   "metadata": {},
   "outputs": [
    {
     "name": "stdout",
     "output_type": "stream",
     "text": [
      "Enter the file : IDBI\n"
     ]
    }
   ],
   "source": [
    "file = input(\"Enter the file : \")\n",
    "invest = 1000000"
   ]
  },
  {
   "cell_type": "code",
   "execution_count": 11,
   "metadata": {},
   "outputs": [
    {
     "name": "stdout",
     "output_type": "stream",
     "text": [
      "Start Date (YYYY-MM-DD): 2005-01-03\n"
     ]
    }
   ],
   "source": [
    "start_date = input(\"Start Date (YYYY-MM-DD): \")"
   ]
  },
  {
   "cell_type": "code",
   "execution_count": 6,
   "metadata": {},
   "outputs": [
    {
     "name": "stdout",
     "output_type": "stream",
     "text": [
      "End Date (YYYY-MM-DD): 2005-06-30\n"
     ]
    }
   ],
   "source": [
    "end_date = input(\"End Date (YYYY-MM-DD): \")"
   ]
  },
  {
   "cell_type": "code",
   "execution_count": 30,
   "metadata": {},
   "outputs": [
    {
     "name": "stdout",
     "output_type": "stream",
     "text": [
      "  Symbol       Date  Prev Close  Open Price  High Price  Low Price  \\\n",
      "0   IDBI 2000-01-03       36.90       39.85       39.85      39.85   \n",
      "1   IDBI 2000-01-04       39.85       43.05       43.05      38.00   \n",
      "2   IDBI 2000-01-05       42.10       41.00       43.00      39.00   \n",
      "3   IDBI 2000-01-06       39.45       39.10       41.50      37.70   \n",
      "4   IDBI 2000-01-07       38.65       39.20       39.20      37.50   \n",
      "\n",
      "   Last Price  Close Price  \n",
      "0       39.85        39.85  \n",
      "1       42.90        42.10  \n",
      "2       39.95        39.45  \n",
      "3       38.70        38.65  \n",
      "4       38.00        37.80  \n"
     ]
    },
    {
     "data": {
      "text/html": [
       "<div>\n",
       "<style scoped>\n",
       "    .dataframe tbody tr th:only-of-type {\n",
       "        vertical-align: middle;\n",
       "    }\n",
       "\n",
       "    .dataframe tbody tr th {\n",
       "        vertical-align: top;\n",
       "    }\n",
       "\n",
       "    .dataframe thead th {\n",
       "        text-align: right;\n",
       "    }\n",
       "</style>\n",
       "<table border=\"1\" class=\"dataframe\">\n",
       "  <thead>\n",
       "    <tr style=\"text-align: right;\">\n",
       "      <th></th>\n",
       "      <th>Date</th>\n",
       "      <th>Open Price</th>\n",
       "      <th>High Price</th>\n",
       "      <th>Low Price</th>\n",
       "      <th>Close Price</th>\n",
       "      <th>Volume</th>\n",
       "      <th>Turnover</th>\n",
       "    </tr>\n",
       "  </thead>\n",
       "  <tbody>\n",
       "    <tr>\n",
       "      <th>0</th>\n",
       "      <td>2000-01-01</td>\n",
       "      <td>NaN</td>\n",
       "      <td>NaN</td>\n",
       "      <td>NaN</td>\n",
       "      <td>1000.00</td>\n",
       "      <td>NaN</td>\n",
       "      <td>NaN</td>\n",
       "    </tr>\n",
       "    <tr>\n",
       "      <th>1</th>\n",
       "      <td>2000-03-01</td>\n",
       "      <td>NaN</td>\n",
       "      <td>NaN</td>\n",
       "      <td>NaN</td>\n",
       "      <td>1054.81</td>\n",
       "      <td>NaN</td>\n",
       "      <td>NaN</td>\n",
       "    </tr>\n",
       "    <tr>\n",
       "      <th>2</th>\n",
       "      <td>2000-04-01</td>\n",
       "      <td>NaN</td>\n",
       "      <td>NaN</td>\n",
       "      <td>NaN</td>\n",
       "      <td>1092.08</td>\n",
       "      <td>NaN</td>\n",
       "      <td>NaN</td>\n",
       "    </tr>\n",
       "    <tr>\n",
       "      <th>3</th>\n",
       "      <td>2000-05-01</td>\n",
       "      <td>NaN</td>\n",
       "      <td>NaN</td>\n",
       "      <td>NaN</td>\n",
       "      <td>1055.99</td>\n",
       "      <td>NaN</td>\n",
       "      <td>NaN</td>\n",
       "    </tr>\n",
       "    <tr>\n",
       "      <th>4</th>\n",
       "      <td>2000-06-01</td>\n",
       "      <td>NaN</td>\n",
       "      <td>NaN</td>\n",
       "      <td>NaN</td>\n",
       "      <td>1086.67</td>\n",
       "      <td>NaN</td>\n",
       "      <td>NaN</td>\n",
       "    </tr>\n",
       "  </tbody>\n",
       "</table>\n",
       "</div>"
      ],
      "text/plain": [
       "        Date  Open Price  High Price  Low Price  Close Price  Volume  Turnover\n",
       "0 2000-01-01         NaN         NaN        NaN      1000.00     NaN       NaN\n",
       "1 2000-03-01         NaN         NaN        NaN      1054.81     NaN       NaN\n",
       "2 2000-04-01         NaN         NaN        NaN      1092.08     NaN       NaN\n",
       "3 2000-05-01         NaN         NaN        NaN      1055.99     NaN       NaN\n",
       "4 2000-06-01         NaN         NaN        NaN      1086.67     NaN       NaN"
      ]
     },
     "execution_count": 30,
     "metadata": {},
     "output_type": "execute_result"
    }
   ],
   "source": [
    "data = pd.read_excel(f\"{file}.xlsx\")\n",
    "indata = copy.deepcopy(data)\n",
    "indata['Date']=pd.to_datetime(indata['Date'])\n",
    "indata=indata.drop(columns=['Total Traded Quantity', 'Turnover', 'No. of Trades', 'Deliverable Qty','Series','% Dly Qt to Traded Qty','Average Price'])\n",
    "print(indata.head())\n",
    "\n",
    "Benchmark = pd.read_csv(\"Banknifty.csv\")\n",
    "Benchmark['Date']=pd.to_datetime(Benchmark['Date'])\n",
    "Benchmark.head()"
   ]
  },
  {
   "cell_type": "code",
   "execution_count": 31,
   "metadata": {},
   "outputs": [],
   "source": [
    "indata = Indicator(indata, 14)"
   ]
  },
  {
   "cell_type": "code",
   "execution_count": 32,
   "metadata": {},
   "outputs": [
    {
     "data": {
      "text/html": [
       "<div>\n",
       "<style scoped>\n",
       "    .dataframe tbody tr th:only-of-type {\n",
       "        vertical-align: middle;\n",
       "    }\n",
       "\n",
       "    .dataframe tbody tr th {\n",
       "        vertical-align: top;\n",
       "    }\n",
       "\n",
       "    .dataframe thead th {\n",
       "        text-align: right;\n",
       "    }\n",
       "</style>\n",
       "<table border=\"1\" class=\"dataframe\">\n",
       "  <thead>\n",
       "    <tr style=\"text-align: right;\">\n",
       "      <th></th>\n",
       "      <th>Symbol</th>\n",
       "      <th>Date</th>\n",
       "      <th>Prev Close</th>\n",
       "      <th>Open Price</th>\n",
       "      <th>High Price</th>\n",
       "      <th>Low Price</th>\n",
       "      <th>Last Price</th>\n",
       "      <th>Close Price</th>\n",
       "      <th>HL</th>\n",
       "      <th>absHC</th>\n",
       "      <th>...</th>\n",
       "      <th>Zero</th>\n",
       "      <th>+DM</th>\n",
       "      <th>-DM</th>\n",
       "      <th>+DI</th>\n",
       "      <th>-DI</th>\n",
       "      <th>ADX</th>\n",
       "      <th>Trend Signal</th>\n",
       "      <th>SOK</th>\n",
       "      <th>SOD</th>\n",
       "      <th>Signal</th>\n",
       "    </tr>\n",
       "  </thead>\n",
       "  <tbody>\n",
       "    <tr>\n",
       "      <th>0</th>\n",
       "      <td>IDBI</td>\n",
       "      <td>2000-01-03</td>\n",
       "      <td>36.90</td>\n",
       "      <td>39.85</td>\n",
       "      <td>39.85</td>\n",
       "      <td>39.85</td>\n",
       "      <td>39.85</td>\n",
       "      <td>39.85</td>\n",
       "      <td>0.00</td>\n",
       "      <td>0.00</td>\n",
       "      <td>...</td>\n",
       "      <td>0</td>\n",
       "      <td>0.00</td>\n",
       "      <td>0.00</td>\n",
       "      <td>NaN</td>\n",
       "      <td>NaN</td>\n",
       "      <td>NaN</td>\n",
       "      <td>Trendless</td>\n",
       "      <td>NaN</td>\n",
       "      <td>NaN</td>\n",
       "      <td>NA</td>\n",
       "    </tr>\n",
       "    <tr>\n",
       "      <th>1</th>\n",
       "      <td>IDBI</td>\n",
       "      <td>2000-01-04</td>\n",
       "      <td>39.85</td>\n",
       "      <td>43.05</td>\n",
       "      <td>43.05</td>\n",
       "      <td>38.00</td>\n",
       "      <td>42.90</td>\n",
       "      <td>42.10</td>\n",
       "      <td>5.05</td>\n",
       "      <td>3.20</td>\n",
       "      <td>...</td>\n",
       "      <td>0</td>\n",
       "      <td>3.20</td>\n",
       "      <td>0.00</td>\n",
       "      <td>NaN</td>\n",
       "      <td>NaN</td>\n",
       "      <td>NaN</td>\n",
       "      <td>Trendless</td>\n",
       "      <td>NaN</td>\n",
       "      <td>NaN</td>\n",
       "      <td>NA</td>\n",
       "    </tr>\n",
       "    <tr>\n",
       "      <th>2</th>\n",
       "      <td>IDBI</td>\n",
       "      <td>2000-01-05</td>\n",
       "      <td>42.10</td>\n",
       "      <td>41.00</td>\n",
       "      <td>43.00</td>\n",
       "      <td>39.00</td>\n",
       "      <td>39.95</td>\n",
       "      <td>39.45</td>\n",
       "      <td>4.00</td>\n",
       "      <td>0.90</td>\n",
       "      <td>...</td>\n",
       "      <td>0</td>\n",
       "      <td>0.00</td>\n",
       "      <td>0.00</td>\n",
       "      <td>NaN</td>\n",
       "      <td>NaN</td>\n",
       "      <td>NaN</td>\n",
       "      <td>Trendless</td>\n",
       "      <td>NaN</td>\n",
       "      <td>NaN</td>\n",
       "      <td>NA</td>\n",
       "    </tr>\n",
       "    <tr>\n",
       "      <th>3</th>\n",
       "      <td>IDBI</td>\n",
       "      <td>2000-01-06</td>\n",
       "      <td>39.45</td>\n",
       "      <td>39.10</td>\n",
       "      <td>41.50</td>\n",
       "      <td>37.70</td>\n",
       "      <td>38.70</td>\n",
       "      <td>38.65</td>\n",
       "      <td>3.80</td>\n",
       "      <td>2.05</td>\n",
       "      <td>...</td>\n",
       "      <td>0</td>\n",
       "      <td>0.00</td>\n",
       "      <td>1.30</td>\n",
       "      <td>NaN</td>\n",
       "      <td>NaN</td>\n",
       "      <td>NaN</td>\n",
       "      <td>Trendless</td>\n",
       "      <td>NaN</td>\n",
       "      <td>NaN</td>\n",
       "      <td>NA</td>\n",
       "    </tr>\n",
       "    <tr>\n",
       "      <th>4</th>\n",
       "      <td>IDBI</td>\n",
       "      <td>2000-01-07</td>\n",
       "      <td>38.65</td>\n",
       "      <td>39.20</td>\n",
       "      <td>39.20</td>\n",
       "      <td>37.50</td>\n",
       "      <td>38.00</td>\n",
       "      <td>37.80</td>\n",
       "      <td>1.70</td>\n",
       "      <td>0.55</td>\n",
       "      <td>...</td>\n",
       "      <td>0</td>\n",
       "      <td>0.00</td>\n",
       "      <td>0.20</td>\n",
       "      <td>NaN</td>\n",
       "      <td>NaN</td>\n",
       "      <td>NaN</td>\n",
       "      <td>Trendless</td>\n",
       "      <td>NaN</td>\n",
       "      <td>NaN</td>\n",
       "      <td>NA</td>\n",
       "    </tr>\n",
       "    <tr>\n",
       "      <th>5</th>\n",
       "      <td>IDBI</td>\n",
       "      <td>2000-01-10</td>\n",
       "      <td>37.80</td>\n",
       "      <td>38.50</td>\n",
       "      <td>38.55</td>\n",
       "      <td>37.55</td>\n",
       "      <td>37.75</td>\n",
       "      <td>37.75</td>\n",
       "      <td>1.00</td>\n",
       "      <td>0.75</td>\n",
       "      <td>...</td>\n",
       "      <td>0</td>\n",
       "      <td>0.00</td>\n",
       "      <td>0.00</td>\n",
       "      <td>NaN</td>\n",
       "      <td>NaN</td>\n",
       "      <td>NaN</td>\n",
       "      <td>Trendless</td>\n",
       "      <td>NaN</td>\n",
       "      <td>NaN</td>\n",
       "      <td>NA</td>\n",
       "    </tr>\n",
       "    <tr>\n",
       "      <th>6</th>\n",
       "      <td>IDBI</td>\n",
       "      <td>2000-01-11</td>\n",
       "      <td>37.75</td>\n",
       "      <td>38.40</td>\n",
       "      <td>38.75</td>\n",
       "      <td>36.00</td>\n",
       "      <td>36.25</td>\n",
       "      <td>36.25</td>\n",
       "      <td>2.75</td>\n",
       "      <td>1.00</td>\n",
       "      <td>...</td>\n",
       "      <td>0</td>\n",
       "      <td>0.00</td>\n",
       "      <td>1.55</td>\n",
       "      <td>NaN</td>\n",
       "      <td>NaN</td>\n",
       "      <td>NaN</td>\n",
       "      <td>Trendless</td>\n",
       "      <td>NaN</td>\n",
       "      <td>NaN</td>\n",
       "      <td>NA</td>\n",
       "    </tr>\n",
       "    <tr>\n",
       "      <th>7</th>\n",
       "      <td>IDBI</td>\n",
       "      <td>2000-01-12</td>\n",
       "      <td>36.25</td>\n",
       "      <td>37.95</td>\n",
       "      <td>37.95</td>\n",
       "      <td>36.90</td>\n",
       "      <td>37.45</td>\n",
       "      <td>37.40</td>\n",
       "      <td>1.05</td>\n",
       "      <td>1.70</td>\n",
       "      <td>...</td>\n",
       "      <td>0</td>\n",
       "      <td>0.00</td>\n",
       "      <td>0.00</td>\n",
       "      <td>NaN</td>\n",
       "      <td>NaN</td>\n",
       "      <td>NaN</td>\n",
       "      <td>Trendless</td>\n",
       "      <td>NaN</td>\n",
       "      <td>NaN</td>\n",
       "      <td>NA</td>\n",
       "    </tr>\n",
       "    <tr>\n",
       "      <th>8</th>\n",
       "      <td>IDBI</td>\n",
       "      <td>2000-01-13</td>\n",
       "      <td>37.40</td>\n",
       "      <td>37.95</td>\n",
       "      <td>38.00</td>\n",
       "      <td>36.70</td>\n",
       "      <td>36.95</td>\n",
       "      <td>36.85</td>\n",
       "      <td>1.30</td>\n",
       "      <td>0.60</td>\n",
       "      <td>...</td>\n",
       "      <td>0</td>\n",
       "      <td>0.00</td>\n",
       "      <td>0.20</td>\n",
       "      <td>NaN</td>\n",
       "      <td>NaN</td>\n",
       "      <td>NaN</td>\n",
       "      <td>Trendless</td>\n",
       "      <td>NaN</td>\n",
       "      <td>NaN</td>\n",
       "      <td>NA</td>\n",
       "    </tr>\n",
       "    <tr>\n",
       "      <th>9</th>\n",
       "      <td>IDBI</td>\n",
       "      <td>2000-01-14</td>\n",
       "      <td>36.85</td>\n",
       "      <td>37.75</td>\n",
       "      <td>37.75</td>\n",
       "      <td>36.55</td>\n",
       "      <td>37.00</td>\n",
       "      <td>36.80</td>\n",
       "      <td>1.20</td>\n",
       "      <td>0.90</td>\n",
       "      <td>...</td>\n",
       "      <td>0</td>\n",
       "      <td>0.00</td>\n",
       "      <td>0.15</td>\n",
       "      <td>NaN</td>\n",
       "      <td>NaN</td>\n",
       "      <td>NaN</td>\n",
       "      <td>Trendless</td>\n",
       "      <td>NaN</td>\n",
       "      <td>NaN</td>\n",
       "      <td>NA</td>\n",
       "    </tr>\n",
       "    <tr>\n",
       "      <th>10</th>\n",
       "      <td>IDBI</td>\n",
       "      <td>2000-01-17</td>\n",
       "      <td>36.80</td>\n",
       "      <td>37.75</td>\n",
       "      <td>38.10</td>\n",
       "      <td>37.00</td>\n",
       "      <td>37.00</td>\n",
       "      <td>37.15</td>\n",
       "      <td>1.10</td>\n",
       "      <td>1.30</td>\n",
       "      <td>...</td>\n",
       "      <td>0</td>\n",
       "      <td>0.35</td>\n",
       "      <td>0.00</td>\n",
       "      <td>NaN</td>\n",
       "      <td>NaN</td>\n",
       "      <td>NaN</td>\n",
       "      <td>Trendless</td>\n",
       "      <td>NaN</td>\n",
       "      <td>NaN</td>\n",
       "      <td>NA</td>\n",
       "    </tr>\n",
       "    <tr>\n",
       "      <th>11</th>\n",
       "      <td>IDBI</td>\n",
       "      <td>2000-01-18</td>\n",
       "      <td>37.15</td>\n",
       "      <td>37.50</td>\n",
       "      <td>37.50</td>\n",
       "      <td>36.75</td>\n",
       "      <td>37.15</td>\n",
       "      <td>37.05</td>\n",
       "      <td>0.75</td>\n",
       "      <td>0.35</td>\n",
       "      <td>...</td>\n",
       "      <td>0</td>\n",
       "      <td>0.00</td>\n",
       "      <td>0.25</td>\n",
       "      <td>NaN</td>\n",
       "      <td>NaN</td>\n",
       "      <td>NaN</td>\n",
       "      <td>Trendless</td>\n",
       "      <td>NaN</td>\n",
       "      <td>NaN</td>\n",
       "      <td>NA</td>\n",
       "    </tr>\n",
       "    <tr>\n",
       "      <th>12</th>\n",
       "      <td>IDBI</td>\n",
       "      <td>2000-01-19</td>\n",
       "      <td>37.05</td>\n",
       "      <td>37.85</td>\n",
       "      <td>37.85</td>\n",
       "      <td>37.00</td>\n",
       "      <td>37.30</td>\n",
       "      <td>37.40</td>\n",
       "      <td>0.85</td>\n",
       "      <td>0.80</td>\n",
       "      <td>...</td>\n",
       "      <td>0</td>\n",
       "      <td>0.35</td>\n",
       "      <td>0.00</td>\n",
       "      <td>NaN</td>\n",
       "      <td>NaN</td>\n",
       "      <td>NaN</td>\n",
       "      <td>Trendless</td>\n",
       "      <td>NaN</td>\n",
       "      <td>NaN</td>\n",
       "      <td>NA</td>\n",
       "    </tr>\n",
       "    <tr>\n",
       "      <th>13</th>\n",
       "      <td>IDBI</td>\n",
       "      <td>2000-01-20</td>\n",
       "      <td>37.40</td>\n",
       "      <td>37.90</td>\n",
       "      <td>37.90</td>\n",
       "      <td>37.00</td>\n",
       "      <td>37.20</td>\n",
       "      <td>37.15</td>\n",
       "      <td>0.90</td>\n",
       "      <td>0.50</td>\n",
       "      <td>...</td>\n",
       "      <td>0</td>\n",
       "      <td>0.05</td>\n",
       "      <td>0.00</td>\n",
       "      <td>2.661597</td>\n",
       "      <td>0.000000</td>\n",
       "      <td>100.000000</td>\n",
       "      <td>Uptrend</td>\n",
       "      <td>3.444782</td>\n",
       "      <td>NaN</td>\n",
       "      <td>NA</td>\n",
       "    </tr>\n",
       "    <tr>\n",
       "      <th>14</th>\n",
       "      <td>IDBI</td>\n",
       "      <td>2000-01-21</td>\n",
       "      <td>37.15</td>\n",
       "      <td>37.00</td>\n",
       "      <td>37.50</td>\n",
       "      <td>36.60</td>\n",
       "      <td>37.50</td>\n",
       "      <td>37.40</td>\n",
       "      <td>0.90</td>\n",
       "      <td>0.35</td>\n",
       "      <td>...</td>\n",
       "      <td>0</td>\n",
       "      <td>0.00</td>\n",
       "      <td>0.40</td>\n",
       "      <td>1.235741</td>\n",
       "      <td>11.029412</td>\n",
       "      <td>89.205119</td>\n",
       "      <td>Short Trade</td>\n",
       "      <td>3.394124</td>\n",
       "      <td>NaN</td>\n",
       "      <td>NA</td>\n",
       "    </tr>\n",
       "    <tr>\n",
       "      <th>15</th>\n",
       "      <td>IDBI</td>\n",
       "      <td>2000-01-24</td>\n",
       "      <td>37.40</td>\n",
       "      <td>37.75</td>\n",
       "      <td>37.75</td>\n",
       "      <td>36.60</td>\n",
       "      <td>37.00</td>\n",
       "      <td>37.00</td>\n",
       "      <td>1.15</td>\n",
       "      <td>0.35</td>\n",
       "      <td>...</td>\n",
       "      <td>0</td>\n",
       "      <td>0.25</td>\n",
       "      <td>0.00</td>\n",
       "      <td>6.501932</td>\n",
       "      <td>6.816139</td>\n",
       "      <td>56.029702</td>\n",
       "      <td>Short Trade</td>\n",
       "      <td>0.867347</td>\n",
       "      <td>2.568751</td>\n",
       "      <td>NA</td>\n",
       "    </tr>\n",
       "    <tr>\n",
       "      <th>16</th>\n",
       "      <td>IDBI</td>\n",
       "      <td>2000-01-25</td>\n",
       "      <td>37.00</td>\n",
       "      <td>36.70</td>\n",
       "      <td>37.40</td>\n",
       "      <td>36.70</td>\n",
       "      <td>37.00</td>\n",
       "      <td>37.15</td>\n",
       "      <td>0.70</td>\n",
       "      <td>0.40</td>\n",
       "      <td>...</td>\n",
       "      <td>0</td>\n",
       "      <td>0.00</td>\n",
       "      <td>0.00</td>\n",
       "      <td>4.512808</td>\n",
       "      <td>4.730890</td>\n",
       "      <td>39.610397</td>\n",
       "      <td>Short Trade</td>\n",
       "      <td>4.610390</td>\n",
       "      <td>2.957287</td>\n",
       "      <td>NA</td>\n",
       "    </tr>\n",
       "    <tr>\n",
       "      <th>17</th>\n",
       "      <td>IDBI</td>\n",
       "      <td>2000-01-27</td>\n",
       "      <td>37.15</td>\n",
       "      <td>37.50</td>\n",
       "      <td>39.50</td>\n",
       "      <td>37.35</td>\n",
       "      <td>39.00</td>\n",
       "      <td>39.00</td>\n",
       "      <td>2.15</td>\n",
       "      <td>2.35</td>\n",
       "      <td>...</td>\n",
       "      <td>0</td>\n",
       "      <td>2.10</td>\n",
       "      <td>0.00</td>\n",
       "      <td>44.685369</td>\n",
       "      <td>3.496608</td>\n",
       "      <td>51.579226</td>\n",
       "      <td>Uptrend</td>\n",
       "      <td>60.816327</td>\n",
       "      <td>22.098021</td>\n",
       "      <td>NA</td>\n",
       "    </tr>\n",
       "    <tr>\n",
       "      <th>18</th>\n",
       "      <td>IDBI</td>\n",
       "      <td>2000-01-28</td>\n",
       "      <td>39.00</td>\n",
       "      <td>39.95</td>\n",
       "      <td>42.15</td>\n",
       "      <td>39.10</td>\n",
       "      <td>41.00</td>\n",
       "      <td>40.90</td>\n",
       "      <td>3.05</td>\n",
       "      <td>3.15</td>\n",
       "      <td>...</td>\n",
       "      <td>0</td>\n",
       "      <td>2.65</td>\n",
       "      <td>0.00</td>\n",
       "      <td>77.267364</td>\n",
       "      <td>2.687555</td>\n",
       "      <td>61.227423</td>\n",
       "      <td>Uptrend</td>\n",
       "      <td>63.646922</td>\n",
       "      <td>43.024546</td>\n",
       "      <td>NA</td>\n",
       "    </tr>\n",
       "    <tr>\n",
       "      <th>19</th>\n",
       "      <td>IDBI</td>\n",
       "      <td>2000-01-31</td>\n",
       "      <td>40.90</td>\n",
       "      <td>42.00</td>\n",
       "      <td>42.00</td>\n",
       "      <td>37.65</td>\n",
       "      <td>37.65</td>\n",
       "      <td>37.95</td>\n",
       "      <td>4.35</td>\n",
       "      <td>1.10</td>\n",
       "      <td>...</td>\n",
       "      <td>0</td>\n",
       "      <td>0.00</td>\n",
       "      <td>1.45</td>\n",
       "      <td>60.985492</td>\n",
       "      <td>20.440889</td>\n",
       "      <td>58.817938</td>\n",
       "      <td>Uptrend</td>\n",
       "      <td>15.563298</td>\n",
       "      <td>46.675516</td>\n",
       "      <td>Buy</td>\n",
       "    </tr>\n",
       "    <tr>\n",
       "      <th>20</th>\n",
       "      <td>IDBI</td>\n",
       "      <td>2000-02-01</td>\n",
       "      <td>37.95</td>\n",
       "      <td>37.05</td>\n",
       "      <td>37.55</td>\n",
       "      <td>34.95</td>\n",
       "      <td>36.70</td>\n",
       "      <td>36.35</td>\n",
       "      <td>2.60</td>\n",
       "      <td>0.40</td>\n",
       "      <td>...</td>\n",
       "      <td>0</td>\n",
       "      <td>0.00</td>\n",
       "      <td>2.70</td>\n",
       "      <td>49.057628</td>\n",
       "      <td>47.769746</td>\n",
       "      <td>47.574160</td>\n",
       "      <td>Uptrend</td>\n",
       "      <td>7.886905</td>\n",
       "      <td>29.032375</td>\n",
       "      <td>NA</td>\n",
       "    </tr>\n",
       "    <tr>\n",
       "      <th>21</th>\n",
       "      <td>IDBI</td>\n",
       "      <td>2000-02-02</td>\n",
       "      <td>36.35</td>\n",
       "      <td>37.40</td>\n",
       "      <td>39.30</td>\n",
       "      <td>36.50</td>\n",
       "      <td>36.70</td>\n",
       "      <td>36.55</td>\n",
       "      <td>2.80</td>\n",
       "      <td>2.95</td>\n",
       "      <td>...</td>\n",
       "      <td>0</td>\n",
       "      <td>1.75</td>\n",
       "      <td>0.00</td>\n",
       "      <td>58.177974</td>\n",
       "      <td>38.974226</td>\n",
       "      <td>42.454153</td>\n",
       "      <td>Uptrend</td>\n",
       "      <td>4.712302</td>\n",
       "      <td>9.387502</td>\n",
       "      <td>NA</td>\n",
       "    </tr>\n",
       "    <tr>\n",
       "      <th>22</th>\n",
       "      <td>IDBI</td>\n",
       "      <td>2000-02-03</td>\n",
       "      <td>36.55</td>\n",
       "      <td>37.50</td>\n",
       "      <td>38.50</td>\n",
       "      <td>36.20</td>\n",
       "      <td>36.80</td>\n",
       "      <td>36.75</td>\n",
       "      <td>2.30</td>\n",
       "      <td>1.95</td>\n",
       "      <td>...</td>\n",
       "      <td>0</td>\n",
       "      <td>0.00</td>\n",
       "      <td>0.30</td>\n",
       "      <td>47.983817</td>\n",
       "      <td>34.991980</td>\n",
       "      <td>37.758725</td>\n",
       "      <td>Uptrend</td>\n",
       "      <td>1.438492</td>\n",
       "      <td>4.679233</td>\n",
       "      <td>NA</td>\n",
       "    </tr>\n",
       "    <tr>\n",
       "      <th>23</th>\n",
       "      <td>IDBI</td>\n",
       "      <td>2000-02-04</td>\n",
       "      <td>36.75</td>\n",
       "      <td>37.20</td>\n",
       "      <td>38.10</td>\n",
       "      <td>36.75</td>\n",
       "      <td>37.20</td>\n",
       "      <td>36.95</td>\n",
       "      <td>1.35</td>\n",
       "      <td>1.35</td>\n",
       "      <td>...</td>\n",
       "      <td>0</td>\n",
       "      <td>0.00</td>\n",
       "      <td>0.00</td>\n",
       "      <td>39.913966</td>\n",
       "      <td>29.107078</td>\n",
       "      <td>34.041752</td>\n",
       "      <td>Uptrend</td>\n",
       "      <td>1.140873</td>\n",
       "      <td>2.430556</td>\n",
       "      <td>NA</td>\n",
       "    </tr>\n",
       "    <tr>\n",
       "      <th>24</th>\n",
       "      <td>IDBI</td>\n",
       "      <td>2000-02-07</td>\n",
       "      <td>36.95</td>\n",
       "      <td>37.40</td>\n",
       "      <td>37.85</td>\n",
       "      <td>36.50</td>\n",
       "      <td>36.95</td>\n",
       "      <td>36.80</td>\n",
       "      <td>1.35</td>\n",
       "      <td>0.90</td>\n",
       "      <td>...</td>\n",
       "      <td>0</td>\n",
       "      <td>0.00</td>\n",
       "      <td>0.25</td>\n",
       "      <td>33.427320</td>\n",
       "      <td>26.560233</td>\n",
       "      <td>30.369835</td>\n",
       "      <td>Uptrend</td>\n",
       "      <td>0.446429</td>\n",
       "      <td>1.008598</td>\n",
       "      <td>NA</td>\n",
       "    </tr>\n",
       "    <tr>\n",
       "      <th>25</th>\n",
       "      <td>IDBI</td>\n",
       "      <td>2000-02-08</td>\n",
       "      <td>36.80</td>\n",
       "      <td>37.40</td>\n",
       "      <td>37.80</td>\n",
       "      <td>35.10</td>\n",
       "      <td>35.85</td>\n",
       "      <td>35.60</td>\n",
       "      <td>2.70</td>\n",
       "      <td>1.00</td>\n",
       "      <td>...</td>\n",
       "      <td>0</td>\n",
       "      <td>0.00</td>\n",
       "      <td>1.40</td>\n",
       "      <td>28.148893</td>\n",
       "      <td>33.419702</td>\n",
       "      <td>26.926034</td>\n",
       "      <td>Short Trade</td>\n",
       "      <td>15.476190</td>\n",
       "      <td>5.687831</td>\n",
       "      <td>NA</td>\n",
       "    </tr>\n",
       "    <tr>\n",
       "      <th>26</th>\n",
       "      <td>IDBI</td>\n",
       "      <td>2000-02-09</td>\n",
       "      <td>35.60</td>\n",
       "      <td>36.50</td>\n",
       "      <td>37.45</td>\n",
       "      <td>36.00</td>\n",
       "      <td>36.25</td>\n",
       "      <td>36.25</td>\n",
       "      <td>1.45</td>\n",
       "      <td>1.85</td>\n",
       "      <td>...</td>\n",
       "      <td>0</td>\n",
       "      <td>0.00</td>\n",
       "      <td>0.00</td>\n",
       "      <td>23.810580</td>\n",
       "      <td>28.269051</td>\n",
       "      <td>24.095592</td>\n",
       "      <td>Trendless</td>\n",
       "      <td>5.456349</td>\n",
       "      <td>7.126323</td>\n",
       "      <td>NA</td>\n",
       "    </tr>\n",
       "    <tr>\n",
       "      <th>27</th>\n",
       "      <td>IDBI</td>\n",
       "      <td>2000-02-10</td>\n",
       "      <td>36.25</td>\n",
       "      <td>35.05</td>\n",
       "      <td>36.35</td>\n",
       "      <td>34.25</td>\n",
       "      <td>36.00</td>\n",
       "      <td>35.95</td>\n",
       "      <td>2.10</td>\n",
       "      <td>0.10</td>\n",
       "      <td>...</td>\n",
       "      <td>0</td>\n",
       "      <td>0.00</td>\n",
       "      <td>1.75</td>\n",
       "      <td>20.215617</td>\n",
       "      <td>36.249460</td>\n",
       "      <td>24.744880</td>\n",
       "      <td>Trendless</td>\n",
       "      <td>6.283906</td>\n",
       "      <td>9.072149</td>\n",
       "      <td>NA</td>\n",
       "    </tr>\n",
       "    <tr>\n",
       "      <th>28</th>\n",
       "      <td>IDBI</td>\n",
       "      <td>2000-02-11</td>\n",
       "      <td>35.95</td>\n",
       "      <td>36.50</td>\n",
       "      <td>37.40</td>\n",
       "      <td>35.00</td>\n",
       "      <td>35.50</td>\n",
       "      <td>35.30</td>\n",
       "      <td>2.40</td>\n",
       "      <td>1.45</td>\n",
       "      <td>...</td>\n",
       "      <td>0</td>\n",
       "      <td>1.05</td>\n",
       "      <td>0.00</td>\n",
       "      <td>24.096302</td>\n",
       "      <td>30.871368</td>\n",
       "      <td>22.902306</td>\n",
       "      <td>Trendless</td>\n",
       "      <td>13.065099</td>\n",
       "      <td>8.268452</td>\n",
       "      <td>NA</td>\n",
       "    </tr>\n",
       "    <tr>\n",
       "      <th>29</th>\n",
       "      <td>IDBI</td>\n",
       "      <td>2000-02-14</td>\n",
       "      <td>35.30</td>\n",
       "      <td>36.40</td>\n",
       "      <td>37.90</td>\n",
       "      <td>35.40</td>\n",
       "      <td>36.60</td>\n",
       "      <td>36.70</td>\n",
       "      <td>2.50</td>\n",
       "      <td>2.60</td>\n",
       "      <td>...</td>\n",
       "      <td>0</td>\n",
       "      <td>0.50</td>\n",
       "      <td>0.00</td>\n",
       "      <td>23.660702</td>\n",
       "      <td>26.359008</td>\n",
       "      <td>20.343249</td>\n",
       "      <td>Trendless</td>\n",
       "      <td>5.741410</td>\n",
       "      <td>8.363472</td>\n",
       "      <td>NA</td>\n",
       "    </tr>\n",
       "    <tr>\n",
       "      <th>30</th>\n",
       "      <td>IDBI</td>\n",
       "      <td>2000-02-15</td>\n",
       "      <td>36.70</td>\n",
       "      <td>36.80</td>\n",
       "      <td>37.00</td>\n",
       "      <td>35.25</td>\n",
       "      <td>35.60</td>\n",
       "      <td>35.60</td>\n",
       "      <td>1.75</td>\n",
       "      <td>0.30</td>\n",
       "      <td>...</td>\n",
       "      <td>0</td>\n",
       "      <td>0.00</td>\n",
       "      <td>0.15</td>\n",
       "      <td>20.246120</td>\n",
       "      <td>23.441163</td>\n",
       "      <td>18.462859</td>\n",
       "      <td>Trendless</td>\n",
       "      <td>6.871609</td>\n",
       "      <td>8.559373</td>\n",
       "      <td>NA</td>\n",
       "    </tr>\n",
       "    <tr>\n",
       "      <th>31</th>\n",
       "      <td>IDBI</td>\n",
       "      <td>2000-02-16</td>\n",
       "      <td>35.60</td>\n",
       "      <td>36.00</td>\n",
       "      <td>37.00</td>\n",
       "      <td>36.00</td>\n",
       "      <td>36.45</td>\n",
       "      <td>36.35</td>\n",
       "      <td>1.00</td>\n",
       "      <td>1.40</td>\n",
       "      <td>...</td>\n",
       "      <td>0</td>\n",
       "      <td>0.00</td>\n",
       "      <td>0.00</td>\n",
       "      <td>17.356048</td>\n",
       "      <td>20.095009</td>\n",
       "      <td>16.871314</td>\n",
       "      <td>Trendless</td>\n",
       "      <td>3.842676</td>\n",
       "      <td>5.485232</td>\n",
       "      <td>NA</td>\n",
       "    </tr>\n",
       "    <tr>\n",
       "      <th>32</th>\n",
       "      <td>IDBI</td>\n",
       "      <td>2000-02-17</td>\n",
       "      <td>36.35</td>\n",
       "      <td>36.00</td>\n",
       "      <td>36.50</td>\n",
       "      <td>35.00</td>\n",
       "      <td>36.00</td>\n",
       "      <td>35.90</td>\n",
       "      <td>1.50</td>\n",
       "      <td>0.15</td>\n",
       "      <td>...</td>\n",
       "      <td>0</td>\n",
       "      <td>0.00</td>\n",
       "      <td>1.00</td>\n",
       "      <td>14.901630</td>\n",
       "      <td>23.518512</td>\n",
       "      <td>17.657121</td>\n",
       "      <td>Trendless</td>\n",
       "      <td>1.889401</td>\n",
       "      <td>4.201229</td>\n",
       "      <td>NA</td>\n",
       "    </tr>\n",
       "    <tr>\n",
       "      <th>33</th>\n",
       "      <td>IDBI</td>\n",
       "      <td>2000-02-18</td>\n",
       "      <td>35.90</td>\n",
       "      <td>35.95</td>\n",
       "      <td>36.25</td>\n",
       "      <td>34.75</td>\n",
       "      <td>35.25</td>\n",
       "      <td>35.25</td>\n",
       "      <td>1.50</td>\n",
       "      <td>0.35</td>\n",
       "      <td>...</td>\n",
       "      <td>0</td>\n",
       "      <td>0.00</td>\n",
       "      <td>0.25</td>\n",
       "      <td>12.811201</td>\n",
       "      <td>21.927070</td>\n",
       "      <td>18.861364</td>\n",
       "      <td>Trendless</td>\n",
       "      <td>5.869873</td>\n",
       "      <td>3.867317</td>\n",
       "      <td>NA</td>\n",
       "    </tr>\n",
       "    <tr>\n",
       "      <th>34</th>\n",
       "      <td>IDBI</td>\n",
       "      <td>2000-02-21</td>\n",
       "      <td>35.25</td>\n",
       "      <td>35.00</td>\n",
       "      <td>35.50</td>\n",
       "      <td>33.50</td>\n",
       "      <td>35.20</td>\n",
       "      <td>35.20</td>\n",
       "      <td>2.00</td>\n",
       "      <td>0.25</td>\n",
       "      <td>...</td>\n",
       "      <td>0</td>\n",
       "      <td>0.00</td>\n",
       "      <td>1.25</td>\n",
       "      <td>11.026423</td>\n",
       "      <td>27.657885</td>\n",
       "      <td>22.223206</td>\n",
       "      <td>Trendless</td>\n",
       "      <td>4.187192</td>\n",
       "      <td>3.982155</td>\n",
       "      <td>NA</td>\n",
       "    </tr>\n",
       "    <tr>\n",
       "      <th>35</th>\n",
       "      <td>IDBI</td>\n",
       "      <td>2000-02-22</td>\n",
       "      <td>35.20</td>\n",
       "      <td>34.25</td>\n",
       "      <td>35.00</td>\n",
       "      <td>33.45</td>\n",
       "      <td>33.75</td>\n",
       "      <td>33.65</td>\n",
       "      <td>1.55</td>\n",
       "      <td>0.20</td>\n",
       "      <td>...</td>\n",
       "      <td>0</td>\n",
       "      <td>0.00</td>\n",
       "      <td>0.05</td>\n",
       "      <td>9.499422</td>\n",
       "      <td>24.192787</td>\n",
       "      <td>25.185050</td>\n",
       "      <td>Short Trade</td>\n",
       "      <td>31.188119</td>\n",
       "      <td>13.748395</td>\n",
       "      <td>NA</td>\n",
       "    </tr>\n",
       "    <tr>\n",
       "      <th>36</th>\n",
       "      <td>IDBI</td>\n",
       "      <td>2000-02-23</td>\n",
       "      <td>33.65</td>\n",
       "      <td>36.35</td>\n",
       "      <td>36.35</td>\n",
       "      <td>36.35</td>\n",
       "      <td>36.35</td>\n",
       "      <td>36.35</td>\n",
       "      <td>0.00</td>\n",
       "      <td>2.70</td>\n",
       "      <td>...</td>\n",
       "      <td>0</td>\n",
       "      <td>1.35</td>\n",
       "      <td>0.00</td>\n",
       "      <td>17.852830</td>\n",
       "      <td>20.859606</td>\n",
       "      <td>22.785258</td>\n",
       "      <td>Trendless</td>\n",
       "      <td>23.963134</td>\n",
       "      <td>19.779482</td>\n",
       "      <td>NA</td>\n",
       "    </tr>\n",
       "    <tr>\n",
       "      <th>37</th>\n",
       "      <td>IDBI</td>\n",
       "      <td>2000-02-24</td>\n",
       "      <td>36.35</td>\n",
       "      <td>39.30</td>\n",
       "      <td>39.30</td>\n",
       "      <td>39.30</td>\n",
       "      <td>39.30</td>\n",
       "      <td>39.30</td>\n",
       "      <td>0.00</td>\n",
       "      <td>2.95</td>\n",
       "      <td>...</td>\n",
       "      <td>0</td>\n",
       "      <td>2.95</td>\n",
       "      <td>0.00</td>\n",
       "      <td>35.246310</td>\n",
       "      <td>17.998368</td>\n",
       "      <td>24.103219</td>\n",
       "      <td>Trendless</td>\n",
       "      <td>66.361416</td>\n",
       "      <td>40.504223</td>\n",
       "      <td>NA</td>\n",
       "    </tr>\n",
       "    <tr>\n",
       "      <th>38</th>\n",
       "      <td>IDBI</td>\n",
       "      <td>2000-02-25</td>\n",
       "      <td>39.30</td>\n",
       "      <td>42.45</td>\n",
       "      <td>42.45</td>\n",
       "      <td>42.45</td>\n",
       "      <td>42.45</td>\n",
       "      <td>42.45</td>\n",
       "      <td>0.00</td>\n",
       "      <td>3.15</td>\n",
       "      <td>...</td>\n",
       "      <td>0</td>\n",
       "      <td>3.15</td>\n",
       "      <td>0.00</td>\n",
       "      <td>50.284993</td>\n",
       "      <td>15.539023</td>\n",
       "      <td>28.022532</td>\n",
       "      <td>Uptrend</td>\n",
       "      <td>73.412698</td>\n",
       "      <td>54.579083</td>\n",
       "      <td>NA</td>\n",
       "    </tr>\n",
       "    <tr>\n",
       "      <th>39</th>\n",
       "      <td>IDBI</td>\n",
       "      <td>2000-02-28</td>\n",
       "      <td>42.45</td>\n",
       "      <td>45.85</td>\n",
       "      <td>45.85</td>\n",
       "      <td>44.30</td>\n",
       "      <td>45.85</td>\n",
       "      <td>45.85</td>\n",
       "      <td>1.55</td>\n",
       "      <td>3.40</td>\n",
       "      <td>...</td>\n",
       "      <td>0</td>\n",
       "      <td>3.40</td>\n",
       "      <td>0.00</td>\n",
       "      <td>64.314963</td>\n",
       "      <td>13.422733</td>\n",
       "      <td>33.122114</td>\n",
       "      <td>Uptrend</td>\n",
       "      <td>75.403226</td>\n",
       "      <td>71.725780</td>\n",
       "      <td>NA</td>\n",
       "    </tr>\n",
       "    <tr>\n",
       "      <th>40</th>\n",
       "      <td>IDBI</td>\n",
       "      <td>2000-02-29</td>\n",
       "      <td>45.85</td>\n",
       "      <td>49.50</td>\n",
       "      <td>49.55</td>\n",
       "      <td>42.70</td>\n",
       "      <td>45.20</td>\n",
       "      <td>45.95</td>\n",
       "      <td>6.85</td>\n",
       "      <td>3.70</td>\n",
       "      <td>...</td>\n",
       "      <td>0</td>\n",
       "      <td>3.70</td>\n",
       "      <td>0.00</td>\n",
       "      <td>75.094298</td>\n",
       "      <td>11.599876</td>\n",
       "      <td>38.570212</td>\n",
       "      <td>Uptrend</td>\n",
       "      <td>55.723159</td>\n",
       "      <td>68.179694</td>\n",
       "      <td>NA</td>\n",
       "    </tr>\n",
       "    <tr>\n",
       "      <th>41</th>\n",
       "      <td>IDBI</td>\n",
       "      <td>2000-03-01</td>\n",
       "      <td>45.95</td>\n",
       "      <td>49.00</td>\n",
       "      <td>49.65</td>\n",
       "      <td>46.05</td>\n",
       "      <td>49.65</td>\n",
       "      <td>49.65</td>\n",
       "      <td>3.60</td>\n",
       "      <td>3.70</td>\n",
       "      <td>...</td>\n",
       "      <td>0</td>\n",
       "      <td>0.10</td>\n",
       "      <td>0.00</td>\n",
       "      <td>65.425078</td>\n",
       "      <td>10.028451</td>\n",
       "      <td>43.291038</td>\n",
       "      <td>Uptrend</td>\n",
       "      <td>73.015873</td>\n",
       "      <td>68.047419</td>\n",
       "      <td>NA</td>\n",
       "    </tr>\n",
       "    <tr>\n",
       "      <th>42</th>\n",
       "      <td>IDBI</td>\n",
       "      <td>2000-03-02</td>\n",
       "      <td>49.65</td>\n",
       "      <td>53.60</td>\n",
       "      <td>53.65</td>\n",
       "      <td>53.60</td>\n",
       "      <td>53.65</td>\n",
       "      <td>53.65</td>\n",
       "      <td>0.05</td>\n",
       "      <td>4.00</td>\n",
       "      <td>...</td>\n",
       "      <td>0</td>\n",
       "      <td>4.00</td>\n",
       "      <td>0.00</td>\n",
       "      <td>75.867773</td>\n",
       "      <td>8.672801</td>\n",
       "      <td>48.183415</td>\n",
       "      <td>Uptrend</td>\n",
       "      <td>71.782178</td>\n",
       "      <td>66.840403</td>\n",
       "      <td>NA</td>\n",
       "    </tr>\n",
       "    <tr>\n",
       "      <th>43</th>\n",
       "      <td>IDBI</td>\n",
       "      <td>2000-03-03</td>\n",
       "      <td>53.65</td>\n",
       "      <td>57.95</td>\n",
       "      <td>57.95</td>\n",
       "      <td>52.50</td>\n",
       "      <td>57.95</td>\n",
       "      <td>57.95</td>\n",
       "      <td>5.45</td>\n",
       "      <td>4.30</td>\n",
       "      <td>...</td>\n",
       "      <td>0</td>\n",
       "      <td>4.30</td>\n",
       "      <td>0.00</td>\n",
       "      <td>84.925040</td>\n",
       "      <td>7.502570</td>\n",
       "      <td>52.984549</td>\n",
       "      <td>Uptrend</td>\n",
       "      <td>71.749271</td>\n",
       "      <td>72.182441</td>\n",
       "      <td>NA</td>\n",
       "    </tr>\n",
       "    <tr>\n",
       "      <th>44</th>\n",
       "      <td>IDBI</td>\n",
       "      <td>2000-03-06</td>\n",
       "      <td>57.95</td>\n",
       "      <td>62.00</td>\n",
       "      <td>62.60</td>\n",
       "      <td>61.65</td>\n",
       "      <td>62.60</td>\n",
       "      <td>62.60</td>\n",
       "      <td>0.95</td>\n",
       "      <td>4.65</td>\n",
       "      <td>...</td>\n",
       "      <td>0</td>\n",
       "      <td>4.65</td>\n",
       "      <td>0.00</td>\n",
       "      <td>92.973187</td>\n",
       "      <td>6.491855</td>\n",
       "      <td>57.559759</td>\n",
       "      <td>Uptrend</td>\n",
       "      <td>69.786817</td>\n",
       "      <td>71.106089</td>\n",
       "      <td>NA</td>\n",
       "    </tr>\n",
       "    <tr>\n",
       "      <th>45</th>\n",
       "      <td>IDBI</td>\n",
       "      <td>2000-03-07</td>\n",
       "      <td>62.60</td>\n",
       "      <td>67.65</td>\n",
       "      <td>67.65</td>\n",
       "      <td>65.00</td>\n",
       "      <td>67.65</td>\n",
       "      <td>67.65</td>\n",
       "      <td>2.65</td>\n",
       "      <td>5.05</td>\n",
       "      <td>...</td>\n",
       "      <td>0</td>\n",
       "      <td>5.05</td>\n",
       "      <td>0.00</td>\n",
       "      <td>100.015902</td>\n",
       "      <td>5.618506</td>\n",
       "      <td>61.838159</td>\n",
       "      <td>Uptrend</td>\n",
       "      <td>68.191312</td>\n",
       "      <td>69.909133</td>\n",
       "      <td>NA</td>\n",
       "    </tr>\n",
       "    <tr>\n",
       "      <th>46</th>\n",
       "      <td>IDBI</td>\n",
       "      <td>2000-03-08</td>\n",
       "      <td>67.65</td>\n",
       "      <td>73.10</td>\n",
       "      <td>73.10</td>\n",
       "      <td>63.00</td>\n",
       "      <td>73.10</td>\n",
       "      <td>73.10</td>\n",
       "      <td>10.10</td>\n",
       "      <td>5.45</td>\n",
       "      <td>...</td>\n",
       "      <td>0</td>\n",
       "      <td>5.45</td>\n",
       "      <td>0.00</td>\n",
       "      <td>104.484913</td>\n",
       "      <td>4.863552</td>\n",
       "      <td>65.770650</td>\n",
       "      <td>Uptrend</td>\n",
       "      <td>67.519366</td>\n",
       "      <td>68.499165</td>\n",
       "      <td>NA</td>\n",
       "    </tr>\n",
       "    <tr>\n",
       "      <th>47</th>\n",
       "      <td>IDBI</td>\n",
       "      <td>2000-03-09</td>\n",
       "      <td>73.10</td>\n",
       "      <td>78.85</td>\n",
       "      <td>78.95</td>\n",
       "      <td>67.25</td>\n",
       "      <td>67.25</td>\n",
       "      <td>67.25</td>\n",
       "      <td>11.70</td>\n",
       "      <td>5.85</td>\n",
       "      <td>...</td>\n",
       "      <td>0</td>\n",
       "      <td>5.85</td>\n",
       "      <td>0.00</td>\n",
       "      <td>106.758551</td>\n",
       "      <td>4.210717</td>\n",
       "      <td>69.346589</td>\n",
       "      <td>Uptrend</td>\n",
       "      <td>40.879121</td>\n",
       "      <td>58.863266</td>\n",
       "      <td>NA</td>\n",
       "    </tr>\n",
       "    <tr>\n",
       "      <th>48</th>\n",
       "      <td>IDBI</td>\n",
       "      <td>2000-03-10</td>\n",
       "      <td>67.25</td>\n",
       "      <td>63.05</td>\n",
       "      <td>65.00</td>\n",
       "      <td>61.90</td>\n",
       "      <td>61.90</td>\n",
       "      <td>61.90</td>\n",
       "      <td>3.10</td>\n",
       "      <td>2.25</td>\n",
       "      <td>...</td>\n",
       "      <td>0</td>\n",
       "      <td>0.00</td>\n",
       "      <td>5.35</td>\n",
       "      <td>92.441180</td>\n",
       "      <td>17.833626</td>\n",
       "      <td>69.119868</td>\n",
       "      <td>Uptrend</td>\n",
       "      <td>24.662480</td>\n",
       "      <td>44.353656</td>\n",
       "      <td>Buy</td>\n",
       "    </tr>\n",
       "    <tr>\n",
       "      <th>49</th>\n",
       "      <td>IDBI</td>\n",
       "      <td>2000-03-13</td>\n",
       "      <td>61.90</td>\n",
       "      <td>56.95</td>\n",
       "      <td>59.15</td>\n",
       "      <td>56.95</td>\n",
       "      <td>56.95</td>\n",
       "      <td>56.95</td>\n",
       "      <td>2.20</td>\n",
       "      <td>2.75</td>\n",
       "      <td>...</td>\n",
       "      <td>0</td>\n",
       "      <td>0.00</td>\n",
       "      <td>4.95</td>\n",
       "      <td>80.053529</td>\n",
       "      <td>27.993276</td>\n",
       "      <td>66.314215</td>\n",
       "      <td>Uptrend</td>\n",
       "      <td>10.781355</td>\n",
       "      <td>25.440985</td>\n",
       "      <td>NA</td>\n",
       "    </tr>\n",
       "  </tbody>\n",
       "</table>\n",
       "<p>50 rows × 25 columns</p>\n",
       "</div>"
      ],
      "text/plain": [
       "   Symbol       Date  Prev Close  Open Price  High Price  Low Price  \\\n",
       "0    IDBI 2000-01-03       36.90       39.85       39.85      39.85   \n",
       "1    IDBI 2000-01-04       39.85       43.05       43.05      38.00   \n",
       "2    IDBI 2000-01-05       42.10       41.00       43.00      39.00   \n",
       "3    IDBI 2000-01-06       39.45       39.10       41.50      37.70   \n",
       "4    IDBI 2000-01-07       38.65       39.20       39.20      37.50   \n",
       "5    IDBI 2000-01-10       37.80       38.50       38.55      37.55   \n",
       "6    IDBI 2000-01-11       37.75       38.40       38.75      36.00   \n",
       "7    IDBI 2000-01-12       36.25       37.95       37.95      36.90   \n",
       "8    IDBI 2000-01-13       37.40       37.95       38.00      36.70   \n",
       "9    IDBI 2000-01-14       36.85       37.75       37.75      36.55   \n",
       "10   IDBI 2000-01-17       36.80       37.75       38.10      37.00   \n",
       "11   IDBI 2000-01-18       37.15       37.50       37.50      36.75   \n",
       "12   IDBI 2000-01-19       37.05       37.85       37.85      37.00   \n",
       "13   IDBI 2000-01-20       37.40       37.90       37.90      37.00   \n",
       "14   IDBI 2000-01-21       37.15       37.00       37.50      36.60   \n",
       "15   IDBI 2000-01-24       37.40       37.75       37.75      36.60   \n",
       "16   IDBI 2000-01-25       37.00       36.70       37.40      36.70   \n",
       "17   IDBI 2000-01-27       37.15       37.50       39.50      37.35   \n",
       "18   IDBI 2000-01-28       39.00       39.95       42.15      39.10   \n",
       "19   IDBI 2000-01-31       40.90       42.00       42.00      37.65   \n",
       "20   IDBI 2000-02-01       37.95       37.05       37.55      34.95   \n",
       "21   IDBI 2000-02-02       36.35       37.40       39.30      36.50   \n",
       "22   IDBI 2000-02-03       36.55       37.50       38.50      36.20   \n",
       "23   IDBI 2000-02-04       36.75       37.20       38.10      36.75   \n",
       "24   IDBI 2000-02-07       36.95       37.40       37.85      36.50   \n",
       "25   IDBI 2000-02-08       36.80       37.40       37.80      35.10   \n",
       "26   IDBI 2000-02-09       35.60       36.50       37.45      36.00   \n",
       "27   IDBI 2000-02-10       36.25       35.05       36.35      34.25   \n",
       "28   IDBI 2000-02-11       35.95       36.50       37.40      35.00   \n",
       "29   IDBI 2000-02-14       35.30       36.40       37.90      35.40   \n",
       "30   IDBI 2000-02-15       36.70       36.80       37.00      35.25   \n",
       "31   IDBI 2000-02-16       35.60       36.00       37.00      36.00   \n",
       "32   IDBI 2000-02-17       36.35       36.00       36.50      35.00   \n",
       "33   IDBI 2000-02-18       35.90       35.95       36.25      34.75   \n",
       "34   IDBI 2000-02-21       35.25       35.00       35.50      33.50   \n",
       "35   IDBI 2000-02-22       35.20       34.25       35.00      33.45   \n",
       "36   IDBI 2000-02-23       33.65       36.35       36.35      36.35   \n",
       "37   IDBI 2000-02-24       36.35       39.30       39.30      39.30   \n",
       "38   IDBI 2000-02-25       39.30       42.45       42.45      42.45   \n",
       "39   IDBI 2000-02-28       42.45       45.85       45.85      44.30   \n",
       "40   IDBI 2000-02-29       45.85       49.50       49.55      42.70   \n",
       "41   IDBI 2000-03-01       45.95       49.00       49.65      46.05   \n",
       "42   IDBI 2000-03-02       49.65       53.60       53.65      53.60   \n",
       "43   IDBI 2000-03-03       53.65       57.95       57.95      52.50   \n",
       "44   IDBI 2000-03-06       57.95       62.00       62.60      61.65   \n",
       "45   IDBI 2000-03-07       62.60       67.65       67.65      65.00   \n",
       "46   IDBI 2000-03-08       67.65       73.10       73.10      63.00   \n",
       "47   IDBI 2000-03-09       73.10       78.85       78.95      67.25   \n",
       "48   IDBI 2000-03-10       67.25       63.05       65.00      61.90   \n",
       "49   IDBI 2000-03-13       61.90       56.95       59.15      56.95   \n",
       "\n",
       "    Last Price  Close Price     HL  absHC  ...  Zero   +DM   -DM         +DI  \\\n",
       "0        39.85        39.85   0.00   0.00  ...     0  0.00  0.00         NaN   \n",
       "1        42.90        42.10   5.05   3.20  ...     0  3.20  0.00         NaN   \n",
       "2        39.95        39.45   4.00   0.90  ...     0  0.00  0.00         NaN   \n",
       "3        38.70        38.65   3.80   2.05  ...     0  0.00  1.30         NaN   \n",
       "4        38.00        37.80   1.70   0.55  ...     0  0.00  0.20         NaN   \n",
       "5        37.75        37.75   1.00   0.75  ...     0  0.00  0.00         NaN   \n",
       "6        36.25        36.25   2.75   1.00  ...     0  0.00  1.55         NaN   \n",
       "7        37.45        37.40   1.05   1.70  ...     0  0.00  0.00         NaN   \n",
       "8        36.95        36.85   1.30   0.60  ...     0  0.00  0.20         NaN   \n",
       "9        37.00        36.80   1.20   0.90  ...     0  0.00  0.15         NaN   \n",
       "10       37.00        37.15   1.10   1.30  ...     0  0.35  0.00         NaN   \n",
       "11       37.15        37.05   0.75   0.35  ...     0  0.00  0.25         NaN   \n",
       "12       37.30        37.40   0.85   0.80  ...     0  0.35  0.00         NaN   \n",
       "13       37.20        37.15   0.90   0.50  ...     0  0.05  0.00    2.661597   \n",
       "14       37.50        37.40   0.90   0.35  ...     0  0.00  0.40    1.235741   \n",
       "15       37.00        37.00   1.15   0.35  ...     0  0.25  0.00    6.501932   \n",
       "16       37.00        37.15   0.70   0.40  ...     0  0.00  0.00    4.512808   \n",
       "17       39.00        39.00   2.15   2.35  ...     0  2.10  0.00   44.685369   \n",
       "18       41.00        40.90   3.05   3.15  ...     0  2.65  0.00   77.267364   \n",
       "19       37.65        37.95   4.35   1.10  ...     0  0.00  1.45   60.985492   \n",
       "20       36.70        36.35   2.60   0.40  ...     0  0.00  2.70   49.057628   \n",
       "21       36.70        36.55   2.80   2.95  ...     0  1.75  0.00   58.177974   \n",
       "22       36.80        36.75   2.30   1.95  ...     0  0.00  0.30   47.983817   \n",
       "23       37.20        36.95   1.35   1.35  ...     0  0.00  0.00   39.913966   \n",
       "24       36.95        36.80   1.35   0.90  ...     0  0.00  0.25   33.427320   \n",
       "25       35.85        35.60   2.70   1.00  ...     0  0.00  1.40   28.148893   \n",
       "26       36.25        36.25   1.45   1.85  ...     0  0.00  0.00   23.810580   \n",
       "27       36.00        35.95   2.10   0.10  ...     0  0.00  1.75   20.215617   \n",
       "28       35.50        35.30   2.40   1.45  ...     0  1.05  0.00   24.096302   \n",
       "29       36.60        36.70   2.50   2.60  ...     0  0.50  0.00   23.660702   \n",
       "30       35.60        35.60   1.75   0.30  ...     0  0.00  0.15   20.246120   \n",
       "31       36.45        36.35   1.00   1.40  ...     0  0.00  0.00   17.356048   \n",
       "32       36.00        35.90   1.50   0.15  ...     0  0.00  1.00   14.901630   \n",
       "33       35.25        35.25   1.50   0.35  ...     0  0.00  0.25   12.811201   \n",
       "34       35.20        35.20   2.00   0.25  ...     0  0.00  1.25   11.026423   \n",
       "35       33.75        33.65   1.55   0.20  ...     0  0.00  0.05    9.499422   \n",
       "36       36.35        36.35   0.00   2.70  ...     0  1.35  0.00   17.852830   \n",
       "37       39.30        39.30   0.00   2.95  ...     0  2.95  0.00   35.246310   \n",
       "38       42.45        42.45   0.00   3.15  ...     0  3.15  0.00   50.284993   \n",
       "39       45.85        45.85   1.55   3.40  ...     0  3.40  0.00   64.314963   \n",
       "40       45.20        45.95   6.85   3.70  ...     0  3.70  0.00   75.094298   \n",
       "41       49.65        49.65   3.60   3.70  ...     0  0.10  0.00   65.425078   \n",
       "42       53.65        53.65   0.05   4.00  ...     0  4.00  0.00   75.867773   \n",
       "43       57.95        57.95   5.45   4.30  ...     0  4.30  0.00   84.925040   \n",
       "44       62.60        62.60   0.95   4.65  ...     0  4.65  0.00   92.973187   \n",
       "45       67.65        67.65   2.65   5.05  ...     0  5.05  0.00  100.015902   \n",
       "46       73.10        73.10  10.10   5.45  ...     0  5.45  0.00  104.484913   \n",
       "47       67.25        67.25  11.70   5.85  ...     0  5.85  0.00  106.758551   \n",
       "48       61.90        61.90   3.10   2.25  ...     0  0.00  5.35   92.441180   \n",
       "49       56.95        56.95   2.20   2.75  ...     0  0.00  4.95   80.053529   \n",
       "\n",
       "          -DI         ADX  Trend Signal        SOK        SOD  Signal  \n",
       "0         NaN         NaN     Trendless        NaN        NaN      NA  \n",
       "1         NaN         NaN     Trendless        NaN        NaN      NA  \n",
       "2         NaN         NaN     Trendless        NaN        NaN      NA  \n",
       "3         NaN         NaN     Trendless        NaN        NaN      NA  \n",
       "4         NaN         NaN     Trendless        NaN        NaN      NA  \n",
       "5         NaN         NaN     Trendless        NaN        NaN      NA  \n",
       "6         NaN         NaN     Trendless        NaN        NaN      NA  \n",
       "7         NaN         NaN     Trendless        NaN        NaN      NA  \n",
       "8         NaN         NaN     Trendless        NaN        NaN      NA  \n",
       "9         NaN         NaN     Trendless        NaN        NaN      NA  \n",
       "10        NaN         NaN     Trendless        NaN        NaN      NA  \n",
       "11        NaN         NaN     Trendless        NaN        NaN      NA  \n",
       "12        NaN         NaN     Trendless        NaN        NaN      NA  \n",
       "13   0.000000  100.000000       Uptrend   3.444782        NaN      NA  \n",
       "14  11.029412   89.205119   Short Trade   3.394124        NaN      NA  \n",
       "15   6.816139   56.029702   Short Trade   0.867347   2.568751      NA  \n",
       "16   4.730890   39.610397   Short Trade   4.610390   2.957287      NA  \n",
       "17   3.496608   51.579226       Uptrend  60.816327  22.098021      NA  \n",
       "18   2.687555   61.227423       Uptrend  63.646922  43.024546      NA  \n",
       "19  20.440889   58.817938       Uptrend  15.563298  46.675516     Buy  \n",
       "20  47.769746   47.574160       Uptrend   7.886905  29.032375      NA  \n",
       "21  38.974226   42.454153       Uptrend   4.712302   9.387502      NA  \n",
       "22  34.991980   37.758725       Uptrend   1.438492   4.679233      NA  \n",
       "23  29.107078   34.041752       Uptrend   1.140873   2.430556      NA  \n",
       "24  26.560233   30.369835       Uptrend   0.446429   1.008598      NA  \n",
       "25  33.419702   26.926034   Short Trade  15.476190   5.687831      NA  \n",
       "26  28.269051   24.095592     Trendless   5.456349   7.126323      NA  \n",
       "27  36.249460   24.744880     Trendless   6.283906   9.072149      NA  \n",
       "28  30.871368   22.902306     Trendless  13.065099   8.268452      NA  \n",
       "29  26.359008   20.343249     Trendless   5.741410   8.363472      NA  \n",
       "30  23.441163   18.462859     Trendless   6.871609   8.559373      NA  \n",
       "31  20.095009   16.871314     Trendless   3.842676   5.485232      NA  \n",
       "32  23.518512   17.657121     Trendless   1.889401   4.201229      NA  \n",
       "33  21.927070   18.861364     Trendless   5.869873   3.867317      NA  \n",
       "34  27.657885   22.223206     Trendless   4.187192   3.982155      NA  \n",
       "35  24.192787   25.185050   Short Trade  31.188119  13.748395      NA  \n",
       "36  20.859606   22.785258     Trendless  23.963134  19.779482      NA  \n",
       "37  17.998368   24.103219     Trendless  66.361416  40.504223      NA  \n",
       "38  15.539023   28.022532       Uptrend  73.412698  54.579083      NA  \n",
       "39  13.422733   33.122114       Uptrend  75.403226  71.725780      NA  \n",
       "40  11.599876   38.570212       Uptrend  55.723159  68.179694      NA  \n",
       "41  10.028451   43.291038       Uptrend  73.015873  68.047419      NA  \n",
       "42   8.672801   48.183415       Uptrend  71.782178  66.840403      NA  \n",
       "43   7.502570   52.984549       Uptrend  71.749271  72.182441      NA  \n",
       "44   6.491855   57.559759       Uptrend  69.786817  71.106089      NA  \n",
       "45   5.618506   61.838159       Uptrend  68.191312  69.909133      NA  \n",
       "46   4.863552   65.770650       Uptrend  67.519366  68.499165      NA  \n",
       "47   4.210717   69.346589       Uptrend  40.879121  58.863266      NA  \n",
       "48  17.833626   69.119868       Uptrend  24.662480  44.353656     Buy  \n",
       "49  27.993276   66.314215       Uptrend  10.781355  25.440985      NA  \n",
       "\n",
       "[50 rows x 25 columns]"
      ]
     },
     "execution_count": 32,
     "metadata": {},
     "output_type": "execute_result"
    }
   ],
   "source": [
    "indata.head(50)"
   ]
  },
  {
   "cell_type": "markdown",
   "metadata": {},
   "source": [
    "### Return Analysis"
   ]
  },
  {
   "cell_type": "code",
   "execution_count": 33,
   "metadata": {},
   "outputs": [
    {
     "name": "stdout",
     "output_type": "stream",
     "text": [
      "============STOCK RETURN============\n",
      "The Close price on Start date : Rs 113.05\n",
      "No. of shares invested : 8845\n",
      "The Close price on End date : Rs 101.7\n",
      "The Return of your investment : Rs 899536.5\n",
      "\n",
      "\n",
      "==========BENCHMARK RETURN===========\n",
      "The Close price on Start date : Rs 3627.06\n",
      "No. of shares invested : 275\n",
      "The Close price on End date : Rs 3638.4\n",
      "The Return of your investment : Rs 1000560.0\n"
     ]
    }
   ],
   "source": [
    "#On Stock Investment\n",
    "Stock_Investment = indata[(indata['Date']>=start_date) & (indata['Date'] <= end_date)]\n",
    "s_invest = float(indata[indata['Date']==start_date]['Close Price'])\n",
    "shares = int(invest/s_invest)\n",
    "e_invest = float(indata[indata['Date']==end_date]['Close Price'])\n",
    "Stock_Return = (shares * e_invest)\n",
    "\n",
    "# BenchMark Investment\n",
    "BM_Investment = Benchmark[(Benchmark['Date']>=start_date) & (Benchmark['Date'] <= end_date)]\n",
    "Bs_invest = float(Benchmark[Benchmark['Date']==start_date]['Close Price'])\n",
    "Bshares = int(invest/Bs_invest)\n",
    "Be_invest = float(Benchmark[Benchmark['Date']==end_date]['Close Price'])\n",
    "BM_Return = (Bshares * Be_invest)\n",
    "\n",
    "print(\"============STOCK RETURN============\")\n",
    "print(\"The Close price on Start date : Rs\",s_invest)\n",
    "print(\"No. of shares invested :\",shares)\n",
    "print(\"The Close price on End date : Rs\",e_invest)\n",
    "print(\"The Return of your investment : Rs\",Stock_Return)\n",
    "print(\"\\n\")\n",
    "print(\"==========BENCHMARK RETURN===========\")\n",
    "print(\"The Close price on Start date : Rs\",Bs_invest)\n",
    "print(\"No. of shares invested :\",Bshares)\n",
    "print(\"The Close price on End date : Rs\",Be_invest)\n",
    "print(\"The Return of your investment : Rs\",BM_Return)"
   ]
  },
  {
   "cell_type": "code",
   "execution_count": 26,
   "metadata": {},
   "outputs": [
    {
     "data": {
      "text/html": [
       "<div>\n",
       "<style scoped>\n",
       "    .dataframe tbody tr th:only-of-type {\n",
       "        vertical-align: middle;\n",
       "    }\n",
       "\n",
       "    .dataframe tbody tr th {\n",
       "        vertical-align: top;\n",
       "    }\n",
       "\n",
       "    .dataframe thead th {\n",
       "        text-align: right;\n",
       "    }\n",
       "</style>\n",
       "<table border=\"1\" class=\"dataframe\">\n",
       "  <thead>\n",
       "    <tr style=\"text-align: right;\">\n",
       "      <th></th>\n",
       "      <th>Date</th>\n",
       "      <th>Prev Close</th>\n",
       "      <th>Open Price</th>\n",
       "      <th>High Price</th>\n",
       "      <th>Low Price</th>\n",
       "      <th>Last Price</th>\n",
       "      <th>Close Price</th>\n",
       "      <th>+DI</th>\n",
       "      <th>-DI</th>\n",
       "      <th>ADX</th>\n",
       "      <th>Trend Signal</th>\n",
       "      <th>SOK</th>\n",
       "      <th>SOD</th>\n",
       "      <th>Signal</th>\n",
       "    </tr>\n",
       "  </thead>\n",
       "  <tbody>\n",
       "    <tr>\n",
       "      <th>0</th>\n",
       "      <td>2000-01-03</td>\n",
       "      <td>225.60</td>\n",
       "      <td>236.00</td>\n",
       "      <td>243.65</td>\n",
       "      <td>234.25</td>\n",
       "      <td>243.65</td>\n",
       "      <td>243.65</td>\n",
       "      <td>NaN</td>\n",
       "      <td>NaN</td>\n",
       "      <td>NaN</td>\n",
       "      <td>Trendless</td>\n",
       "      <td>NaN</td>\n",
       "      <td>NaN</td>\n",
       "      <td>NA</td>\n",
       "    </tr>\n",
       "    <tr>\n",
       "      <th>1</th>\n",
       "      <td>2000-01-04</td>\n",
       "      <td>243.65</td>\n",
       "      <td>243.65</td>\n",
       "      <td>262.00</td>\n",
       "      <td>238.85</td>\n",
       "      <td>258.00</td>\n",
       "      <td>259.10</td>\n",
       "      <td>NaN</td>\n",
       "      <td>NaN</td>\n",
       "      <td>NaN</td>\n",
       "      <td>Trendless</td>\n",
       "      <td>NaN</td>\n",
       "      <td>NaN</td>\n",
       "      <td>NA</td>\n",
       "    </tr>\n",
       "    <tr>\n",
       "      <th>2</th>\n",
       "      <td>2000-01-05</td>\n",
       "      <td>259.10</td>\n",
       "      <td>249.00</td>\n",
       "      <td>264.70</td>\n",
       "      <td>245.00</td>\n",
       "      <td>249.05</td>\n",
       "      <td>248.45</td>\n",
       "      <td>NaN</td>\n",
       "      <td>NaN</td>\n",
       "      <td>NaN</td>\n",
       "      <td>Trendless</td>\n",
       "      <td>NaN</td>\n",
       "      <td>NaN</td>\n",
       "      <td>NA</td>\n",
       "    </tr>\n",
       "    <tr>\n",
       "      <th>3</th>\n",
       "      <td>2000-01-06</td>\n",
       "      <td>248.45</td>\n",
       "      <td>252.00</td>\n",
       "      <td>268.00</td>\n",
       "      <td>252.00</td>\n",
       "      <td>260.50</td>\n",
       "      <td>261.00</td>\n",
       "      <td>NaN</td>\n",
       "      <td>NaN</td>\n",
       "      <td>NaN</td>\n",
       "      <td>Trendless</td>\n",
       "      <td>NaN</td>\n",
       "      <td>NaN</td>\n",
       "      <td>NA</td>\n",
       "    </tr>\n",
       "    <tr>\n",
       "      <th>4</th>\n",
       "      <td>2000-01-07</td>\n",
       "      <td>261.00</td>\n",
       "      <td>261.50</td>\n",
       "      <td>279.90</td>\n",
       "      <td>255.00</td>\n",
       "      <td>279.00</td>\n",
       "      <td>273.30</td>\n",
       "      <td>NaN</td>\n",
       "      <td>NaN</td>\n",
       "      <td>NaN</td>\n",
       "      <td>Trendless</td>\n",
       "      <td>NaN</td>\n",
       "      <td>NaN</td>\n",
       "      <td>NA</td>\n",
       "    </tr>\n",
       "    <tr>\n",
       "      <th>...</th>\n",
       "      <td>...</td>\n",
       "      <td>...</td>\n",
       "      <td>...</td>\n",
       "      <td>...</td>\n",
       "      <td>...</td>\n",
       "      <td>...</td>\n",
       "      <td>...</td>\n",
       "      <td>...</td>\n",
       "      <td>...</td>\n",
       "      <td>...</td>\n",
       "      <td>...</td>\n",
       "      <td>...</td>\n",
       "      <td>...</td>\n",
       "      <td>...</td>\n",
       "    </tr>\n",
       "    <tr>\n",
       "      <th>5224</th>\n",
       "      <td>2020-12-24</td>\n",
       "      <td>263.00</td>\n",
       "      <td>265.00</td>\n",
       "      <td>268.85</td>\n",
       "      <td>264.65</td>\n",
       "      <td>266.85</td>\n",
       "      <td>266.85</td>\n",
       "      <td>26.658025</td>\n",
       "      <td>27.273439</td>\n",
       "      <td>36.988664</td>\n",
       "      <td>Short Trade</td>\n",
       "      <td>10.867347</td>\n",
       "      <td>9.564445</td>\n",
       "      <td>NA</td>\n",
       "    </tr>\n",
       "    <tr>\n",
       "      <th>5225</th>\n",
       "      <td>2020-12-28</td>\n",
       "      <td>266.85</td>\n",
       "      <td>268.75</td>\n",
       "      <td>276.00</td>\n",
       "      <td>268.00</td>\n",
       "      <td>275.75</td>\n",
       "      <td>275.20</td>\n",
       "      <td>35.478834</td>\n",
       "      <td>23.636981</td>\n",
       "      <td>34.727724</td>\n",
       "      <td>Uptrend</td>\n",
       "      <td>39.413265</td>\n",
       "      <td>16.777211</td>\n",
       "      <td>NA</td>\n",
       "    </tr>\n",
       "    <tr>\n",
       "      <th>5226</th>\n",
       "      <td>2020-12-29</td>\n",
       "      <td>275.20</td>\n",
       "      <td>276.30</td>\n",
       "      <td>279.90</td>\n",
       "      <td>274.70</td>\n",
       "      <td>277.75</td>\n",
       "      <td>277.90</td>\n",
       "      <td>37.708170</td>\n",
       "      <td>20.485383</td>\n",
       "      <td>34.043454</td>\n",
       "      <td>Uptrend</td>\n",
       "      <td>41.266080</td>\n",
       "      <td>30.515564</td>\n",
       "      <td>NA</td>\n",
       "    </tr>\n",
       "    <tr>\n",
       "      <th>5227</th>\n",
       "      <td>2020-12-30</td>\n",
       "      <td>277.90</td>\n",
       "      <td>278.00</td>\n",
       "      <td>278.70</td>\n",
       "      <td>272.50</td>\n",
       "      <td>275.50</td>\n",
       "      <td>276.90</td>\n",
       "      <td>32.680414</td>\n",
       "      <td>21.661389</td>\n",
       "      <td>32.207960</td>\n",
       "      <td>Uptrend</td>\n",
       "      <td>37.361769</td>\n",
       "      <td>39.347038</td>\n",
       "      <td>NA</td>\n",
       "    </tr>\n",
       "    <tr>\n",
       "      <th>5228</th>\n",
       "      <td>2020-12-31</td>\n",
       "      <td>276.90</td>\n",
       "      <td>275.00</td>\n",
       "      <td>277.25</td>\n",
       "      <td>272.60</td>\n",
       "      <td>274.40</td>\n",
       "      <td>274.95</td>\n",
       "      <td>28.323025</td>\n",
       "      <td>18.773203</td>\n",
       "      <td>30.617200</td>\n",
       "      <td>Uptrend</td>\n",
       "      <td>29.609569</td>\n",
       "      <td>36.079139</td>\n",
       "      <td>NA</td>\n",
       "    </tr>\n",
       "  </tbody>\n",
       "</table>\n",
       "<p>5229 rows × 14 columns</p>\n",
       "</div>"
      ],
      "text/plain": [
       "           Date  Prev Close  Open Price  High Price  Low Price  Last Price  \\\n",
       "0    2000-01-03      225.60      236.00      243.65     234.25      243.65   \n",
       "1    2000-01-04      243.65      243.65      262.00     238.85      258.00   \n",
       "2    2000-01-05      259.10      249.00      264.70     245.00      249.05   \n",
       "3    2000-01-06      248.45      252.00      268.00     252.00      260.50   \n",
       "4    2000-01-07      261.00      261.50      279.90     255.00      279.00   \n",
       "...         ...         ...         ...         ...        ...         ...   \n",
       "5224 2020-12-24      263.00      265.00      268.85     264.65      266.85   \n",
       "5225 2020-12-28      266.85      268.75      276.00     268.00      275.75   \n",
       "5226 2020-12-29      275.20      276.30      279.90     274.70      277.75   \n",
       "5227 2020-12-30      277.90      278.00      278.70     272.50      275.50   \n",
       "5228 2020-12-31      276.90      275.00      277.25     272.60      274.40   \n",
       "\n",
       "      Close Price        +DI        -DI        ADX Trend Signal        SOK  \\\n",
       "0          243.65        NaN        NaN        NaN    Trendless        NaN   \n",
       "1          259.10        NaN        NaN        NaN    Trendless        NaN   \n",
       "2          248.45        NaN        NaN        NaN    Trendless        NaN   \n",
       "3          261.00        NaN        NaN        NaN    Trendless        NaN   \n",
       "4          273.30        NaN        NaN        NaN    Trendless        NaN   \n",
       "...           ...        ...        ...        ...          ...        ...   \n",
       "5224       266.85  26.658025  27.273439  36.988664  Short Trade  10.867347   \n",
       "5225       275.20  35.478834  23.636981  34.727724      Uptrend  39.413265   \n",
       "5226       277.90  37.708170  20.485383  34.043454      Uptrend  41.266080   \n",
       "5227       276.90  32.680414  21.661389  32.207960      Uptrend  37.361769   \n",
       "5228       274.95  28.323025  18.773203  30.617200      Uptrend  29.609569   \n",
       "\n",
       "            SOD Signal  \n",
       "0           NaN     NA  \n",
       "1           NaN     NA  \n",
       "2           NaN     NA  \n",
       "3           NaN     NA  \n",
       "4           NaN     NA  \n",
       "...         ...    ...  \n",
       "5224   9.564445     NA  \n",
       "5225  16.777211     NA  \n",
       "5226  30.515564     NA  \n",
       "5227  39.347038     NA  \n",
       "5228  36.079139     NA  \n",
       "\n",
       "[5229 rows x 14 columns]"
      ]
     },
     "execution_count": 26,
     "metadata": {},
     "output_type": "execute_result"
    }
   ],
   "source": [
    "Signal = indata[['Date', 'Prev Close', 'Open Price', 'High Price', 'Low Price',\n",
    "                   'Last Price', 'Close Price','+DI', '-DI', 'ADX','Trend Signal', 'SOK', 'SOD', 'Signal']]\n",
    "Signal"
   ]
  },
  {
   "cell_type": "markdown",
   "metadata": {},
   "source": [
    "### Plot the charts "
   ]
  },
  {
   "cell_type": "code",
   "execution_count": 27,
   "metadata": {},
   "outputs": [
    {
     "data": {
      "application/vnd.plotly.v1+json": {
       "config": {
        "plotlyServerURL": "https://plot.ly"
       },
       "data": [
        {
         "close": [
          655.75,
          649.9,
          617.45,
          604.3,
          615.65,
          599.95,
          588.25,
          573.2,
          593.05,
          578.4,
          589,
          584.5,
          581.2,
          576.35,
          571.2,
          581.95,
          580.95,
          622.2,
          643,
          634.05,
          648.75,
          656.1,
          648.15,
          642.85,
          635.2,
          652.2,
          648.5,
          654.05,
          665.55,
          661.15,
          663.15,
          659.7,
          658.25,
          660.75,
          680.35,
          677,
          690.95,
          685.1,
          714.65,
          695.6,
          706.4,
          717.1,
          713.45,
          726.6,
          724.05,
          720.85,
          742.1,
          736.9,
          734.1,
          731.75,
          728,
          726.2,
          727.8,
          722.7,
          693.25,
          657.7,
          664.4,
          665.6,
          641.7,
          661.05,
          654.8,
          670.1,
          667,
          645.4,
          651.55,
          655.05,
          653.15,
          642.45,
          646.6,
          645.7,
          621.75,
          620.1,
          616.45,
          620.65,
          628.5,
          620.4,
          624.15,
          624.8,
          619.95,
          604.2,
          584.85,
          589.35,
          599.15,
          607.3,
          616.2,
          617.1,
          621.7,
          617.25,
          615.2,
          618.85,
          619.35,
          633.4,
          627.4,
          641.25,
          638.6,
          649,
          650.45,
          662.7,
          677.45,
          683.65,
          668.3,
          662.25,
          670.45,
          660.2,
          655.3,
          662.45,
          665.4,
          682.35,
          685.95,
          689.9,
          689.4,
          680.65,
          681.85,
          686.2,
          689,
          679.95,
          667.4,
          657.05,
          665.85,
          661.25,
          683.2,
          678.6,
          671.65,
          662.05,
          672.95,
          681.9
         ],
         "high": [
          662.9,
          658.9,
          655.8,
          628.9,
          619.95,
          635,
          607.8,
          596.7,
          596.9,
          601,
          595.9,
          599.4,
          589.5,
          580,
          577,
          587.95,
          587.95,
          627,
          646.4,
          646,
          655.45,
          661.75,
          669,
          657,
          647.85,
          653.9,
          659.85,
          656.75,
          674.7,
          668,
          677.8,
          663.25,
          669.7,
          665.4,
          686,
          689,
          693.75,
          695.5,
          719.2,
          716.9,
          709.5,
          719.85,
          726,
          734.9,
          729.6,
          731.9,
          744.5,
          750.95,
          743.3,
          737.6,
          738,
          732.4,
          730.3,
          731.4,
          718,
          693.7,
          672.4,
          679,
          665,
          664.3,
          669.4,
          672.8,
          676,
          669.45,
          654.4,
          686,
          659.45,
          659,
          648.45,
          655,
          642.45,
          626.4,
          632.9,
          625.35,
          629.7,
          634.8,
          628.7,
          631.7,
          628.9,
          621,
          604.9,
          592.8,
          602.25,
          608.75,
          619.8,
          623.8,
          623.9,
          626.8,
          618.8,
          622.7,
          621.35,
          648,
          640,
          646.85,
          651.9,
          651,
          656.9,
          664.25,
          679.7,
          686.8,
          685,
          673,
          673.45,
          674.9,
          670,
          666.5,
          680,
          686.85,
          688.1,
          694.75,
          695,
          695.7,
          683.9,
          690.8,
          692.9,
          691.8,
          676,
          673.4,
          670.7,
          675.95,
          685.25,
          689,
          684.4,
          677.45,
          674.85,
          686
         ],
         "low": [
          650.1,
          646.15,
          591,
          596.15,
          605.25,
          597.55,
          585.3,
          562,
          580,
          573.3,
          573.25,
          581.6,
          579.1,
          567.1,
          564.6,
          565,
          579.15,
          581.5,
          626,
          631.2,
          636,
          640,
          645.1,
          640.05,
          631.6,
          638,
          559.7,
          649,
          658,
          654.6,
          655.3,
          651.55,
          654.15,
          651.1,
          660,
          674.2,
          678,
          681,
          670.05,
          692.65,
          697.5,
          706,
          711.3,
          715.25,
          719.2,
          712.2,
          715.85,
          735.05,
          731.35,
          725,
          725.05,
          718,
          712.3,
          719.1,
          688.25,
          651.15,
          651.7,
          659.1,
          637,
          637.65,
          650.25,
          652.65,
          663.6,
          641.9,
          646.3,
          653.05,
          648,
          640.1,
          636.1,
          642.35,
          619.05,
          607.35,
          614.1,
          607.25,
          611.1,
          617.35,
          615,
          621.85,
          616.05,
          601.25,
          582,
          576.05,
          584.05,
          599.7,
          610,
          608.05,
          617.1,
          615.3,
          608.6,
          612.35,
          612.5,
          621.05,
          623.15,
          622,
          635.5,
          631.2,
          648,
          649,
          653.25,
          668.1,
          664.1,
          660,
          659.1,
          658.1,
          653.55,
          655.5,
          658,
          668,
          678.05,
          685,
          685.65,
          678.6,
          673.65,
          676.5,
          684.3,
          677.65,
          574,
          654,
          655.25,
          658.05,
          657.1,
          675.05,
          669,
          660.5,
          658,
          675
         ],
         "open": [
          654.5,
          658.85,
          649.95,
          615.25,
          609.4,
          635,
          600,
          562,
          587,
          595,
          588,
          594,
          587,
          578.7,
          577,
          565,
          586,
          583.9,
          626,
          640,
          636,
          647.1,
          669,
          653,
          645,
          640,
          653,
          652.9,
          658,
          668,
          661.15,
          662.1,
          667.7,
          661.7,
          660.75,
          683,
          680,
          695,
          694.85,
          711,
          699,
          707.75,
          719,
          716.45,
          725,
          727,
          719.9,
          741.15,
          737,
          734,
          732.05,
          729.9,
          727,
          730.9,
          718,
          689.7,
          662,
          679,
          665,
          644.45,
          666,
          655,
          670.1,
          668,
          649,
          654.4,
          657,
          653.15,
          642.45,
          655,
          642.45,
          610,
          624.75,
          618,
          618,
          630,
          624.9,
          628,
          625,
          620,
          602.35,
          588,
          591.5,
          601.3,
          610,
          616,
          620,
          623,
          615.4,
          612.35,
          618,
          648,
          635,
          624,
          645,
          644.8,
          652.1,
          655,
          662,
          675.2,
          685,
          670,
          663.5,
          669.5,
          664.9,
          655.5,
          665,
          668,
          680,
          690,
          693,
          692,
          681,
          685,
          687,
          690,
          574,
          671.9,
          655.25,
          671,
          663,
          683.05,
          677,
          672,
          664.15,
          676
         ],
         "type": "candlestick",
         "x": [
          "2005-01-03T00:00:00",
          "2005-01-04T00:00:00",
          "2005-01-05T00:00:00",
          "2005-01-06T00:00:00",
          "2005-01-07T00:00:00",
          "2005-01-10T00:00:00",
          "2005-01-11T00:00:00",
          "2005-01-12T00:00:00",
          "2005-01-13T00:00:00",
          "2005-01-14T00:00:00",
          "2005-01-17T00:00:00",
          "2005-01-18T00:00:00",
          "2005-01-19T00:00:00",
          "2005-01-20T00:00:00",
          "2005-01-24T00:00:00",
          "2005-01-25T00:00:00",
          "2005-01-27T00:00:00",
          "2005-01-28T00:00:00",
          "2005-01-31T00:00:00",
          "2005-02-01T00:00:00",
          "2005-02-02T00:00:00",
          "2005-02-03T00:00:00",
          "2005-02-04T00:00:00",
          "2005-02-07T00:00:00",
          "2005-02-08T00:00:00",
          "2005-02-09T00:00:00",
          "2005-02-10T00:00:00",
          "2005-02-11T00:00:00",
          "2005-02-14T00:00:00",
          "2005-02-15T00:00:00",
          "2005-02-16T00:00:00",
          "2005-02-17T00:00:00",
          "2005-02-18T00:00:00",
          "2005-02-21T00:00:00",
          "2005-02-22T00:00:00",
          "2005-02-23T00:00:00",
          "2005-02-24T00:00:00",
          "2005-02-25T00:00:00",
          "2005-02-28T00:00:00",
          "2005-03-01T00:00:00",
          "2005-03-02T00:00:00",
          "2005-03-03T00:00:00",
          "2005-03-04T00:00:00",
          "2005-03-07T00:00:00",
          "2005-03-08T00:00:00",
          "2005-03-09T00:00:00",
          "2005-03-10T00:00:00",
          "2005-03-11T00:00:00",
          "2005-03-14T00:00:00",
          "2005-03-15T00:00:00",
          "2005-03-16T00:00:00",
          "2005-03-17T00:00:00",
          "2005-03-18T00:00:00",
          "2005-03-21T00:00:00",
          "2005-03-22T00:00:00",
          "2005-03-23T00:00:00",
          "2005-03-24T00:00:00",
          "2005-03-28T00:00:00",
          "2005-03-29T00:00:00",
          "2005-03-30T00:00:00",
          "2005-03-31T00:00:00",
          "2005-04-01T00:00:00",
          "2005-04-04T00:00:00",
          "2005-04-05T00:00:00",
          "2005-04-06T00:00:00",
          "2005-04-07T00:00:00",
          "2005-04-08T00:00:00",
          "2005-04-11T00:00:00",
          "2005-04-12T00:00:00",
          "2005-04-13T00:00:00",
          "2005-04-15T00:00:00",
          "2005-04-18T00:00:00",
          "2005-04-19T00:00:00",
          "2005-04-20T00:00:00",
          "2005-04-21T00:00:00",
          "2005-04-22T00:00:00",
          "2005-04-25T00:00:00",
          "2005-04-26T00:00:00",
          "2005-04-27T00:00:00",
          "2005-04-28T00:00:00",
          "2005-04-29T00:00:00",
          "2005-05-02T00:00:00",
          "2005-05-03T00:00:00",
          "2005-05-04T00:00:00",
          "2005-05-05T00:00:00",
          "2005-05-06T00:00:00",
          "2005-05-09T00:00:00",
          "2005-05-10T00:00:00",
          "2005-05-11T00:00:00",
          "2005-05-12T00:00:00",
          "2005-05-13T00:00:00",
          "2005-05-16T00:00:00",
          "2005-05-17T00:00:00",
          "2005-05-18T00:00:00",
          "2005-05-19T00:00:00",
          "2005-05-20T00:00:00",
          "2005-05-23T00:00:00",
          "2005-05-24T00:00:00",
          "2005-05-25T00:00:00",
          "2005-05-26T00:00:00",
          "2005-05-27T00:00:00",
          "2005-05-30T00:00:00",
          "2005-05-31T00:00:00",
          "2005-06-01T00:00:00",
          "2005-06-02T00:00:00",
          "2005-06-03T00:00:00",
          "2005-06-04T00:00:00",
          "2005-06-06T00:00:00",
          "2005-06-07T00:00:00",
          "2005-06-08T00:00:00",
          "2005-06-09T00:00:00",
          "2005-06-10T00:00:00",
          "2005-06-13T00:00:00",
          "2005-06-14T00:00:00",
          "2005-06-15T00:00:00",
          "2005-06-16T00:00:00",
          "2005-06-17T00:00:00",
          "2005-06-20T00:00:00",
          "2005-06-21T00:00:00",
          "2005-06-22T00:00:00",
          "2005-06-23T00:00:00",
          "2005-06-24T00:00:00",
          "2005-06-27T00:00:00",
          "2005-06-28T00:00:00",
          "2005-06-29T00:00:00",
          "2005-06-30T00:00:00"
         ]
        }
       ],
       "layout": {
        "template": {
         "data": {
          "bar": [
           {
            "error_x": {
             "color": "#2a3f5f"
            },
            "error_y": {
             "color": "#2a3f5f"
            },
            "marker": {
             "line": {
              "color": "#E5ECF6",
              "width": 0.5
             }
            },
            "type": "bar"
           }
          ],
          "barpolar": [
           {
            "marker": {
             "line": {
              "color": "#E5ECF6",
              "width": 0.5
             }
            },
            "type": "barpolar"
           }
          ],
          "carpet": [
           {
            "aaxis": {
             "endlinecolor": "#2a3f5f",
             "gridcolor": "white",
             "linecolor": "white",
             "minorgridcolor": "white",
             "startlinecolor": "#2a3f5f"
            },
            "baxis": {
             "endlinecolor": "#2a3f5f",
             "gridcolor": "white",
             "linecolor": "white",
             "minorgridcolor": "white",
             "startlinecolor": "#2a3f5f"
            },
            "type": "carpet"
           }
          ],
          "choropleth": [
           {
            "colorbar": {
             "outlinewidth": 0,
             "ticks": ""
            },
            "type": "choropleth"
           }
          ],
          "contour": [
           {
            "colorbar": {
             "outlinewidth": 0,
             "ticks": ""
            },
            "colorscale": [
             [
              0,
              "#0d0887"
             ],
             [
              0.1111111111111111,
              "#46039f"
             ],
             [
              0.2222222222222222,
              "#7201a8"
             ],
             [
              0.3333333333333333,
              "#9c179e"
             ],
             [
              0.4444444444444444,
              "#bd3786"
             ],
             [
              0.5555555555555556,
              "#d8576b"
             ],
             [
              0.6666666666666666,
              "#ed7953"
             ],
             [
              0.7777777777777778,
              "#fb9f3a"
             ],
             [
              0.8888888888888888,
              "#fdca26"
             ],
             [
              1,
              "#f0f921"
             ]
            ],
            "type": "contour"
           }
          ],
          "contourcarpet": [
           {
            "colorbar": {
             "outlinewidth": 0,
             "ticks": ""
            },
            "type": "contourcarpet"
           }
          ],
          "heatmap": [
           {
            "colorbar": {
             "outlinewidth": 0,
             "ticks": ""
            },
            "colorscale": [
             [
              0,
              "#0d0887"
             ],
             [
              0.1111111111111111,
              "#46039f"
             ],
             [
              0.2222222222222222,
              "#7201a8"
             ],
             [
              0.3333333333333333,
              "#9c179e"
             ],
             [
              0.4444444444444444,
              "#bd3786"
             ],
             [
              0.5555555555555556,
              "#d8576b"
             ],
             [
              0.6666666666666666,
              "#ed7953"
             ],
             [
              0.7777777777777778,
              "#fb9f3a"
             ],
             [
              0.8888888888888888,
              "#fdca26"
             ],
             [
              1,
              "#f0f921"
             ]
            ],
            "type": "heatmap"
           }
          ],
          "heatmapgl": [
           {
            "colorbar": {
             "outlinewidth": 0,
             "ticks": ""
            },
            "colorscale": [
             [
              0,
              "#0d0887"
             ],
             [
              0.1111111111111111,
              "#46039f"
             ],
             [
              0.2222222222222222,
              "#7201a8"
             ],
             [
              0.3333333333333333,
              "#9c179e"
             ],
             [
              0.4444444444444444,
              "#bd3786"
             ],
             [
              0.5555555555555556,
              "#d8576b"
             ],
             [
              0.6666666666666666,
              "#ed7953"
             ],
             [
              0.7777777777777778,
              "#fb9f3a"
             ],
             [
              0.8888888888888888,
              "#fdca26"
             ],
             [
              1,
              "#f0f921"
             ]
            ],
            "type": "heatmapgl"
           }
          ],
          "histogram": [
           {
            "marker": {
             "colorbar": {
              "outlinewidth": 0,
              "ticks": ""
             }
            },
            "type": "histogram"
           }
          ],
          "histogram2d": [
           {
            "colorbar": {
             "outlinewidth": 0,
             "ticks": ""
            },
            "colorscale": [
             [
              0,
              "#0d0887"
             ],
             [
              0.1111111111111111,
              "#46039f"
             ],
             [
              0.2222222222222222,
              "#7201a8"
             ],
             [
              0.3333333333333333,
              "#9c179e"
             ],
             [
              0.4444444444444444,
              "#bd3786"
             ],
             [
              0.5555555555555556,
              "#d8576b"
             ],
             [
              0.6666666666666666,
              "#ed7953"
             ],
             [
              0.7777777777777778,
              "#fb9f3a"
             ],
             [
              0.8888888888888888,
              "#fdca26"
             ],
             [
              1,
              "#f0f921"
             ]
            ],
            "type": "histogram2d"
           }
          ],
          "histogram2dcontour": [
           {
            "colorbar": {
             "outlinewidth": 0,
             "ticks": ""
            },
            "colorscale": [
             [
              0,
              "#0d0887"
             ],
             [
              0.1111111111111111,
              "#46039f"
             ],
             [
              0.2222222222222222,
              "#7201a8"
             ],
             [
              0.3333333333333333,
              "#9c179e"
             ],
             [
              0.4444444444444444,
              "#bd3786"
             ],
             [
              0.5555555555555556,
              "#d8576b"
             ],
             [
              0.6666666666666666,
              "#ed7953"
             ],
             [
              0.7777777777777778,
              "#fb9f3a"
             ],
             [
              0.8888888888888888,
              "#fdca26"
             ],
             [
              1,
              "#f0f921"
             ]
            ],
            "type": "histogram2dcontour"
           }
          ],
          "mesh3d": [
           {
            "colorbar": {
             "outlinewidth": 0,
             "ticks": ""
            },
            "type": "mesh3d"
           }
          ],
          "parcoords": [
           {
            "line": {
             "colorbar": {
              "outlinewidth": 0,
              "ticks": ""
             }
            },
            "type": "parcoords"
           }
          ],
          "pie": [
           {
            "automargin": true,
            "type": "pie"
           }
          ],
          "scatter": [
           {
            "marker": {
             "colorbar": {
              "outlinewidth": 0,
              "ticks": ""
             }
            },
            "type": "scatter"
           }
          ],
          "scatter3d": [
           {
            "line": {
             "colorbar": {
              "outlinewidth": 0,
              "ticks": ""
             }
            },
            "marker": {
             "colorbar": {
              "outlinewidth": 0,
              "ticks": ""
             }
            },
            "type": "scatter3d"
           }
          ],
          "scattercarpet": [
           {
            "marker": {
             "colorbar": {
              "outlinewidth": 0,
              "ticks": ""
             }
            },
            "type": "scattercarpet"
           }
          ],
          "scattergeo": [
           {
            "marker": {
             "colorbar": {
              "outlinewidth": 0,
              "ticks": ""
             }
            },
            "type": "scattergeo"
           }
          ],
          "scattergl": [
           {
            "marker": {
             "colorbar": {
              "outlinewidth": 0,
              "ticks": ""
             }
            },
            "type": "scattergl"
           }
          ],
          "scattermapbox": [
           {
            "marker": {
             "colorbar": {
              "outlinewidth": 0,
              "ticks": ""
             }
            },
            "type": "scattermapbox"
           }
          ],
          "scatterpolar": [
           {
            "marker": {
             "colorbar": {
              "outlinewidth": 0,
              "ticks": ""
             }
            },
            "type": "scatterpolar"
           }
          ],
          "scatterpolargl": [
           {
            "marker": {
             "colorbar": {
              "outlinewidth": 0,
              "ticks": ""
             }
            },
            "type": "scatterpolargl"
           }
          ],
          "scatterternary": [
           {
            "marker": {
             "colorbar": {
              "outlinewidth": 0,
              "ticks": ""
             }
            },
            "type": "scatterternary"
           }
          ],
          "surface": [
           {
            "colorbar": {
             "outlinewidth": 0,
             "ticks": ""
            },
            "colorscale": [
             [
              0,
              "#0d0887"
             ],
             [
              0.1111111111111111,
              "#46039f"
             ],
             [
              0.2222222222222222,
              "#7201a8"
             ],
             [
              0.3333333333333333,
              "#9c179e"
             ],
             [
              0.4444444444444444,
              "#bd3786"
             ],
             [
              0.5555555555555556,
              "#d8576b"
             ],
             [
              0.6666666666666666,
              "#ed7953"
             ],
             [
              0.7777777777777778,
              "#fb9f3a"
             ],
             [
              0.8888888888888888,
              "#fdca26"
             ],
             [
              1,
              "#f0f921"
             ]
            ],
            "type": "surface"
           }
          ],
          "table": [
           {
            "cells": {
             "fill": {
              "color": "#EBF0F8"
             },
             "line": {
              "color": "white"
             }
            },
            "header": {
             "fill": {
              "color": "#C8D4E3"
             },
             "line": {
              "color": "white"
             }
            },
            "type": "table"
           }
          ]
         },
         "layout": {
          "annotationdefaults": {
           "arrowcolor": "#2a3f5f",
           "arrowhead": 0,
           "arrowwidth": 1
          },
          "autotypenumbers": "strict",
          "coloraxis": {
           "colorbar": {
            "outlinewidth": 0,
            "ticks": ""
           }
          },
          "colorscale": {
           "diverging": [
            [
             0,
             "#8e0152"
            ],
            [
             0.1,
             "#c51b7d"
            ],
            [
             0.2,
             "#de77ae"
            ],
            [
             0.3,
             "#f1b6da"
            ],
            [
             0.4,
             "#fde0ef"
            ],
            [
             0.5,
             "#f7f7f7"
            ],
            [
             0.6,
             "#e6f5d0"
            ],
            [
             0.7,
             "#b8e186"
            ],
            [
             0.8,
             "#7fbc41"
            ],
            [
             0.9,
             "#4d9221"
            ],
            [
             1,
             "#276419"
            ]
           ],
           "sequential": [
            [
             0,
             "#0d0887"
            ],
            [
             0.1111111111111111,
             "#46039f"
            ],
            [
             0.2222222222222222,
             "#7201a8"
            ],
            [
             0.3333333333333333,
             "#9c179e"
            ],
            [
             0.4444444444444444,
             "#bd3786"
            ],
            [
             0.5555555555555556,
             "#d8576b"
            ],
            [
             0.6666666666666666,
             "#ed7953"
            ],
            [
             0.7777777777777778,
             "#fb9f3a"
            ],
            [
             0.8888888888888888,
             "#fdca26"
            ],
            [
             1,
             "#f0f921"
            ]
           ],
           "sequentialminus": [
            [
             0,
             "#0d0887"
            ],
            [
             0.1111111111111111,
             "#46039f"
            ],
            [
             0.2222222222222222,
             "#7201a8"
            ],
            [
             0.3333333333333333,
             "#9c179e"
            ],
            [
             0.4444444444444444,
             "#bd3786"
            ],
            [
             0.5555555555555556,
             "#d8576b"
            ],
            [
             0.6666666666666666,
             "#ed7953"
            ],
            [
             0.7777777777777778,
             "#fb9f3a"
            ],
            [
             0.8888888888888888,
             "#fdca26"
            ],
            [
             1,
             "#f0f921"
            ]
           ]
          },
          "colorway": [
           "#636efa",
           "#EF553B",
           "#00cc96",
           "#ab63fa",
           "#FFA15A",
           "#19d3f3",
           "#FF6692",
           "#B6E880",
           "#FF97FF",
           "#FECB52"
          ],
          "font": {
           "color": "#2a3f5f"
          },
          "geo": {
           "bgcolor": "white",
           "lakecolor": "white",
           "landcolor": "#E5ECF6",
           "showlakes": true,
           "showland": true,
           "subunitcolor": "white"
          },
          "hoverlabel": {
           "align": "left"
          },
          "hovermode": "closest",
          "mapbox": {
           "style": "light"
          },
          "paper_bgcolor": "white",
          "plot_bgcolor": "#E5ECF6",
          "polar": {
           "angularaxis": {
            "gridcolor": "white",
            "linecolor": "white",
            "ticks": ""
           },
           "bgcolor": "#E5ECF6",
           "radialaxis": {
            "gridcolor": "white",
            "linecolor": "white",
            "ticks": ""
           }
          },
          "scene": {
           "xaxis": {
            "backgroundcolor": "#E5ECF6",
            "gridcolor": "white",
            "gridwidth": 2,
            "linecolor": "white",
            "showbackground": true,
            "ticks": "",
            "zerolinecolor": "white"
           },
           "yaxis": {
            "backgroundcolor": "#E5ECF6",
            "gridcolor": "white",
            "gridwidth": 2,
            "linecolor": "white",
            "showbackground": true,
            "ticks": "",
            "zerolinecolor": "white"
           },
           "zaxis": {
            "backgroundcolor": "#E5ECF6",
            "gridcolor": "white",
            "gridwidth": 2,
            "linecolor": "white",
            "showbackground": true,
            "ticks": "",
            "zerolinecolor": "white"
           }
          },
          "shapedefaults": {
           "line": {
            "color": "#2a3f5f"
           }
          },
          "ternary": {
           "aaxis": {
            "gridcolor": "white",
            "linecolor": "white",
            "ticks": ""
           },
           "baxis": {
            "gridcolor": "white",
            "linecolor": "white",
            "ticks": ""
           },
           "bgcolor": "#E5ECF6",
           "caxis": {
            "gridcolor": "white",
            "linecolor": "white",
            "ticks": ""
           }
          },
          "title": {
           "x": 0.05
          },
          "xaxis": {
           "automargin": true,
           "gridcolor": "white",
           "linecolor": "white",
           "ticks": "",
           "title": {
            "standoff": 15
           },
           "zerolinecolor": "white",
           "zerolinewidth": 2
          },
          "yaxis": {
           "automargin": true,
           "gridcolor": "white",
           "linecolor": "white",
           "ticks": "",
           "title": {
            "standoff": 15
           },
           "zerolinecolor": "white",
           "zerolinewidth": 2
          }
         }
        }
       }
      },
      "text/html": [
       "<div>                            <div id=\"182a3f9a-139a-4f5b-92d1-ce2b31f49036\" class=\"plotly-graph-div\" style=\"height:525px; width:100%;\"></div>            <script type=\"text/javascript\">                require([\"plotly\"], function(Plotly) {                    window.PLOTLYENV=window.PLOTLYENV || {};                                    if (document.getElementById(\"182a3f9a-139a-4f5b-92d1-ce2b31f49036\")) {                    Plotly.newPlot(                        \"182a3f9a-139a-4f5b-92d1-ce2b31f49036\",                        [{\"close\": [655.75, 649.9, 617.45, 604.3, 615.65, 599.95, 588.25, 573.2, 593.05, 578.4, 589.0, 584.5, 581.2, 576.35, 571.2, 581.95, 580.95, 622.2, 643.0, 634.05, 648.75, 656.1, 648.15, 642.85, 635.2, 652.2, 648.5, 654.05, 665.55, 661.15, 663.15, 659.7, 658.25, 660.75, 680.35, 677.0, 690.95, 685.1, 714.65, 695.6, 706.4, 717.1, 713.45, 726.6, 724.05, 720.85, 742.1, 736.9, 734.1, 731.75, 728.0, 726.2, 727.8, 722.7, 693.25, 657.7, 664.4, 665.6, 641.7, 661.05, 654.8, 670.1, 667.0, 645.4, 651.55, 655.05, 653.15, 642.45, 646.6, 645.7, 621.75, 620.1, 616.45, 620.65, 628.5, 620.4, 624.15, 624.8, 619.95, 604.2, 584.85, 589.35, 599.15, 607.3, 616.2, 617.1, 621.7, 617.25, 615.2, 618.85, 619.35, 633.4, 627.4, 641.25, 638.6, 649.0, 650.45, 662.7, 677.45, 683.65, 668.3, 662.25, 670.45, 660.2, 655.3, 662.45, 665.4, 682.35, 685.95, 689.9, 689.4, 680.65, 681.85, 686.2, 689.0, 679.95, 667.4, 657.05, 665.85, 661.25, 683.2, 678.6, 671.65, 662.05, 672.95, 681.9], \"high\": [662.9, 658.9, 655.8, 628.9, 619.95, 635.0, 607.8, 596.7, 596.9, 601.0, 595.9, 599.4, 589.5, 580.0, 577.0, 587.95, 587.95, 627.0, 646.4, 646.0, 655.45, 661.75, 669.0, 657.0, 647.85, 653.9, 659.85, 656.75, 674.7, 668.0, 677.8, 663.25, 669.7, 665.4, 686.0, 689.0, 693.75, 695.5, 719.2, 716.9, 709.5, 719.85, 726.0, 734.9, 729.6, 731.9, 744.5, 750.95, 743.3, 737.6, 738.0, 732.4, 730.3, 731.4, 718.0, 693.7, 672.4, 679.0, 665.0, 664.3, 669.4, 672.8, 676.0, 669.45, 654.4, 686.0, 659.45, 659.0, 648.45, 655.0, 642.45, 626.4, 632.9, 625.35, 629.7, 634.8, 628.7, 631.7, 628.9, 621.0, 604.9, 592.8, 602.25, 608.75, 619.8, 623.8, 623.9, 626.8, 618.8, 622.7, 621.35, 648.0, 640.0, 646.85, 651.9, 651.0, 656.9, 664.25, 679.7, 686.8, 685.0, 673.0, 673.45, 674.9, 670.0, 666.5, 680.0, 686.85, 688.1, 694.75, 695.0, 695.7, 683.9, 690.8, 692.9, 691.8, 676.0, 673.4, 670.7, 675.95, 685.25, 689.0, 684.4, 677.45, 674.85, 686.0], \"low\": [650.1, 646.15, 591.0, 596.15, 605.25, 597.55, 585.3, 562.0, 580.0, 573.3, 573.25, 581.6, 579.1, 567.1, 564.6, 565.0, 579.15, 581.5, 626.0, 631.2, 636.0, 640.0, 645.1, 640.05, 631.6, 638.0, 559.7, 649.0, 658.0, 654.6, 655.3, 651.55, 654.15, 651.1, 660.0, 674.2, 678.0, 681.0, 670.05, 692.65, 697.5, 706.0, 711.3, 715.25, 719.2, 712.2, 715.85, 735.05, 731.35, 725.0, 725.05, 718.0, 712.3, 719.1, 688.25, 651.15, 651.7, 659.1, 637.0, 637.65, 650.25, 652.65, 663.6, 641.9, 646.3, 653.05, 648.0, 640.1, 636.1, 642.35, 619.05, 607.35, 614.1, 607.25, 611.1, 617.35, 615.0, 621.85, 616.05, 601.25, 582.0, 576.05, 584.05, 599.7, 610.0, 608.05, 617.1, 615.3, 608.6, 612.35, 612.5, 621.05, 623.15, 622.0, 635.5, 631.2, 648.0, 649.0, 653.25, 668.1, 664.1, 660.0, 659.1, 658.1, 653.55, 655.5, 658.0, 668.0, 678.05, 685.0, 685.65, 678.6, 673.65, 676.5, 684.3, 677.65, 574.0, 654.0, 655.25, 658.05, 657.1, 675.05, 669.0, 660.5, 658.0, 675.0], \"open\": [654.5, 658.85, 649.95, 615.25, 609.4, 635.0, 600.0, 562.0, 587.0, 595.0, 588.0, 594.0, 587.0, 578.7, 577.0, 565.0, 586.0, 583.9, 626.0, 640.0, 636.0, 647.1, 669.0, 653.0, 645.0, 640.0, 653.0, 652.9, 658.0, 668.0, 661.15, 662.1, 667.7, 661.7, 660.75, 683.0, 680.0, 695.0, 694.85, 711.0, 699.0, 707.75, 719.0, 716.45, 725.0, 727.0, 719.9, 741.15, 737.0, 734.0, 732.05, 729.9, 727.0, 730.9, 718.0, 689.7, 662.0, 679.0, 665.0, 644.45, 666.0, 655.0, 670.1, 668.0, 649.0, 654.4, 657.0, 653.15, 642.45, 655.0, 642.45, 610.0, 624.75, 618.0, 618.0, 630.0, 624.9, 628.0, 625.0, 620.0, 602.35, 588.0, 591.5, 601.3, 610.0, 616.0, 620.0, 623.0, 615.4, 612.35, 618.0, 648.0, 635.0, 624.0, 645.0, 644.8, 652.1, 655.0, 662.0, 675.2, 685.0, 670.0, 663.5, 669.5, 664.9, 655.5, 665.0, 668.0, 680.0, 690.0, 693.0, 692.0, 681.0, 685.0, 687.0, 690.0, 574.0, 671.9, 655.25, 671.0, 663.0, 683.05, 677.0, 672.0, 664.15, 676.0], \"type\": \"candlestick\", \"x\": [\"2005-01-03T00:00:00\", \"2005-01-04T00:00:00\", \"2005-01-05T00:00:00\", \"2005-01-06T00:00:00\", \"2005-01-07T00:00:00\", \"2005-01-10T00:00:00\", \"2005-01-11T00:00:00\", \"2005-01-12T00:00:00\", \"2005-01-13T00:00:00\", \"2005-01-14T00:00:00\", \"2005-01-17T00:00:00\", \"2005-01-18T00:00:00\", \"2005-01-19T00:00:00\", \"2005-01-20T00:00:00\", \"2005-01-24T00:00:00\", \"2005-01-25T00:00:00\", \"2005-01-27T00:00:00\", \"2005-01-28T00:00:00\", \"2005-01-31T00:00:00\", \"2005-02-01T00:00:00\", \"2005-02-02T00:00:00\", \"2005-02-03T00:00:00\", \"2005-02-04T00:00:00\", \"2005-02-07T00:00:00\", \"2005-02-08T00:00:00\", \"2005-02-09T00:00:00\", \"2005-02-10T00:00:00\", \"2005-02-11T00:00:00\", \"2005-02-14T00:00:00\", \"2005-02-15T00:00:00\", \"2005-02-16T00:00:00\", \"2005-02-17T00:00:00\", \"2005-02-18T00:00:00\", \"2005-02-21T00:00:00\", \"2005-02-22T00:00:00\", \"2005-02-23T00:00:00\", \"2005-02-24T00:00:00\", \"2005-02-25T00:00:00\", \"2005-02-28T00:00:00\", \"2005-03-01T00:00:00\", \"2005-03-02T00:00:00\", \"2005-03-03T00:00:00\", \"2005-03-04T00:00:00\", \"2005-03-07T00:00:00\", \"2005-03-08T00:00:00\", \"2005-03-09T00:00:00\", \"2005-03-10T00:00:00\", \"2005-03-11T00:00:00\", \"2005-03-14T00:00:00\", \"2005-03-15T00:00:00\", \"2005-03-16T00:00:00\", \"2005-03-17T00:00:00\", \"2005-03-18T00:00:00\", \"2005-03-21T00:00:00\", \"2005-03-22T00:00:00\", \"2005-03-23T00:00:00\", \"2005-03-24T00:00:00\", \"2005-03-28T00:00:00\", \"2005-03-29T00:00:00\", \"2005-03-30T00:00:00\", \"2005-03-31T00:00:00\", \"2005-04-01T00:00:00\", \"2005-04-04T00:00:00\", \"2005-04-05T00:00:00\", \"2005-04-06T00:00:00\", \"2005-04-07T00:00:00\", \"2005-04-08T00:00:00\", \"2005-04-11T00:00:00\", \"2005-04-12T00:00:00\", \"2005-04-13T00:00:00\", \"2005-04-15T00:00:00\", \"2005-04-18T00:00:00\", \"2005-04-19T00:00:00\", \"2005-04-20T00:00:00\", \"2005-04-21T00:00:00\", \"2005-04-22T00:00:00\", \"2005-04-25T00:00:00\", \"2005-04-26T00:00:00\", \"2005-04-27T00:00:00\", \"2005-04-28T00:00:00\", \"2005-04-29T00:00:00\", \"2005-05-02T00:00:00\", \"2005-05-03T00:00:00\", \"2005-05-04T00:00:00\", \"2005-05-05T00:00:00\", \"2005-05-06T00:00:00\", \"2005-05-09T00:00:00\", \"2005-05-10T00:00:00\", \"2005-05-11T00:00:00\", \"2005-05-12T00:00:00\", \"2005-05-13T00:00:00\", \"2005-05-16T00:00:00\", \"2005-05-17T00:00:00\", \"2005-05-18T00:00:00\", \"2005-05-19T00:00:00\", \"2005-05-20T00:00:00\", \"2005-05-23T00:00:00\", \"2005-05-24T00:00:00\", \"2005-05-25T00:00:00\", \"2005-05-26T00:00:00\", \"2005-05-27T00:00:00\", \"2005-05-30T00:00:00\", \"2005-05-31T00:00:00\", \"2005-06-01T00:00:00\", \"2005-06-02T00:00:00\", \"2005-06-03T00:00:00\", \"2005-06-04T00:00:00\", \"2005-06-06T00:00:00\", \"2005-06-07T00:00:00\", \"2005-06-08T00:00:00\", \"2005-06-09T00:00:00\", \"2005-06-10T00:00:00\", \"2005-06-13T00:00:00\", \"2005-06-14T00:00:00\", \"2005-06-15T00:00:00\", \"2005-06-16T00:00:00\", \"2005-06-17T00:00:00\", \"2005-06-20T00:00:00\", \"2005-06-21T00:00:00\", \"2005-06-22T00:00:00\", \"2005-06-23T00:00:00\", \"2005-06-24T00:00:00\", \"2005-06-27T00:00:00\", \"2005-06-28T00:00:00\", \"2005-06-29T00:00:00\", \"2005-06-30T00:00:00\"]}],                        {\"template\": {\"data\": {\"bar\": [{\"error_x\": {\"color\": \"#2a3f5f\"}, \"error_y\": {\"color\": \"#2a3f5f\"}, \"marker\": {\"line\": {\"color\": \"#E5ECF6\", \"width\": 0.5}}, \"type\": \"bar\"}], \"barpolar\": [{\"marker\": {\"line\": {\"color\": \"#E5ECF6\", \"width\": 0.5}}, \"type\": \"barpolar\"}], \"carpet\": [{\"aaxis\": {\"endlinecolor\": \"#2a3f5f\", \"gridcolor\": \"white\", \"linecolor\": \"white\", \"minorgridcolor\": \"white\", \"startlinecolor\": \"#2a3f5f\"}, \"baxis\": {\"endlinecolor\": \"#2a3f5f\", \"gridcolor\": \"white\", \"linecolor\": \"white\", \"minorgridcolor\": \"white\", \"startlinecolor\": \"#2a3f5f\"}, \"type\": \"carpet\"}], \"choropleth\": [{\"colorbar\": {\"outlinewidth\": 0, \"ticks\": \"\"}, \"type\": \"choropleth\"}], \"contour\": [{\"colorbar\": {\"outlinewidth\": 0, \"ticks\": \"\"}, \"colorscale\": [[0.0, \"#0d0887\"], [0.1111111111111111, \"#46039f\"], [0.2222222222222222, \"#7201a8\"], [0.3333333333333333, \"#9c179e\"], [0.4444444444444444, \"#bd3786\"], [0.5555555555555556, \"#d8576b\"], [0.6666666666666666, \"#ed7953\"], [0.7777777777777778, \"#fb9f3a\"], [0.8888888888888888, \"#fdca26\"], [1.0, \"#f0f921\"]], \"type\": \"contour\"}], \"contourcarpet\": [{\"colorbar\": {\"outlinewidth\": 0, \"ticks\": \"\"}, \"type\": \"contourcarpet\"}], \"heatmap\": [{\"colorbar\": {\"outlinewidth\": 0, \"ticks\": \"\"}, \"colorscale\": [[0.0, \"#0d0887\"], [0.1111111111111111, \"#46039f\"], [0.2222222222222222, \"#7201a8\"], [0.3333333333333333, \"#9c179e\"], [0.4444444444444444, \"#bd3786\"], [0.5555555555555556, \"#d8576b\"], [0.6666666666666666, \"#ed7953\"], [0.7777777777777778, \"#fb9f3a\"], [0.8888888888888888, \"#fdca26\"], [1.0, \"#f0f921\"]], \"type\": \"heatmap\"}], \"heatmapgl\": [{\"colorbar\": {\"outlinewidth\": 0, \"ticks\": \"\"}, \"colorscale\": [[0.0, \"#0d0887\"], [0.1111111111111111, \"#46039f\"], [0.2222222222222222, \"#7201a8\"], [0.3333333333333333, \"#9c179e\"], [0.4444444444444444, \"#bd3786\"], [0.5555555555555556, \"#d8576b\"], [0.6666666666666666, \"#ed7953\"], [0.7777777777777778, \"#fb9f3a\"], [0.8888888888888888, \"#fdca26\"], [1.0, \"#f0f921\"]], \"type\": \"heatmapgl\"}], \"histogram\": [{\"marker\": {\"colorbar\": {\"outlinewidth\": 0, \"ticks\": \"\"}}, \"type\": \"histogram\"}], \"histogram2d\": [{\"colorbar\": {\"outlinewidth\": 0, \"ticks\": \"\"}, \"colorscale\": [[0.0, \"#0d0887\"], [0.1111111111111111, \"#46039f\"], [0.2222222222222222, \"#7201a8\"], [0.3333333333333333, \"#9c179e\"], [0.4444444444444444, \"#bd3786\"], [0.5555555555555556, \"#d8576b\"], [0.6666666666666666, \"#ed7953\"], [0.7777777777777778, \"#fb9f3a\"], [0.8888888888888888, \"#fdca26\"], [1.0, \"#f0f921\"]], \"type\": \"histogram2d\"}], \"histogram2dcontour\": [{\"colorbar\": {\"outlinewidth\": 0, \"ticks\": \"\"}, \"colorscale\": [[0.0, \"#0d0887\"], [0.1111111111111111, \"#46039f\"], [0.2222222222222222, \"#7201a8\"], [0.3333333333333333, \"#9c179e\"], [0.4444444444444444, \"#bd3786\"], [0.5555555555555556, \"#d8576b\"], [0.6666666666666666, \"#ed7953\"], [0.7777777777777778, \"#fb9f3a\"], [0.8888888888888888, \"#fdca26\"], [1.0, \"#f0f921\"]], \"type\": \"histogram2dcontour\"}], \"mesh3d\": [{\"colorbar\": {\"outlinewidth\": 0, \"ticks\": \"\"}, \"type\": \"mesh3d\"}], \"parcoords\": [{\"line\": {\"colorbar\": {\"outlinewidth\": 0, \"ticks\": \"\"}}, \"type\": \"parcoords\"}], \"pie\": [{\"automargin\": true, \"type\": \"pie\"}], \"scatter\": [{\"marker\": {\"colorbar\": {\"outlinewidth\": 0, \"ticks\": \"\"}}, \"type\": \"scatter\"}], \"scatter3d\": [{\"line\": {\"colorbar\": {\"outlinewidth\": 0, \"ticks\": \"\"}}, \"marker\": {\"colorbar\": {\"outlinewidth\": 0, \"ticks\": \"\"}}, \"type\": \"scatter3d\"}], \"scattercarpet\": [{\"marker\": {\"colorbar\": {\"outlinewidth\": 0, \"ticks\": \"\"}}, \"type\": \"scattercarpet\"}], \"scattergeo\": [{\"marker\": {\"colorbar\": {\"outlinewidth\": 0, \"ticks\": \"\"}}, \"type\": \"scattergeo\"}], \"scattergl\": [{\"marker\": {\"colorbar\": {\"outlinewidth\": 0, \"ticks\": \"\"}}, \"type\": \"scattergl\"}], \"scattermapbox\": [{\"marker\": {\"colorbar\": {\"outlinewidth\": 0, \"ticks\": \"\"}}, \"type\": \"scattermapbox\"}], \"scatterpolar\": [{\"marker\": {\"colorbar\": {\"outlinewidth\": 0, \"ticks\": \"\"}}, \"type\": \"scatterpolar\"}], \"scatterpolargl\": [{\"marker\": {\"colorbar\": {\"outlinewidth\": 0, \"ticks\": \"\"}}, \"type\": \"scatterpolargl\"}], \"scatterternary\": [{\"marker\": {\"colorbar\": {\"outlinewidth\": 0, \"ticks\": \"\"}}, \"type\": \"scatterternary\"}], \"surface\": [{\"colorbar\": {\"outlinewidth\": 0, \"ticks\": \"\"}, \"colorscale\": [[0.0, \"#0d0887\"], [0.1111111111111111, \"#46039f\"], [0.2222222222222222, \"#7201a8\"], [0.3333333333333333, \"#9c179e\"], [0.4444444444444444, \"#bd3786\"], [0.5555555555555556, \"#d8576b\"], [0.6666666666666666, \"#ed7953\"], [0.7777777777777778, \"#fb9f3a\"], [0.8888888888888888, \"#fdca26\"], [1.0, \"#f0f921\"]], \"type\": \"surface\"}], \"table\": [{\"cells\": {\"fill\": {\"color\": \"#EBF0F8\"}, \"line\": {\"color\": \"white\"}}, \"header\": {\"fill\": {\"color\": \"#C8D4E3\"}, \"line\": {\"color\": \"white\"}}, \"type\": \"table\"}]}, \"layout\": {\"annotationdefaults\": {\"arrowcolor\": \"#2a3f5f\", \"arrowhead\": 0, \"arrowwidth\": 1}, \"autotypenumbers\": \"strict\", \"coloraxis\": {\"colorbar\": {\"outlinewidth\": 0, \"ticks\": \"\"}}, \"colorscale\": {\"diverging\": [[0, \"#8e0152\"], [0.1, \"#c51b7d\"], [0.2, \"#de77ae\"], [0.3, \"#f1b6da\"], [0.4, \"#fde0ef\"], [0.5, \"#f7f7f7\"], [0.6, \"#e6f5d0\"], [0.7, \"#b8e186\"], [0.8, \"#7fbc41\"], [0.9, \"#4d9221\"], [1, \"#276419\"]], \"sequential\": [[0.0, \"#0d0887\"], [0.1111111111111111, \"#46039f\"], [0.2222222222222222, \"#7201a8\"], [0.3333333333333333, \"#9c179e\"], [0.4444444444444444, \"#bd3786\"], [0.5555555555555556, \"#d8576b\"], [0.6666666666666666, \"#ed7953\"], [0.7777777777777778, \"#fb9f3a\"], [0.8888888888888888, \"#fdca26\"], [1.0, \"#f0f921\"]], \"sequentialminus\": [[0.0, \"#0d0887\"], [0.1111111111111111, \"#46039f\"], [0.2222222222222222, \"#7201a8\"], [0.3333333333333333, \"#9c179e\"], [0.4444444444444444, \"#bd3786\"], [0.5555555555555556, \"#d8576b\"], [0.6666666666666666, \"#ed7953\"], [0.7777777777777778, \"#fb9f3a\"], [0.8888888888888888, \"#fdca26\"], [1.0, \"#f0f921\"]]}, \"colorway\": [\"#636efa\", \"#EF553B\", \"#00cc96\", \"#ab63fa\", \"#FFA15A\", \"#19d3f3\", \"#FF6692\", \"#B6E880\", \"#FF97FF\", \"#FECB52\"], \"font\": {\"color\": \"#2a3f5f\"}, \"geo\": {\"bgcolor\": \"white\", \"lakecolor\": \"white\", \"landcolor\": \"#E5ECF6\", \"showlakes\": true, \"showland\": true, \"subunitcolor\": \"white\"}, \"hoverlabel\": {\"align\": \"left\"}, \"hovermode\": \"closest\", \"mapbox\": {\"style\": \"light\"}, \"paper_bgcolor\": \"white\", \"plot_bgcolor\": \"#E5ECF6\", \"polar\": {\"angularaxis\": {\"gridcolor\": \"white\", \"linecolor\": \"white\", \"ticks\": \"\"}, \"bgcolor\": \"#E5ECF6\", \"radialaxis\": {\"gridcolor\": \"white\", \"linecolor\": \"white\", \"ticks\": \"\"}}, \"scene\": {\"xaxis\": {\"backgroundcolor\": \"#E5ECF6\", \"gridcolor\": \"white\", \"gridwidth\": 2, \"linecolor\": \"white\", \"showbackground\": true, \"ticks\": \"\", \"zerolinecolor\": \"white\"}, \"yaxis\": {\"backgroundcolor\": \"#E5ECF6\", \"gridcolor\": \"white\", \"gridwidth\": 2, \"linecolor\": \"white\", \"showbackground\": true, \"ticks\": \"\", \"zerolinecolor\": \"white\"}, \"zaxis\": {\"backgroundcolor\": \"#E5ECF6\", \"gridcolor\": \"white\", \"gridwidth\": 2, \"linecolor\": \"white\", \"showbackground\": true, \"ticks\": \"\", \"zerolinecolor\": \"white\"}}, \"shapedefaults\": {\"line\": {\"color\": \"#2a3f5f\"}}, \"ternary\": {\"aaxis\": {\"gridcolor\": \"white\", \"linecolor\": \"white\", \"ticks\": \"\"}, \"baxis\": {\"gridcolor\": \"white\", \"linecolor\": \"white\", \"ticks\": \"\"}, \"bgcolor\": \"#E5ECF6\", \"caxis\": {\"gridcolor\": \"white\", \"linecolor\": \"white\", \"ticks\": \"\"}}, \"title\": {\"x\": 0.05}, \"xaxis\": {\"automargin\": true, \"gridcolor\": \"white\", \"linecolor\": \"white\", \"ticks\": \"\", \"title\": {\"standoff\": 15}, \"zerolinecolor\": \"white\", \"zerolinewidth\": 2}, \"yaxis\": {\"automargin\": true, \"gridcolor\": \"white\", \"linecolor\": \"white\", \"ticks\": \"\", \"title\": {\"standoff\": 15}, \"zerolinecolor\": \"white\", \"zerolinewidth\": 2}}}},                        {\"responsive\": true}                    ).then(function(){\n",
       "                            \n",
       "var gd = document.getElementById('182a3f9a-139a-4f5b-92d1-ce2b31f49036');\n",
       "var x = new MutationObserver(function (mutations, observer) {{\n",
       "        var display = window.getComputedStyle(gd).display;\n",
       "        if (!display || display === 'none') {{\n",
       "            console.log([gd, 'removed!']);\n",
       "            Plotly.purge(gd);\n",
       "            observer.disconnect();\n",
       "        }}\n",
       "}});\n",
       "\n",
       "// Listen for the removal of the full notebook cells\n",
       "var notebookContainer = gd.closest('#notebook-container');\n",
       "if (notebookContainer) {{\n",
       "    x.observe(notebookContainer, {childList: true});\n",
       "}}\n",
       "\n",
       "// Listen for the clearing of the current output cell\n",
       "var outputEl = gd.closest('.output');\n",
       "if (outputEl) {{\n",
       "    x.observe(outputEl, {childList: true});\n",
       "}}\n",
       "\n",
       "                        })                };                });            </script>        </div>"
      ]
     },
     "metadata": {},
     "output_type": "display_data"
    },
    {
     "data": {
      "application/vnd.plotly.v1+json": {
       "config": {
        "plotlyServerURL": "https://plot.ly"
       },
       "data": [
        {
         "hovertemplate": "variable=+DI<br>Date=%{x|%B %d, %Y}<br>value=%{y}<extra></extra>",
         "legendgroup": "+DI",
         "line": {
          "color": "#636efa",
          "dash": "solid"
         },
         "mode": "lines",
         "name": "+DI",
         "orientation": "v",
         "showlegend": true,
         "type": "scatter",
         "x": [
          "2005-01-03T00:00:00",
          "2005-01-04T00:00:00",
          "2005-01-05T00:00:00",
          "2005-01-06T00:00:00",
          "2005-01-07T00:00:00",
          "2005-01-10T00:00:00",
          "2005-01-11T00:00:00",
          "2005-01-12T00:00:00",
          "2005-01-13T00:00:00",
          "2005-01-14T00:00:00",
          "2005-01-17T00:00:00",
          "2005-01-18T00:00:00",
          "2005-01-19T00:00:00",
          "2005-01-20T00:00:00",
          "2005-01-24T00:00:00",
          "2005-01-25T00:00:00",
          "2005-01-27T00:00:00",
          "2005-01-28T00:00:00",
          "2005-01-31T00:00:00",
          "2005-02-01T00:00:00",
          "2005-02-02T00:00:00",
          "2005-02-03T00:00:00",
          "2005-02-04T00:00:00",
          "2005-02-07T00:00:00",
          "2005-02-08T00:00:00",
          "2005-02-09T00:00:00",
          "2005-02-10T00:00:00",
          "2005-02-11T00:00:00",
          "2005-02-14T00:00:00",
          "2005-02-15T00:00:00",
          "2005-02-16T00:00:00",
          "2005-02-17T00:00:00",
          "2005-02-18T00:00:00",
          "2005-02-21T00:00:00",
          "2005-02-22T00:00:00",
          "2005-02-23T00:00:00",
          "2005-02-24T00:00:00",
          "2005-02-25T00:00:00",
          "2005-02-28T00:00:00",
          "2005-03-01T00:00:00",
          "2005-03-02T00:00:00",
          "2005-03-03T00:00:00",
          "2005-03-04T00:00:00",
          "2005-03-07T00:00:00",
          "2005-03-08T00:00:00",
          "2005-03-09T00:00:00",
          "2005-03-10T00:00:00",
          "2005-03-11T00:00:00",
          "2005-03-14T00:00:00",
          "2005-03-15T00:00:00",
          "2005-03-16T00:00:00",
          "2005-03-17T00:00:00",
          "2005-03-18T00:00:00",
          "2005-03-21T00:00:00",
          "2005-03-22T00:00:00",
          "2005-03-23T00:00:00",
          "2005-03-24T00:00:00",
          "2005-03-28T00:00:00",
          "2005-03-29T00:00:00",
          "2005-03-30T00:00:00",
          "2005-03-31T00:00:00",
          "2005-04-01T00:00:00",
          "2005-04-04T00:00:00",
          "2005-04-05T00:00:00",
          "2005-04-06T00:00:00",
          "2005-04-07T00:00:00",
          "2005-04-08T00:00:00",
          "2005-04-11T00:00:00",
          "2005-04-12T00:00:00",
          "2005-04-13T00:00:00",
          "2005-04-15T00:00:00",
          "2005-04-18T00:00:00",
          "2005-04-19T00:00:00",
          "2005-04-20T00:00:00",
          "2005-04-21T00:00:00",
          "2005-04-22T00:00:00",
          "2005-04-25T00:00:00",
          "2005-04-26T00:00:00",
          "2005-04-27T00:00:00",
          "2005-04-28T00:00:00",
          "2005-04-29T00:00:00",
          "2005-05-02T00:00:00",
          "2005-05-03T00:00:00",
          "2005-05-04T00:00:00",
          "2005-05-05T00:00:00",
          "2005-05-06T00:00:00",
          "2005-05-09T00:00:00",
          "2005-05-10T00:00:00",
          "2005-05-11T00:00:00",
          "2005-05-12T00:00:00",
          "2005-05-13T00:00:00",
          "2005-05-16T00:00:00",
          "2005-05-17T00:00:00",
          "2005-05-18T00:00:00",
          "2005-05-19T00:00:00",
          "2005-05-20T00:00:00",
          "2005-05-23T00:00:00",
          "2005-05-24T00:00:00",
          "2005-05-25T00:00:00",
          "2005-05-26T00:00:00",
          "2005-05-27T00:00:00",
          "2005-05-30T00:00:00",
          "2005-05-31T00:00:00",
          "2005-06-01T00:00:00",
          "2005-06-02T00:00:00",
          "2005-06-03T00:00:00",
          "2005-06-04T00:00:00",
          "2005-06-06T00:00:00",
          "2005-06-07T00:00:00",
          "2005-06-08T00:00:00",
          "2005-06-09T00:00:00",
          "2005-06-10T00:00:00",
          "2005-06-13T00:00:00",
          "2005-06-14T00:00:00",
          "2005-06-15T00:00:00",
          "2005-06-16T00:00:00",
          "2005-06-17T00:00:00",
          "2005-06-20T00:00:00",
          "2005-06-21T00:00:00",
          "2005-06-22T00:00:00",
          "2005-06-23T00:00:00",
          "2005-06-24T00:00:00",
          "2005-06-27T00:00:00",
          "2005-06-28T00:00:00",
          "2005-06-29T00:00:00",
          "2005-06-30T00:00:00"
         ],
         "xaxis": "x",
         "y": [
          30.988817101759132,
          26.85697482152458,
          23.2760448453213,
          20.17257219927846,
          17.482895906041332,
          24.320685590283652,
          21.077927511579166,
          18.26753717670194,
          15.941556557499903,
          13.816015683166583,
          11.973880258744371,
          12.165357782354953,
          10.543310078040959,
          9.13753540096883,
          7.919197347506318,
          12.548188250469897,
          10.875096483740576,
          32.43071193968785,
          39.23548404983968,
          34.00408617652772,
          35.31804491672352,
          34.68240489018703,
          34.74251945219232,
          30.110183525233346,
          26.09549238853557,
          26.758155876653777,
          23.19040175976661,
          20.098348191797726,
          26.603509953359218,
          23.056375292911323,
          24.9404066741031,
          21.615019117556024,
          22.42683463880475,
          19.436590020297448,
          28.495804670118524,
          26.429573580088476,
          25.71198165198637,
          23.3257163684573,
          32.986983439268094,
          28.588718980699014,
          24.776889783272477,
          28.594572447874118,
          29.108324197616753,
          31.30378099565213,
          27.129943529565175,
          23.51261772562315,
          28.706213926890413,
          29.118155356356695,
          25.2357346421758,
          21.870970023219023,
          19.23772254572774,
          16.67269287296404,
          14.449667156568836,
          13.453207194432157,
          11.659446235174537,
          10.104853403817932,
          8.757539616642207,
          12.078845623668418,
          10.468332873845961,
          9.072555157333168,
          11.144508161519163,
          11.814737037644774,
          12.2656712399525,
          10.630248407958833,
          9.21288195356432,
          26.086896547367637,
          22.608643674385284,
          19.594157851133915,
          16.981603470982726,
          19.181305945996847,
          16.623798486530603,
          14.407292021659856,
          16.993501525260232,
          14.7277013218922,
          15.885884013767562,
          17.46628984378885,
          15.137451197950336,
          15.442775823839114,
          13.38373904732723,
          11.5992405076836,
          10.05267510665912,
          8.712318425771237,
          14.741870424770218,
          17.784887632668067,
          24.456386759360072,
          24.517006128574696,
          21.335791276343706,
          21.116302003028405,
          18.300795069291283,
          19.67820348060838,
          17.054443016527262,
          39.088685698613844,
          33.876860938798664,
          35.34201242376198,
          35.1781960507344,
          30.48776991063648,
          31.902004237642807,
          34.28764877303511,
          42.78939835337268,
          43.01272199348506,
          37.277692394353714,
          32.30733340843989,
          27.999688953981234,
          25.350147510534104,
          21.97012784246289,
          19.040777463467837,
          26.785622723660836,
          28.50560576736172,
          25.696500207333262,
          27.78121397917086,
          24.283816256471784,
          21.04597408894221,
          18.23984421041658,
          22.031590519930468,
          21.107916167876738,
          18.293527345493175,
          15.854390366094083,
          13.740471650614875,
          11.908408763866225,
          13.634790695339452,
          17.56801953024054,
          17.603738210393963,
          15.256573115674769,
          13.22236336691813,
          11.45938158466238,
          16.637870785113478
         ],
         "yaxis": "y"
        },
        {
         "hovertemplate": "variable=-DI<br>Date=%{x|%B %d, %Y}<br>value=%{y}<extra></extra>",
         "legendgroup": "-DI",
         "line": {
          "color": "#EF553B",
          "dash": "solid"
         },
         "mode": "lines",
         "name": "-DI",
         "orientation": "v",
         "showlegend": true,
         "type": "scatter",
         "x": [
          "2005-01-03T00:00:00",
          "2005-01-04T00:00:00",
          "2005-01-05T00:00:00",
          "2005-01-06T00:00:00",
          "2005-01-07T00:00:00",
          "2005-01-10T00:00:00",
          "2005-01-11T00:00:00",
          "2005-01-12T00:00:00",
          "2005-01-13T00:00:00",
          "2005-01-14T00:00:00",
          "2005-01-17T00:00:00",
          "2005-01-18T00:00:00",
          "2005-01-19T00:00:00",
          "2005-01-20T00:00:00",
          "2005-01-24T00:00:00",
          "2005-01-25T00:00:00",
          "2005-01-27T00:00:00",
          "2005-01-28T00:00:00",
          "2005-01-31T00:00:00",
          "2005-02-01T00:00:00",
          "2005-02-02T00:00:00",
          "2005-02-03T00:00:00",
          "2005-02-04T00:00:00",
          "2005-02-07T00:00:00",
          "2005-02-08T00:00:00",
          "2005-02-09T00:00:00",
          "2005-02-10T00:00:00",
          "2005-02-11T00:00:00",
          "2005-02-14T00:00:00",
          "2005-02-15T00:00:00",
          "2005-02-16T00:00:00",
          "2005-02-17T00:00:00",
          "2005-02-18T00:00:00",
          "2005-02-21T00:00:00",
          "2005-02-22T00:00:00",
          "2005-02-23T00:00:00",
          "2005-02-24T00:00:00",
          "2005-02-25T00:00:00",
          "2005-02-28T00:00:00",
          "2005-03-01T00:00:00",
          "2005-03-02T00:00:00",
          "2005-03-03T00:00:00",
          "2005-03-04T00:00:00",
          "2005-03-07T00:00:00",
          "2005-03-08T00:00:00",
          "2005-03-09T00:00:00",
          "2005-03-10T00:00:00",
          "2005-03-11T00:00:00",
          "2005-03-14T00:00:00",
          "2005-03-15T00:00:00",
          "2005-03-16T00:00:00",
          "2005-03-17T00:00:00",
          "2005-03-18T00:00:00",
          "2005-03-21T00:00:00",
          "2005-03-22T00:00:00",
          "2005-03-23T00:00:00",
          "2005-03-24T00:00:00",
          "2005-03-28T00:00:00",
          "2005-03-29T00:00:00",
          "2005-03-30T00:00:00",
          "2005-03-31T00:00:00",
          "2005-04-01T00:00:00",
          "2005-04-04T00:00:00",
          "2005-04-05T00:00:00",
          "2005-04-06T00:00:00",
          "2005-04-07T00:00:00",
          "2005-04-08T00:00:00",
          "2005-04-11T00:00:00",
          "2005-04-12T00:00:00",
          "2005-04-13T00:00:00",
          "2005-04-15T00:00:00",
          "2005-04-18T00:00:00",
          "2005-04-19T00:00:00",
          "2005-04-20T00:00:00",
          "2005-04-21T00:00:00",
          "2005-04-22T00:00:00",
          "2005-04-25T00:00:00",
          "2005-04-26T00:00:00",
          "2005-04-27T00:00:00",
          "2005-04-28T00:00:00",
          "2005-04-29T00:00:00",
          "2005-05-02T00:00:00",
          "2005-05-03T00:00:00",
          "2005-05-04T00:00:00",
          "2005-05-05T00:00:00",
          "2005-05-06T00:00:00",
          "2005-05-09T00:00:00",
          "2005-05-10T00:00:00",
          "2005-05-11T00:00:00",
          "2005-05-12T00:00:00",
          "2005-05-13T00:00:00",
          "2005-05-16T00:00:00",
          "2005-05-17T00:00:00",
          "2005-05-18T00:00:00",
          "2005-05-19T00:00:00",
          "2005-05-20T00:00:00",
          "2005-05-23T00:00:00",
          "2005-05-24T00:00:00",
          "2005-05-25T00:00:00",
          "2005-05-26T00:00:00",
          "2005-05-27T00:00:00",
          "2005-05-30T00:00:00",
          "2005-05-31T00:00:00",
          "2005-06-01T00:00:00",
          "2005-06-02T00:00:00",
          "2005-06-03T00:00:00",
          "2005-06-04T00:00:00",
          "2005-06-06T00:00:00",
          "2005-06-07T00:00:00",
          "2005-06-08T00:00:00",
          "2005-06-09T00:00:00",
          "2005-06-10T00:00:00",
          "2005-06-13T00:00:00",
          "2005-06-14T00:00:00",
          "2005-06-15T00:00:00",
          "2005-06-16T00:00:00",
          "2005-06-17T00:00:00",
          "2005-06-20T00:00:00",
          "2005-06-21T00:00:00",
          "2005-06-22T00:00:00",
          "2005-06-23T00:00:00",
          "2005-06-24T00:00:00",
          "2005-06-27T00:00:00",
          "2005-06-28T00:00:00",
          "2005-06-29T00:00:00",
          "2005-06-30T00:00:00"
         ],
         "xaxis": "x",
         "y": [
          10.19373054219619,
          12.114519020318584,
          49.36905033362476,
          42.78651028914146,
          37.08164225058926,
          32.13742328384402,
          35.201514877494205,
          43.79447210160791,
          37.95520915472686,
          36.47142484434021,
          31.63461713321279,
          27.416668182117753,
          25.06793590998698,
          28.130119151533627,
          25.71525072900101,
          22.286550631800875,
          19.315010547560757,
          16.73967580788599,
          14.507719033501193,
          12.573356495701033,
          10.896908962940895,
          9.443987767882108,
          8.184789398831162,
          10.482542807047452,
          14.889224925261377,
          12.903994935226526,
          51.51458810501086,
          44.64597635767608,
          38.69317950998594,
          35.32062421243115,
          30.611207650773657,
          28.62176350654219,
          24.805528372336568,
          23.247497252849904,
          20.147830952469917,
          17.461453492140596,
          15.133259693188513,
          13.115491734096713,
          11.366759502883818,
          9.851191569165975,
          8.537699359943845,
          7.399339445284666,
          6.412760852580044,
          5.557726072236038,
          4.816695929271233,
          9.026555459533522,
          7.823014731595719,
          6.77994610071629,
          8.434451774661609,
          11.736873455251404,
          10.171956994551214,
          13.803378457244712,
          16.535338825672856,
          14.330626982249811,
          36.28505146584321,
          57.096427319780176,
          49.48357034380948,
          42.885760964634876,
          51.26413424498097,
          44.42891634565018,
          38.50506083289682,
          33.37105272184391,
          28.921579025598053,
          38.142581294878035,
          33.056903788894296,
          28.64931661704172,
          27.78169920569545,
          28.602378035137534,
          27.2464849269195,
          23.6136202699969,
          36.00679678953305,
          39.0338475401759,
          33.82933453481911,
          34.22444110352525,
          29.661182289721882,
          25.706357984425633,
          23.974501362562016,
          20.777901180887078,
          22.429269172642517,
          31.442465609700232,
          42.12320529441128,
          41.14518538336696,
          35.65916066558469,
          30.904605910173398,
          26.783991788816948,
          23.212792883641352,
          20.117753832489175,
          17.43538665482395,
          21.433553503274048,
          18.575746369504177,
          16.09898018690362,
          13.952449495316468,
          12.09212289594094,
          10.479839843148815,
          9.082527864062307,
          11.68829384294177,
          10.129854663882867,
          8.779207375365152,
          7.6086463919831315,
          6.594160206385381,
          8.856814152357758,
          10.876128610766663,
          10.116483678036394,
          8.76761918763154,
          10.898907680378446,
          9.445719989661319,
          8.186290657706476,
          7.094785236678947,
          6.14881387178842,
          5.328972022216631,
          4.6184424192544125,
          9.785994416616797,
          12.853090122033148,
          11.139344772428728,
          9.654098802771562,
          14.706688148646457,
          80.06660363279346,
          69.39105648175432,
          60.13891561752042,
          52.12039353518436,
          45.17100773049311,
          39.1482066997607,
          37.69665846356079,
          37.840416698613765,
          34.27933654168239,
          29.708758336124735
         ],
         "yaxis": "y"
        },
        {
         "hovertemplate": "variable=ADX<br>Date=%{x|%B %d, %Y}<br>value=%{y}<extra></extra>",
         "legendgroup": "ADX",
         "line": {
          "color": "#00cc96",
          "dash": "solid"
         },
         "mode": "lines",
         "name": "ADX",
         "orientation": "v",
         "showlegend": true,
         "type": "scatter",
         "x": [
          "2005-01-03T00:00:00",
          "2005-01-04T00:00:00",
          "2005-01-05T00:00:00",
          "2005-01-06T00:00:00",
          "2005-01-07T00:00:00",
          "2005-01-10T00:00:00",
          "2005-01-11T00:00:00",
          "2005-01-12T00:00:00",
          "2005-01-13T00:00:00",
          "2005-01-14T00:00:00",
          "2005-01-17T00:00:00",
          "2005-01-18T00:00:00",
          "2005-01-19T00:00:00",
          "2005-01-20T00:00:00",
          "2005-01-24T00:00:00",
          "2005-01-25T00:00:00",
          "2005-01-27T00:00:00",
          "2005-01-28T00:00:00",
          "2005-01-31T00:00:00",
          "2005-02-01T00:00:00",
          "2005-02-02T00:00:00",
          "2005-02-03T00:00:00",
          "2005-02-04T00:00:00",
          "2005-02-07T00:00:00",
          "2005-02-08T00:00:00",
          "2005-02-09T00:00:00",
          "2005-02-10T00:00:00",
          "2005-02-11T00:00:00",
          "2005-02-14T00:00:00",
          "2005-02-15T00:00:00",
          "2005-02-16T00:00:00",
          "2005-02-17T00:00:00",
          "2005-02-18T00:00:00",
          "2005-02-21T00:00:00",
          "2005-02-22T00:00:00",
          "2005-02-23T00:00:00",
          "2005-02-24T00:00:00",
          "2005-02-25T00:00:00",
          "2005-02-28T00:00:00",
          "2005-03-01T00:00:00",
          "2005-03-02T00:00:00",
          "2005-03-03T00:00:00",
          "2005-03-04T00:00:00",
          "2005-03-07T00:00:00",
          "2005-03-08T00:00:00",
          "2005-03-09T00:00:00",
          "2005-03-10T00:00:00",
          "2005-03-11T00:00:00",
          "2005-03-14T00:00:00",
          "2005-03-15T00:00:00",
          "2005-03-16T00:00:00",
          "2005-03-17T00:00:00",
          "2005-03-18T00:00:00",
          "2005-03-21T00:00:00",
          "2005-03-22T00:00:00",
          "2005-03-23T00:00:00",
          "2005-03-24T00:00:00",
          "2005-03-28T00:00:00",
          "2005-03-29T00:00:00",
          "2005-03-30T00:00:00",
          "2005-03-31T00:00:00",
          "2005-04-01T00:00:00",
          "2005-04-04T00:00:00",
          "2005-04-05T00:00:00",
          "2005-04-06T00:00:00",
          "2005-04-07T00:00:00",
          "2005-04-08T00:00:00",
          "2005-04-11T00:00:00",
          "2005-04-12T00:00:00",
          "2005-04-13T00:00:00",
          "2005-04-15T00:00:00",
          "2005-04-18T00:00:00",
          "2005-04-19T00:00:00",
          "2005-04-20T00:00:00",
          "2005-04-21T00:00:00",
          "2005-04-22T00:00:00",
          "2005-04-25T00:00:00",
          "2005-04-26T00:00:00",
          "2005-04-27T00:00:00",
          "2005-04-28T00:00:00",
          "2005-04-29T00:00:00",
          "2005-05-02T00:00:00",
          "2005-05-03T00:00:00",
          "2005-05-04T00:00:00",
          "2005-05-05T00:00:00",
          "2005-05-06T00:00:00",
          "2005-05-09T00:00:00",
          "2005-05-10T00:00:00",
          "2005-05-11T00:00:00",
          "2005-05-12T00:00:00",
          "2005-05-13T00:00:00",
          "2005-05-16T00:00:00",
          "2005-05-17T00:00:00",
          "2005-05-18T00:00:00",
          "2005-05-19T00:00:00",
          "2005-05-20T00:00:00",
          "2005-05-23T00:00:00",
          "2005-05-24T00:00:00",
          "2005-05-25T00:00:00",
          "2005-05-26T00:00:00",
          "2005-05-27T00:00:00",
          "2005-05-30T00:00:00",
          "2005-05-31T00:00:00",
          "2005-06-01T00:00:00",
          "2005-06-02T00:00:00",
          "2005-06-03T00:00:00",
          "2005-06-04T00:00:00",
          "2005-06-06T00:00:00",
          "2005-06-07T00:00:00",
          "2005-06-08T00:00:00",
          "2005-06-09T00:00:00",
          "2005-06-10T00:00:00",
          "2005-06-13T00:00:00",
          "2005-06-14T00:00:00",
          "2005-06-15T00:00:00",
          "2005-06-16T00:00:00",
          "2005-06-17T00:00:00",
          "2005-06-20T00:00:00",
          "2005-06-21T00:00:00",
          "2005-06-22T00:00:00",
          "2005-06-23T00:00:00",
          "2005-06-24T00:00:00",
          "2005-06-27T00:00:00",
          "2005-06-28T00:00:00",
          "2005-06-29T00:00:00",
          "2005-06-30T00:00:00"
         ],
         "xaxis": "x",
         "y": [
          23.62972867053116,
          25.522940691940978,
          26.909011040590503,
          28.110272009420097,
          29.151364849072404,
          27.110542775609204,
          26.841865643852064,
          28.747128650249,
          30.36005908208523,
          32.31896106069832,
          34.02105244690076,
          34.62236530489541,
          35.444266774666715,
          37.51338432258111,
          39.56629293500363,
          38.018239630459675,
          36.676593433188245,
          36.04125519291073,
          37.37054950036477,
          38.52260456682493,
          40.43192365495988,
          42.66709926015903,
          45.2270524451375,
          45.643792817320936,
          43.20362731635426,
          42.100534715870936,
          41.54242583935556,
          41.05873147970891,
          38.05289806380382,
          35.78033837322573,
          32.370715383098236,
          29.914278472812832,
          26.597194982371025,
          24.24132478413392,
          23.29734710199579,
          22.915393608059954,
          23.31327729266955,
          23.940620102230337,
          27.247868332090814,
          30.11415013130323,
          32.59826102395398,
          36.10324030267617,
          39.80857030120015,
          43.81347653860114,
          47.28439527768201,
          46.91565449960559,
          48.282695861295494,
          50.141898402550886,
          50.109589781285436,
          47.448839496320254,
          45.23243266850382,
          40.45677161059813,
          35.96003257897285,
          31.58643126061881,
          34.22327173957299,
          38.983716132517756,
          43.10943460640323,
          44.83466220250226,
          47.66801907966215,
          50.12359503986741,
          50.78809326068252,
          50.377142423604816,
          49.052120104122324,
          50.033055843622364,
          50.88320015118906,
          44.72295988417272,
          40.12869404987295,
          37.27028108043832,
          35.395438906081964,
          32.056994036674276,
          32.693179510343214,
          34.47830806806871,
          34.298068624693926,
          35.035414733274685,
          34.39657218220991,
          32.355204737752295,
          31.053743363979812,
          28.87717785365018,
          28.39457631953874,
          30.75560881470315,
          34.85035409874384,
          38.877123507539515,
          39.2270685003638,
          37.58955089730671,
          33.18328026343888,
          29.123175246935034,
          25.63186109732157,
          23.487346324171614,
          21.4069345066441,
          18.93693566738506,
          16.796270006693888,
          20.87544462269174,
          24.41072928988988,
          28.390409607323818,
          32.46621803682895,
          34.08056285571065,
          36.443042389421855,
          39.48128560268742,
          43.52455250706173,
          47.50985659911894,
          49.38912682457256,
          49.4210124798481,
          49.087228299721716,
          49.0227701115284,
          46.977444278282974,
          45.20482855613694,
          46.26866838618495,
          48.11845843381949,
          49.887096296528,
          52.276907328188095,
          54.37878082057889,
          51.997672652287186,
          47.37460812857079,
          45.436222483695296,
          44.34254458262853,
          39.879423799688055,
          43.48787591912164,
          46.61520108929742,
          49.32554957011643,
          50.55262581626836,
          49.67847827287112,
          48.11635051548002,
          47.35112754987616,
          47.46582327979638,
          47.789311675385626,
          45.1777308800055
         ],
         "yaxis": "y"
        }
       ],
       "layout": {
        "legend": {
         "title": {
          "text": "variable"
         },
         "tracegroupgap": 0
        },
        "margin": {
         "t": 60
        },
        "template": {
         "data": {
          "bar": [
           {
            "error_x": {
             "color": "#2a3f5f"
            },
            "error_y": {
             "color": "#2a3f5f"
            },
            "marker": {
             "line": {
              "color": "#E5ECF6",
              "width": 0.5
             }
            },
            "type": "bar"
           }
          ],
          "barpolar": [
           {
            "marker": {
             "line": {
              "color": "#E5ECF6",
              "width": 0.5
             }
            },
            "type": "barpolar"
           }
          ],
          "carpet": [
           {
            "aaxis": {
             "endlinecolor": "#2a3f5f",
             "gridcolor": "white",
             "linecolor": "white",
             "minorgridcolor": "white",
             "startlinecolor": "#2a3f5f"
            },
            "baxis": {
             "endlinecolor": "#2a3f5f",
             "gridcolor": "white",
             "linecolor": "white",
             "minorgridcolor": "white",
             "startlinecolor": "#2a3f5f"
            },
            "type": "carpet"
           }
          ],
          "choropleth": [
           {
            "colorbar": {
             "outlinewidth": 0,
             "ticks": ""
            },
            "type": "choropleth"
           }
          ],
          "contour": [
           {
            "colorbar": {
             "outlinewidth": 0,
             "ticks": ""
            },
            "colorscale": [
             [
              0,
              "#0d0887"
             ],
             [
              0.1111111111111111,
              "#46039f"
             ],
             [
              0.2222222222222222,
              "#7201a8"
             ],
             [
              0.3333333333333333,
              "#9c179e"
             ],
             [
              0.4444444444444444,
              "#bd3786"
             ],
             [
              0.5555555555555556,
              "#d8576b"
             ],
             [
              0.6666666666666666,
              "#ed7953"
             ],
             [
              0.7777777777777778,
              "#fb9f3a"
             ],
             [
              0.8888888888888888,
              "#fdca26"
             ],
             [
              1,
              "#f0f921"
             ]
            ],
            "type": "contour"
           }
          ],
          "contourcarpet": [
           {
            "colorbar": {
             "outlinewidth": 0,
             "ticks": ""
            },
            "type": "contourcarpet"
           }
          ],
          "heatmap": [
           {
            "colorbar": {
             "outlinewidth": 0,
             "ticks": ""
            },
            "colorscale": [
             [
              0,
              "#0d0887"
             ],
             [
              0.1111111111111111,
              "#46039f"
             ],
             [
              0.2222222222222222,
              "#7201a8"
             ],
             [
              0.3333333333333333,
              "#9c179e"
             ],
             [
              0.4444444444444444,
              "#bd3786"
             ],
             [
              0.5555555555555556,
              "#d8576b"
             ],
             [
              0.6666666666666666,
              "#ed7953"
             ],
             [
              0.7777777777777778,
              "#fb9f3a"
             ],
             [
              0.8888888888888888,
              "#fdca26"
             ],
             [
              1,
              "#f0f921"
             ]
            ],
            "type": "heatmap"
           }
          ],
          "heatmapgl": [
           {
            "colorbar": {
             "outlinewidth": 0,
             "ticks": ""
            },
            "colorscale": [
             [
              0,
              "#0d0887"
             ],
             [
              0.1111111111111111,
              "#46039f"
             ],
             [
              0.2222222222222222,
              "#7201a8"
             ],
             [
              0.3333333333333333,
              "#9c179e"
             ],
             [
              0.4444444444444444,
              "#bd3786"
             ],
             [
              0.5555555555555556,
              "#d8576b"
             ],
             [
              0.6666666666666666,
              "#ed7953"
             ],
             [
              0.7777777777777778,
              "#fb9f3a"
             ],
             [
              0.8888888888888888,
              "#fdca26"
             ],
             [
              1,
              "#f0f921"
             ]
            ],
            "type": "heatmapgl"
           }
          ],
          "histogram": [
           {
            "marker": {
             "colorbar": {
              "outlinewidth": 0,
              "ticks": ""
             }
            },
            "type": "histogram"
           }
          ],
          "histogram2d": [
           {
            "colorbar": {
             "outlinewidth": 0,
             "ticks": ""
            },
            "colorscale": [
             [
              0,
              "#0d0887"
             ],
             [
              0.1111111111111111,
              "#46039f"
             ],
             [
              0.2222222222222222,
              "#7201a8"
             ],
             [
              0.3333333333333333,
              "#9c179e"
             ],
             [
              0.4444444444444444,
              "#bd3786"
             ],
             [
              0.5555555555555556,
              "#d8576b"
             ],
             [
              0.6666666666666666,
              "#ed7953"
             ],
             [
              0.7777777777777778,
              "#fb9f3a"
             ],
             [
              0.8888888888888888,
              "#fdca26"
             ],
             [
              1,
              "#f0f921"
             ]
            ],
            "type": "histogram2d"
           }
          ],
          "histogram2dcontour": [
           {
            "colorbar": {
             "outlinewidth": 0,
             "ticks": ""
            },
            "colorscale": [
             [
              0,
              "#0d0887"
             ],
             [
              0.1111111111111111,
              "#46039f"
             ],
             [
              0.2222222222222222,
              "#7201a8"
             ],
             [
              0.3333333333333333,
              "#9c179e"
             ],
             [
              0.4444444444444444,
              "#bd3786"
             ],
             [
              0.5555555555555556,
              "#d8576b"
             ],
             [
              0.6666666666666666,
              "#ed7953"
             ],
             [
              0.7777777777777778,
              "#fb9f3a"
             ],
             [
              0.8888888888888888,
              "#fdca26"
             ],
             [
              1,
              "#f0f921"
             ]
            ],
            "type": "histogram2dcontour"
           }
          ],
          "mesh3d": [
           {
            "colorbar": {
             "outlinewidth": 0,
             "ticks": ""
            },
            "type": "mesh3d"
           }
          ],
          "parcoords": [
           {
            "line": {
             "colorbar": {
              "outlinewidth": 0,
              "ticks": ""
             }
            },
            "type": "parcoords"
           }
          ],
          "pie": [
           {
            "automargin": true,
            "type": "pie"
           }
          ],
          "scatter": [
           {
            "marker": {
             "colorbar": {
              "outlinewidth": 0,
              "ticks": ""
             }
            },
            "type": "scatter"
           }
          ],
          "scatter3d": [
           {
            "line": {
             "colorbar": {
              "outlinewidth": 0,
              "ticks": ""
             }
            },
            "marker": {
             "colorbar": {
              "outlinewidth": 0,
              "ticks": ""
             }
            },
            "type": "scatter3d"
           }
          ],
          "scattercarpet": [
           {
            "marker": {
             "colorbar": {
              "outlinewidth": 0,
              "ticks": ""
             }
            },
            "type": "scattercarpet"
           }
          ],
          "scattergeo": [
           {
            "marker": {
             "colorbar": {
              "outlinewidth": 0,
              "ticks": ""
             }
            },
            "type": "scattergeo"
           }
          ],
          "scattergl": [
           {
            "marker": {
             "colorbar": {
              "outlinewidth": 0,
              "ticks": ""
             }
            },
            "type": "scattergl"
           }
          ],
          "scattermapbox": [
           {
            "marker": {
             "colorbar": {
              "outlinewidth": 0,
              "ticks": ""
             }
            },
            "type": "scattermapbox"
           }
          ],
          "scatterpolar": [
           {
            "marker": {
             "colorbar": {
              "outlinewidth": 0,
              "ticks": ""
             }
            },
            "type": "scatterpolar"
           }
          ],
          "scatterpolargl": [
           {
            "marker": {
             "colorbar": {
              "outlinewidth": 0,
              "ticks": ""
             }
            },
            "type": "scatterpolargl"
           }
          ],
          "scatterternary": [
           {
            "marker": {
             "colorbar": {
              "outlinewidth": 0,
              "ticks": ""
             }
            },
            "type": "scatterternary"
           }
          ],
          "surface": [
           {
            "colorbar": {
             "outlinewidth": 0,
             "ticks": ""
            },
            "colorscale": [
             [
              0,
              "#0d0887"
             ],
             [
              0.1111111111111111,
              "#46039f"
             ],
             [
              0.2222222222222222,
              "#7201a8"
             ],
             [
              0.3333333333333333,
              "#9c179e"
             ],
             [
              0.4444444444444444,
              "#bd3786"
             ],
             [
              0.5555555555555556,
              "#d8576b"
             ],
             [
              0.6666666666666666,
              "#ed7953"
             ],
             [
              0.7777777777777778,
              "#fb9f3a"
             ],
             [
              0.8888888888888888,
              "#fdca26"
             ],
             [
              1,
              "#f0f921"
             ]
            ],
            "type": "surface"
           }
          ],
          "table": [
           {
            "cells": {
             "fill": {
              "color": "#EBF0F8"
             },
             "line": {
              "color": "white"
             }
            },
            "header": {
             "fill": {
              "color": "#C8D4E3"
             },
             "line": {
              "color": "white"
             }
            },
            "type": "table"
           }
          ]
         },
         "layout": {
          "annotationdefaults": {
           "arrowcolor": "#2a3f5f",
           "arrowhead": 0,
           "arrowwidth": 1
          },
          "autotypenumbers": "strict",
          "coloraxis": {
           "colorbar": {
            "outlinewidth": 0,
            "ticks": ""
           }
          },
          "colorscale": {
           "diverging": [
            [
             0,
             "#8e0152"
            ],
            [
             0.1,
             "#c51b7d"
            ],
            [
             0.2,
             "#de77ae"
            ],
            [
             0.3,
             "#f1b6da"
            ],
            [
             0.4,
             "#fde0ef"
            ],
            [
             0.5,
             "#f7f7f7"
            ],
            [
             0.6,
             "#e6f5d0"
            ],
            [
             0.7,
             "#b8e186"
            ],
            [
             0.8,
             "#7fbc41"
            ],
            [
             0.9,
             "#4d9221"
            ],
            [
             1,
             "#276419"
            ]
           ],
           "sequential": [
            [
             0,
             "#0d0887"
            ],
            [
             0.1111111111111111,
             "#46039f"
            ],
            [
             0.2222222222222222,
             "#7201a8"
            ],
            [
             0.3333333333333333,
             "#9c179e"
            ],
            [
             0.4444444444444444,
             "#bd3786"
            ],
            [
             0.5555555555555556,
             "#d8576b"
            ],
            [
             0.6666666666666666,
             "#ed7953"
            ],
            [
             0.7777777777777778,
             "#fb9f3a"
            ],
            [
             0.8888888888888888,
             "#fdca26"
            ],
            [
             1,
             "#f0f921"
            ]
           ],
           "sequentialminus": [
            [
             0,
             "#0d0887"
            ],
            [
             0.1111111111111111,
             "#46039f"
            ],
            [
             0.2222222222222222,
             "#7201a8"
            ],
            [
             0.3333333333333333,
             "#9c179e"
            ],
            [
             0.4444444444444444,
             "#bd3786"
            ],
            [
             0.5555555555555556,
             "#d8576b"
            ],
            [
             0.6666666666666666,
             "#ed7953"
            ],
            [
             0.7777777777777778,
             "#fb9f3a"
            ],
            [
             0.8888888888888888,
             "#fdca26"
            ],
            [
             1,
             "#f0f921"
            ]
           ]
          },
          "colorway": [
           "#636efa",
           "#EF553B",
           "#00cc96",
           "#ab63fa",
           "#FFA15A",
           "#19d3f3",
           "#FF6692",
           "#B6E880",
           "#FF97FF",
           "#FECB52"
          ],
          "font": {
           "color": "#2a3f5f"
          },
          "geo": {
           "bgcolor": "white",
           "lakecolor": "white",
           "landcolor": "#E5ECF6",
           "showlakes": true,
           "showland": true,
           "subunitcolor": "white"
          },
          "hoverlabel": {
           "align": "left"
          },
          "hovermode": "closest",
          "mapbox": {
           "style": "light"
          },
          "paper_bgcolor": "white",
          "plot_bgcolor": "#E5ECF6",
          "polar": {
           "angularaxis": {
            "gridcolor": "white",
            "linecolor": "white",
            "ticks": ""
           },
           "bgcolor": "#E5ECF6",
           "radialaxis": {
            "gridcolor": "white",
            "linecolor": "white",
            "ticks": ""
           }
          },
          "scene": {
           "xaxis": {
            "backgroundcolor": "#E5ECF6",
            "gridcolor": "white",
            "gridwidth": 2,
            "linecolor": "white",
            "showbackground": true,
            "ticks": "",
            "zerolinecolor": "white"
           },
           "yaxis": {
            "backgroundcolor": "#E5ECF6",
            "gridcolor": "white",
            "gridwidth": 2,
            "linecolor": "white",
            "showbackground": true,
            "ticks": "",
            "zerolinecolor": "white"
           },
           "zaxis": {
            "backgroundcolor": "#E5ECF6",
            "gridcolor": "white",
            "gridwidth": 2,
            "linecolor": "white",
            "showbackground": true,
            "ticks": "",
            "zerolinecolor": "white"
           }
          },
          "shapedefaults": {
           "line": {
            "color": "#2a3f5f"
           }
          },
          "ternary": {
           "aaxis": {
            "gridcolor": "white",
            "linecolor": "white",
            "ticks": ""
           },
           "baxis": {
            "gridcolor": "white",
            "linecolor": "white",
            "ticks": ""
           },
           "bgcolor": "#E5ECF6",
           "caxis": {
            "gridcolor": "white",
            "linecolor": "white",
            "ticks": ""
           }
          },
          "title": {
           "x": 0.05
          },
          "xaxis": {
           "automargin": true,
           "gridcolor": "white",
           "linecolor": "white",
           "ticks": "",
           "title": {
            "standoff": 15
           },
           "zerolinecolor": "white",
           "zerolinewidth": 2
          },
          "yaxis": {
           "automargin": true,
           "gridcolor": "white",
           "linecolor": "white",
           "ticks": "",
           "title": {
            "standoff": 15
           },
           "zerolinecolor": "white",
           "zerolinewidth": 2
          }
         }
        },
        "xaxis": {
         "anchor": "y",
         "domain": [
          0,
          1
         ],
         "dtick": "M1",
         "tickformat": "%b\n%Y",
         "title": {
          "text": "Date"
         }
        },
        "yaxis": {
         "anchor": "x",
         "domain": [
          0,
          1
         ],
         "title": {
          "text": "value"
         }
        }
       }
      },
      "text/html": [
       "<div>                            <div id=\"c7762d53-fdfd-47af-8503-bf268b9e4ab1\" class=\"plotly-graph-div\" style=\"height:525px; width:100%;\"></div>            <script type=\"text/javascript\">                require([\"plotly\"], function(Plotly) {                    window.PLOTLYENV=window.PLOTLYENV || {};                                    if (document.getElementById(\"c7762d53-fdfd-47af-8503-bf268b9e4ab1\")) {                    Plotly.newPlot(                        \"c7762d53-fdfd-47af-8503-bf268b9e4ab1\",                        [{\"hovertemplate\": \"variable=+DI<br>Date=%{x|%B %d, %Y}<br>value=%{y}<extra></extra>\", \"legendgroup\": \"+DI\", \"line\": {\"color\": \"#636efa\", \"dash\": \"solid\"}, \"mode\": \"lines\", \"name\": \"+DI\", \"orientation\": \"v\", \"showlegend\": true, \"type\": \"scatter\", \"x\": [\"2005-01-03T00:00:00\", \"2005-01-04T00:00:00\", \"2005-01-05T00:00:00\", \"2005-01-06T00:00:00\", \"2005-01-07T00:00:00\", \"2005-01-10T00:00:00\", \"2005-01-11T00:00:00\", \"2005-01-12T00:00:00\", \"2005-01-13T00:00:00\", \"2005-01-14T00:00:00\", \"2005-01-17T00:00:00\", \"2005-01-18T00:00:00\", \"2005-01-19T00:00:00\", \"2005-01-20T00:00:00\", \"2005-01-24T00:00:00\", \"2005-01-25T00:00:00\", \"2005-01-27T00:00:00\", \"2005-01-28T00:00:00\", \"2005-01-31T00:00:00\", \"2005-02-01T00:00:00\", \"2005-02-02T00:00:00\", \"2005-02-03T00:00:00\", \"2005-02-04T00:00:00\", \"2005-02-07T00:00:00\", \"2005-02-08T00:00:00\", \"2005-02-09T00:00:00\", \"2005-02-10T00:00:00\", \"2005-02-11T00:00:00\", \"2005-02-14T00:00:00\", \"2005-02-15T00:00:00\", \"2005-02-16T00:00:00\", \"2005-02-17T00:00:00\", \"2005-02-18T00:00:00\", \"2005-02-21T00:00:00\", \"2005-02-22T00:00:00\", \"2005-02-23T00:00:00\", \"2005-02-24T00:00:00\", \"2005-02-25T00:00:00\", \"2005-02-28T00:00:00\", \"2005-03-01T00:00:00\", \"2005-03-02T00:00:00\", \"2005-03-03T00:00:00\", \"2005-03-04T00:00:00\", \"2005-03-07T00:00:00\", \"2005-03-08T00:00:00\", \"2005-03-09T00:00:00\", \"2005-03-10T00:00:00\", \"2005-03-11T00:00:00\", \"2005-03-14T00:00:00\", \"2005-03-15T00:00:00\", \"2005-03-16T00:00:00\", \"2005-03-17T00:00:00\", \"2005-03-18T00:00:00\", \"2005-03-21T00:00:00\", \"2005-03-22T00:00:00\", \"2005-03-23T00:00:00\", \"2005-03-24T00:00:00\", \"2005-03-28T00:00:00\", \"2005-03-29T00:00:00\", \"2005-03-30T00:00:00\", \"2005-03-31T00:00:00\", \"2005-04-01T00:00:00\", \"2005-04-04T00:00:00\", \"2005-04-05T00:00:00\", \"2005-04-06T00:00:00\", \"2005-04-07T00:00:00\", \"2005-04-08T00:00:00\", \"2005-04-11T00:00:00\", \"2005-04-12T00:00:00\", \"2005-04-13T00:00:00\", \"2005-04-15T00:00:00\", \"2005-04-18T00:00:00\", \"2005-04-19T00:00:00\", \"2005-04-20T00:00:00\", \"2005-04-21T00:00:00\", \"2005-04-22T00:00:00\", \"2005-04-25T00:00:00\", \"2005-04-26T00:00:00\", \"2005-04-27T00:00:00\", \"2005-04-28T00:00:00\", \"2005-04-29T00:00:00\", \"2005-05-02T00:00:00\", \"2005-05-03T00:00:00\", \"2005-05-04T00:00:00\", \"2005-05-05T00:00:00\", \"2005-05-06T00:00:00\", \"2005-05-09T00:00:00\", \"2005-05-10T00:00:00\", \"2005-05-11T00:00:00\", \"2005-05-12T00:00:00\", \"2005-05-13T00:00:00\", \"2005-05-16T00:00:00\", \"2005-05-17T00:00:00\", \"2005-05-18T00:00:00\", \"2005-05-19T00:00:00\", \"2005-05-20T00:00:00\", \"2005-05-23T00:00:00\", \"2005-05-24T00:00:00\", \"2005-05-25T00:00:00\", \"2005-05-26T00:00:00\", \"2005-05-27T00:00:00\", \"2005-05-30T00:00:00\", \"2005-05-31T00:00:00\", \"2005-06-01T00:00:00\", \"2005-06-02T00:00:00\", \"2005-06-03T00:00:00\", \"2005-06-04T00:00:00\", \"2005-06-06T00:00:00\", \"2005-06-07T00:00:00\", \"2005-06-08T00:00:00\", \"2005-06-09T00:00:00\", \"2005-06-10T00:00:00\", \"2005-06-13T00:00:00\", \"2005-06-14T00:00:00\", \"2005-06-15T00:00:00\", \"2005-06-16T00:00:00\", \"2005-06-17T00:00:00\", \"2005-06-20T00:00:00\", \"2005-06-21T00:00:00\", \"2005-06-22T00:00:00\", \"2005-06-23T00:00:00\", \"2005-06-24T00:00:00\", \"2005-06-27T00:00:00\", \"2005-06-28T00:00:00\", \"2005-06-29T00:00:00\", \"2005-06-30T00:00:00\"], \"xaxis\": \"x\", \"y\": [30.988817101759132, 26.85697482152458, 23.2760448453213, 20.17257219927846, 17.482895906041332, 24.320685590283652, 21.077927511579166, 18.26753717670194, 15.941556557499903, 13.816015683166583, 11.973880258744371, 12.165357782354953, 10.543310078040959, 9.13753540096883, 7.919197347506318, 12.548188250469897, 10.875096483740576, 32.43071193968785, 39.23548404983968, 34.00408617652772, 35.31804491672352, 34.68240489018703, 34.74251945219232, 30.110183525233346, 26.09549238853557, 26.758155876653777, 23.19040175976661, 20.098348191797726, 26.603509953359218, 23.056375292911323, 24.9404066741031, 21.615019117556024, 22.42683463880475, 19.436590020297448, 28.495804670118524, 26.429573580088476, 25.71198165198637, 23.3257163684573, 32.986983439268094, 28.588718980699014, 24.776889783272477, 28.594572447874118, 29.108324197616753, 31.30378099565213, 27.129943529565175, 23.51261772562315, 28.706213926890413, 29.118155356356695, 25.2357346421758, 21.870970023219023, 19.23772254572774, 16.67269287296404, 14.449667156568836, 13.453207194432157, 11.659446235174537, 10.104853403817932, 8.757539616642207, 12.078845623668418, 10.468332873845961, 9.072555157333168, 11.144508161519163, 11.814737037644774, 12.2656712399525, 10.630248407958833, 9.21288195356432, 26.086896547367637, 22.608643674385284, 19.594157851133915, 16.981603470982726, 19.181305945996847, 16.623798486530603, 14.407292021659856, 16.993501525260232, 14.7277013218922, 15.885884013767562, 17.46628984378885, 15.137451197950336, 15.442775823839114, 13.38373904732723, 11.5992405076836, 10.05267510665912, 8.712318425771237, 14.741870424770218, 17.784887632668067, 24.456386759360072, 24.517006128574696, 21.335791276343706, 21.116302003028405, 18.300795069291283, 19.67820348060838, 17.054443016527262, 39.088685698613844, 33.876860938798664, 35.34201242376198, 35.1781960507344, 30.48776991063648, 31.902004237642807, 34.28764877303511, 42.78939835337268, 43.01272199348506, 37.277692394353714, 32.30733340843989, 27.999688953981234, 25.350147510534104, 21.97012784246289, 19.040777463467837, 26.785622723660836, 28.50560576736172, 25.696500207333262, 27.78121397917086, 24.283816256471784, 21.04597408894221, 18.23984421041658, 22.031590519930468, 21.107916167876738, 18.293527345493175, 15.854390366094083, 13.740471650614875, 11.908408763866225, 13.634790695339452, 17.56801953024054, 17.603738210393963, 15.256573115674769, 13.22236336691813, 11.45938158466238, 16.637870785113478], \"yaxis\": \"y\"}, {\"hovertemplate\": \"variable=-DI<br>Date=%{x|%B %d, %Y}<br>value=%{y}<extra></extra>\", \"legendgroup\": \"-DI\", \"line\": {\"color\": \"#EF553B\", \"dash\": \"solid\"}, \"mode\": \"lines\", \"name\": \"-DI\", \"orientation\": \"v\", \"showlegend\": true, \"type\": \"scatter\", \"x\": [\"2005-01-03T00:00:00\", \"2005-01-04T00:00:00\", \"2005-01-05T00:00:00\", \"2005-01-06T00:00:00\", \"2005-01-07T00:00:00\", \"2005-01-10T00:00:00\", \"2005-01-11T00:00:00\", \"2005-01-12T00:00:00\", \"2005-01-13T00:00:00\", \"2005-01-14T00:00:00\", \"2005-01-17T00:00:00\", \"2005-01-18T00:00:00\", \"2005-01-19T00:00:00\", \"2005-01-20T00:00:00\", \"2005-01-24T00:00:00\", \"2005-01-25T00:00:00\", \"2005-01-27T00:00:00\", \"2005-01-28T00:00:00\", \"2005-01-31T00:00:00\", \"2005-02-01T00:00:00\", \"2005-02-02T00:00:00\", \"2005-02-03T00:00:00\", \"2005-02-04T00:00:00\", \"2005-02-07T00:00:00\", \"2005-02-08T00:00:00\", \"2005-02-09T00:00:00\", \"2005-02-10T00:00:00\", \"2005-02-11T00:00:00\", \"2005-02-14T00:00:00\", \"2005-02-15T00:00:00\", \"2005-02-16T00:00:00\", \"2005-02-17T00:00:00\", \"2005-02-18T00:00:00\", \"2005-02-21T00:00:00\", \"2005-02-22T00:00:00\", \"2005-02-23T00:00:00\", \"2005-02-24T00:00:00\", \"2005-02-25T00:00:00\", \"2005-02-28T00:00:00\", \"2005-03-01T00:00:00\", \"2005-03-02T00:00:00\", \"2005-03-03T00:00:00\", \"2005-03-04T00:00:00\", \"2005-03-07T00:00:00\", \"2005-03-08T00:00:00\", \"2005-03-09T00:00:00\", \"2005-03-10T00:00:00\", \"2005-03-11T00:00:00\", \"2005-03-14T00:00:00\", \"2005-03-15T00:00:00\", \"2005-03-16T00:00:00\", \"2005-03-17T00:00:00\", \"2005-03-18T00:00:00\", \"2005-03-21T00:00:00\", \"2005-03-22T00:00:00\", \"2005-03-23T00:00:00\", \"2005-03-24T00:00:00\", \"2005-03-28T00:00:00\", \"2005-03-29T00:00:00\", \"2005-03-30T00:00:00\", \"2005-03-31T00:00:00\", \"2005-04-01T00:00:00\", \"2005-04-04T00:00:00\", \"2005-04-05T00:00:00\", \"2005-04-06T00:00:00\", \"2005-04-07T00:00:00\", \"2005-04-08T00:00:00\", \"2005-04-11T00:00:00\", \"2005-04-12T00:00:00\", \"2005-04-13T00:00:00\", \"2005-04-15T00:00:00\", \"2005-04-18T00:00:00\", \"2005-04-19T00:00:00\", \"2005-04-20T00:00:00\", \"2005-04-21T00:00:00\", \"2005-04-22T00:00:00\", \"2005-04-25T00:00:00\", \"2005-04-26T00:00:00\", \"2005-04-27T00:00:00\", \"2005-04-28T00:00:00\", \"2005-04-29T00:00:00\", \"2005-05-02T00:00:00\", \"2005-05-03T00:00:00\", \"2005-05-04T00:00:00\", \"2005-05-05T00:00:00\", \"2005-05-06T00:00:00\", \"2005-05-09T00:00:00\", \"2005-05-10T00:00:00\", \"2005-05-11T00:00:00\", \"2005-05-12T00:00:00\", \"2005-05-13T00:00:00\", \"2005-05-16T00:00:00\", \"2005-05-17T00:00:00\", \"2005-05-18T00:00:00\", \"2005-05-19T00:00:00\", \"2005-05-20T00:00:00\", \"2005-05-23T00:00:00\", \"2005-05-24T00:00:00\", \"2005-05-25T00:00:00\", \"2005-05-26T00:00:00\", \"2005-05-27T00:00:00\", \"2005-05-30T00:00:00\", \"2005-05-31T00:00:00\", \"2005-06-01T00:00:00\", \"2005-06-02T00:00:00\", \"2005-06-03T00:00:00\", \"2005-06-04T00:00:00\", \"2005-06-06T00:00:00\", \"2005-06-07T00:00:00\", \"2005-06-08T00:00:00\", \"2005-06-09T00:00:00\", \"2005-06-10T00:00:00\", \"2005-06-13T00:00:00\", \"2005-06-14T00:00:00\", \"2005-06-15T00:00:00\", \"2005-06-16T00:00:00\", \"2005-06-17T00:00:00\", \"2005-06-20T00:00:00\", \"2005-06-21T00:00:00\", \"2005-06-22T00:00:00\", \"2005-06-23T00:00:00\", \"2005-06-24T00:00:00\", \"2005-06-27T00:00:00\", \"2005-06-28T00:00:00\", \"2005-06-29T00:00:00\", \"2005-06-30T00:00:00\"], \"xaxis\": \"x\", \"y\": [10.19373054219619, 12.114519020318584, 49.36905033362476, 42.78651028914146, 37.08164225058926, 32.13742328384402, 35.201514877494205, 43.79447210160791, 37.95520915472686, 36.47142484434021, 31.63461713321279, 27.416668182117753, 25.06793590998698, 28.130119151533627, 25.71525072900101, 22.286550631800875, 19.315010547560757, 16.73967580788599, 14.507719033501193, 12.573356495701033, 10.896908962940895, 9.443987767882108, 8.184789398831162, 10.482542807047452, 14.889224925261377, 12.903994935226526, 51.51458810501086, 44.64597635767608, 38.69317950998594, 35.32062421243115, 30.611207650773657, 28.62176350654219, 24.805528372336568, 23.247497252849904, 20.147830952469917, 17.461453492140596, 15.133259693188513, 13.115491734096713, 11.366759502883818, 9.851191569165975, 8.537699359943845, 7.399339445284666, 6.412760852580044, 5.557726072236038, 4.816695929271233, 9.026555459533522, 7.823014731595719, 6.77994610071629, 8.434451774661609, 11.736873455251404, 10.171956994551214, 13.803378457244712, 16.535338825672856, 14.330626982249811, 36.28505146584321, 57.096427319780176, 49.48357034380948, 42.885760964634876, 51.26413424498097, 44.42891634565018, 38.50506083289682, 33.37105272184391, 28.921579025598053, 38.142581294878035, 33.056903788894296, 28.64931661704172, 27.78169920569545, 28.602378035137534, 27.2464849269195, 23.6136202699969, 36.00679678953305, 39.0338475401759, 33.82933453481911, 34.22444110352525, 29.661182289721882, 25.706357984425633, 23.974501362562016, 20.777901180887078, 22.429269172642517, 31.442465609700232, 42.12320529441128, 41.14518538336696, 35.65916066558469, 30.904605910173398, 26.783991788816948, 23.212792883641352, 20.117753832489175, 17.43538665482395, 21.433553503274048, 18.575746369504177, 16.09898018690362, 13.952449495316468, 12.09212289594094, 10.479839843148815, 9.082527864062307, 11.68829384294177, 10.129854663882867, 8.779207375365152, 7.6086463919831315, 6.594160206385381, 8.856814152357758, 10.876128610766663, 10.116483678036394, 8.76761918763154, 10.898907680378446, 9.445719989661319, 8.186290657706476, 7.094785236678947, 6.14881387178842, 5.328972022216631, 4.6184424192544125, 9.785994416616797, 12.853090122033148, 11.139344772428728, 9.654098802771562, 14.706688148646457, 80.06660363279346, 69.39105648175432, 60.13891561752042, 52.12039353518436, 45.17100773049311, 39.1482066997607, 37.69665846356079, 37.840416698613765, 34.27933654168239, 29.708758336124735], \"yaxis\": \"y\"}, {\"hovertemplate\": \"variable=ADX<br>Date=%{x|%B %d, %Y}<br>value=%{y}<extra></extra>\", \"legendgroup\": \"ADX\", \"line\": {\"color\": \"#00cc96\", \"dash\": \"solid\"}, \"mode\": \"lines\", \"name\": \"ADX\", \"orientation\": \"v\", \"showlegend\": true, \"type\": \"scatter\", \"x\": [\"2005-01-03T00:00:00\", \"2005-01-04T00:00:00\", \"2005-01-05T00:00:00\", \"2005-01-06T00:00:00\", \"2005-01-07T00:00:00\", \"2005-01-10T00:00:00\", \"2005-01-11T00:00:00\", \"2005-01-12T00:00:00\", \"2005-01-13T00:00:00\", \"2005-01-14T00:00:00\", \"2005-01-17T00:00:00\", \"2005-01-18T00:00:00\", \"2005-01-19T00:00:00\", \"2005-01-20T00:00:00\", \"2005-01-24T00:00:00\", \"2005-01-25T00:00:00\", \"2005-01-27T00:00:00\", \"2005-01-28T00:00:00\", \"2005-01-31T00:00:00\", \"2005-02-01T00:00:00\", \"2005-02-02T00:00:00\", \"2005-02-03T00:00:00\", \"2005-02-04T00:00:00\", \"2005-02-07T00:00:00\", \"2005-02-08T00:00:00\", \"2005-02-09T00:00:00\", \"2005-02-10T00:00:00\", \"2005-02-11T00:00:00\", \"2005-02-14T00:00:00\", \"2005-02-15T00:00:00\", \"2005-02-16T00:00:00\", \"2005-02-17T00:00:00\", \"2005-02-18T00:00:00\", \"2005-02-21T00:00:00\", \"2005-02-22T00:00:00\", \"2005-02-23T00:00:00\", \"2005-02-24T00:00:00\", \"2005-02-25T00:00:00\", \"2005-02-28T00:00:00\", \"2005-03-01T00:00:00\", \"2005-03-02T00:00:00\", \"2005-03-03T00:00:00\", \"2005-03-04T00:00:00\", \"2005-03-07T00:00:00\", \"2005-03-08T00:00:00\", \"2005-03-09T00:00:00\", \"2005-03-10T00:00:00\", \"2005-03-11T00:00:00\", \"2005-03-14T00:00:00\", \"2005-03-15T00:00:00\", \"2005-03-16T00:00:00\", \"2005-03-17T00:00:00\", \"2005-03-18T00:00:00\", \"2005-03-21T00:00:00\", \"2005-03-22T00:00:00\", \"2005-03-23T00:00:00\", \"2005-03-24T00:00:00\", \"2005-03-28T00:00:00\", \"2005-03-29T00:00:00\", \"2005-03-30T00:00:00\", \"2005-03-31T00:00:00\", \"2005-04-01T00:00:00\", \"2005-04-04T00:00:00\", \"2005-04-05T00:00:00\", \"2005-04-06T00:00:00\", \"2005-04-07T00:00:00\", \"2005-04-08T00:00:00\", \"2005-04-11T00:00:00\", \"2005-04-12T00:00:00\", \"2005-04-13T00:00:00\", \"2005-04-15T00:00:00\", \"2005-04-18T00:00:00\", \"2005-04-19T00:00:00\", \"2005-04-20T00:00:00\", \"2005-04-21T00:00:00\", \"2005-04-22T00:00:00\", \"2005-04-25T00:00:00\", \"2005-04-26T00:00:00\", \"2005-04-27T00:00:00\", \"2005-04-28T00:00:00\", \"2005-04-29T00:00:00\", \"2005-05-02T00:00:00\", \"2005-05-03T00:00:00\", \"2005-05-04T00:00:00\", \"2005-05-05T00:00:00\", \"2005-05-06T00:00:00\", \"2005-05-09T00:00:00\", \"2005-05-10T00:00:00\", \"2005-05-11T00:00:00\", \"2005-05-12T00:00:00\", \"2005-05-13T00:00:00\", \"2005-05-16T00:00:00\", \"2005-05-17T00:00:00\", \"2005-05-18T00:00:00\", \"2005-05-19T00:00:00\", \"2005-05-20T00:00:00\", \"2005-05-23T00:00:00\", \"2005-05-24T00:00:00\", \"2005-05-25T00:00:00\", \"2005-05-26T00:00:00\", \"2005-05-27T00:00:00\", \"2005-05-30T00:00:00\", \"2005-05-31T00:00:00\", \"2005-06-01T00:00:00\", \"2005-06-02T00:00:00\", \"2005-06-03T00:00:00\", \"2005-06-04T00:00:00\", \"2005-06-06T00:00:00\", \"2005-06-07T00:00:00\", \"2005-06-08T00:00:00\", \"2005-06-09T00:00:00\", \"2005-06-10T00:00:00\", \"2005-06-13T00:00:00\", \"2005-06-14T00:00:00\", \"2005-06-15T00:00:00\", \"2005-06-16T00:00:00\", \"2005-06-17T00:00:00\", \"2005-06-20T00:00:00\", \"2005-06-21T00:00:00\", \"2005-06-22T00:00:00\", \"2005-06-23T00:00:00\", \"2005-06-24T00:00:00\", \"2005-06-27T00:00:00\", \"2005-06-28T00:00:00\", \"2005-06-29T00:00:00\", \"2005-06-30T00:00:00\"], \"xaxis\": \"x\", \"y\": [23.62972867053116, 25.522940691940978, 26.909011040590503, 28.110272009420097, 29.151364849072404, 27.110542775609204, 26.841865643852064, 28.747128650249, 30.36005908208523, 32.31896106069832, 34.02105244690076, 34.62236530489541, 35.444266774666715, 37.51338432258111, 39.56629293500363, 38.018239630459675, 36.676593433188245, 36.04125519291073, 37.37054950036477, 38.52260456682493, 40.43192365495988, 42.66709926015903, 45.2270524451375, 45.643792817320936, 43.20362731635426, 42.100534715870936, 41.54242583935556, 41.05873147970891, 38.05289806380382, 35.78033837322573, 32.370715383098236, 29.914278472812832, 26.597194982371025, 24.24132478413392, 23.29734710199579, 22.915393608059954, 23.31327729266955, 23.940620102230337, 27.247868332090814, 30.11415013130323, 32.59826102395398, 36.10324030267617, 39.80857030120015, 43.81347653860114, 47.28439527768201, 46.91565449960559, 48.282695861295494, 50.141898402550886, 50.109589781285436, 47.448839496320254, 45.23243266850382, 40.45677161059813, 35.96003257897285, 31.58643126061881, 34.22327173957299, 38.983716132517756, 43.10943460640323, 44.83466220250226, 47.66801907966215, 50.12359503986741, 50.78809326068252, 50.377142423604816, 49.052120104122324, 50.033055843622364, 50.88320015118906, 44.72295988417272, 40.12869404987295, 37.27028108043832, 35.395438906081964, 32.056994036674276, 32.693179510343214, 34.47830806806871, 34.298068624693926, 35.035414733274685, 34.39657218220991, 32.355204737752295, 31.053743363979812, 28.87717785365018, 28.39457631953874, 30.75560881470315, 34.85035409874384, 38.877123507539515, 39.2270685003638, 37.58955089730671, 33.18328026343888, 29.123175246935034, 25.63186109732157, 23.487346324171614, 21.4069345066441, 18.93693566738506, 16.796270006693888, 20.87544462269174, 24.41072928988988, 28.390409607323818, 32.46621803682895, 34.08056285571065, 36.443042389421855, 39.48128560268742, 43.52455250706173, 47.50985659911894, 49.38912682457256, 49.4210124798481, 49.087228299721716, 49.0227701115284, 46.977444278282974, 45.20482855613694, 46.26866838618495, 48.11845843381949, 49.887096296528, 52.276907328188095, 54.37878082057889, 51.997672652287186, 47.37460812857079, 45.436222483695296, 44.34254458262853, 39.879423799688055, 43.48787591912164, 46.61520108929742, 49.32554957011643, 50.55262581626836, 49.67847827287112, 48.11635051548002, 47.35112754987616, 47.46582327979638, 47.789311675385626, 45.1777308800055], \"yaxis\": \"y\"}],                        {\"legend\": {\"title\": {\"text\": \"variable\"}, \"tracegroupgap\": 0}, \"margin\": {\"t\": 60}, \"template\": {\"data\": {\"bar\": [{\"error_x\": {\"color\": \"#2a3f5f\"}, \"error_y\": {\"color\": \"#2a3f5f\"}, \"marker\": {\"line\": {\"color\": \"#E5ECF6\", \"width\": 0.5}}, \"type\": \"bar\"}], \"barpolar\": [{\"marker\": {\"line\": {\"color\": \"#E5ECF6\", \"width\": 0.5}}, \"type\": \"barpolar\"}], \"carpet\": [{\"aaxis\": {\"endlinecolor\": \"#2a3f5f\", \"gridcolor\": \"white\", \"linecolor\": \"white\", \"minorgridcolor\": \"white\", \"startlinecolor\": \"#2a3f5f\"}, \"baxis\": {\"endlinecolor\": \"#2a3f5f\", \"gridcolor\": \"white\", \"linecolor\": \"white\", \"minorgridcolor\": \"white\", \"startlinecolor\": \"#2a3f5f\"}, \"type\": \"carpet\"}], \"choropleth\": [{\"colorbar\": {\"outlinewidth\": 0, \"ticks\": \"\"}, \"type\": \"choropleth\"}], \"contour\": [{\"colorbar\": {\"outlinewidth\": 0, \"ticks\": \"\"}, \"colorscale\": [[0.0, \"#0d0887\"], [0.1111111111111111, \"#46039f\"], [0.2222222222222222, \"#7201a8\"], [0.3333333333333333, \"#9c179e\"], [0.4444444444444444, \"#bd3786\"], [0.5555555555555556, \"#d8576b\"], [0.6666666666666666, \"#ed7953\"], [0.7777777777777778, \"#fb9f3a\"], [0.8888888888888888, \"#fdca26\"], [1.0, \"#f0f921\"]], \"type\": \"contour\"}], \"contourcarpet\": [{\"colorbar\": {\"outlinewidth\": 0, \"ticks\": \"\"}, \"type\": \"contourcarpet\"}], \"heatmap\": [{\"colorbar\": {\"outlinewidth\": 0, \"ticks\": \"\"}, \"colorscale\": [[0.0, \"#0d0887\"], [0.1111111111111111, \"#46039f\"], [0.2222222222222222, \"#7201a8\"], [0.3333333333333333, \"#9c179e\"], [0.4444444444444444, \"#bd3786\"], [0.5555555555555556, \"#d8576b\"], [0.6666666666666666, \"#ed7953\"], [0.7777777777777778, \"#fb9f3a\"], [0.8888888888888888, \"#fdca26\"], [1.0, \"#f0f921\"]], \"type\": \"heatmap\"}], \"heatmapgl\": [{\"colorbar\": {\"outlinewidth\": 0, \"ticks\": \"\"}, \"colorscale\": [[0.0, \"#0d0887\"], [0.1111111111111111, \"#46039f\"], [0.2222222222222222, \"#7201a8\"], [0.3333333333333333, \"#9c179e\"], [0.4444444444444444, \"#bd3786\"], [0.5555555555555556, \"#d8576b\"], [0.6666666666666666, \"#ed7953\"], [0.7777777777777778, \"#fb9f3a\"], [0.8888888888888888, \"#fdca26\"], [1.0, \"#f0f921\"]], \"type\": \"heatmapgl\"}], \"histogram\": [{\"marker\": {\"colorbar\": {\"outlinewidth\": 0, \"ticks\": \"\"}}, \"type\": \"histogram\"}], \"histogram2d\": [{\"colorbar\": {\"outlinewidth\": 0, \"ticks\": \"\"}, \"colorscale\": [[0.0, \"#0d0887\"], [0.1111111111111111, \"#46039f\"], [0.2222222222222222, \"#7201a8\"], [0.3333333333333333, \"#9c179e\"], [0.4444444444444444, \"#bd3786\"], [0.5555555555555556, \"#d8576b\"], [0.6666666666666666, \"#ed7953\"], [0.7777777777777778, \"#fb9f3a\"], [0.8888888888888888, \"#fdca26\"], [1.0, \"#f0f921\"]], \"type\": \"histogram2d\"}], \"histogram2dcontour\": [{\"colorbar\": {\"outlinewidth\": 0, \"ticks\": \"\"}, \"colorscale\": [[0.0, \"#0d0887\"], [0.1111111111111111, \"#46039f\"], [0.2222222222222222, \"#7201a8\"], [0.3333333333333333, \"#9c179e\"], [0.4444444444444444, \"#bd3786\"], [0.5555555555555556, \"#d8576b\"], [0.6666666666666666, \"#ed7953\"], [0.7777777777777778, \"#fb9f3a\"], [0.8888888888888888, \"#fdca26\"], [1.0, \"#f0f921\"]], \"type\": \"histogram2dcontour\"}], \"mesh3d\": [{\"colorbar\": {\"outlinewidth\": 0, \"ticks\": \"\"}, \"type\": \"mesh3d\"}], \"parcoords\": [{\"line\": {\"colorbar\": {\"outlinewidth\": 0, \"ticks\": \"\"}}, \"type\": \"parcoords\"}], \"pie\": [{\"automargin\": true, \"type\": \"pie\"}], \"scatter\": [{\"marker\": {\"colorbar\": {\"outlinewidth\": 0, \"ticks\": \"\"}}, \"type\": \"scatter\"}], \"scatter3d\": [{\"line\": {\"colorbar\": {\"outlinewidth\": 0, \"ticks\": \"\"}}, \"marker\": {\"colorbar\": {\"outlinewidth\": 0, \"ticks\": \"\"}}, \"type\": \"scatter3d\"}], \"scattercarpet\": [{\"marker\": {\"colorbar\": {\"outlinewidth\": 0, \"ticks\": \"\"}}, \"type\": \"scattercarpet\"}], \"scattergeo\": [{\"marker\": {\"colorbar\": {\"outlinewidth\": 0, \"ticks\": \"\"}}, \"type\": \"scattergeo\"}], \"scattergl\": [{\"marker\": {\"colorbar\": {\"outlinewidth\": 0, \"ticks\": \"\"}}, \"type\": \"scattergl\"}], \"scattermapbox\": [{\"marker\": {\"colorbar\": {\"outlinewidth\": 0, \"ticks\": \"\"}}, \"type\": \"scattermapbox\"}], \"scatterpolar\": [{\"marker\": {\"colorbar\": {\"outlinewidth\": 0, \"ticks\": \"\"}}, \"type\": \"scatterpolar\"}], \"scatterpolargl\": [{\"marker\": {\"colorbar\": {\"outlinewidth\": 0, \"ticks\": \"\"}}, \"type\": \"scatterpolargl\"}], \"scatterternary\": [{\"marker\": {\"colorbar\": {\"outlinewidth\": 0, \"ticks\": \"\"}}, \"type\": \"scatterternary\"}], \"surface\": [{\"colorbar\": {\"outlinewidth\": 0, \"ticks\": \"\"}, \"colorscale\": [[0.0, \"#0d0887\"], [0.1111111111111111, \"#46039f\"], [0.2222222222222222, \"#7201a8\"], [0.3333333333333333, \"#9c179e\"], [0.4444444444444444, \"#bd3786\"], [0.5555555555555556, \"#d8576b\"], [0.6666666666666666, \"#ed7953\"], [0.7777777777777778, \"#fb9f3a\"], [0.8888888888888888, \"#fdca26\"], [1.0, \"#f0f921\"]], \"type\": \"surface\"}], \"table\": [{\"cells\": {\"fill\": {\"color\": \"#EBF0F8\"}, \"line\": {\"color\": \"white\"}}, \"header\": {\"fill\": {\"color\": \"#C8D4E3\"}, \"line\": {\"color\": \"white\"}}, \"type\": \"table\"}]}, \"layout\": {\"annotationdefaults\": {\"arrowcolor\": \"#2a3f5f\", \"arrowhead\": 0, \"arrowwidth\": 1}, \"autotypenumbers\": \"strict\", \"coloraxis\": {\"colorbar\": {\"outlinewidth\": 0, \"ticks\": \"\"}}, \"colorscale\": {\"diverging\": [[0, \"#8e0152\"], [0.1, \"#c51b7d\"], [0.2, \"#de77ae\"], [0.3, \"#f1b6da\"], [0.4, \"#fde0ef\"], [0.5, \"#f7f7f7\"], [0.6, \"#e6f5d0\"], [0.7, \"#b8e186\"], [0.8, \"#7fbc41\"], [0.9, \"#4d9221\"], [1, \"#276419\"]], \"sequential\": [[0.0, \"#0d0887\"], [0.1111111111111111, \"#46039f\"], [0.2222222222222222, \"#7201a8\"], [0.3333333333333333, \"#9c179e\"], [0.4444444444444444, \"#bd3786\"], [0.5555555555555556, \"#d8576b\"], [0.6666666666666666, \"#ed7953\"], [0.7777777777777778, \"#fb9f3a\"], [0.8888888888888888, \"#fdca26\"], [1.0, \"#f0f921\"]], \"sequentialminus\": [[0.0, \"#0d0887\"], [0.1111111111111111, \"#46039f\"], [0.2222222222222222, \"#7201a8\"], [0.3333333333333333, \"#9c179e\"], [0.4444444444444444, \"#bd3786\"], [0.5555555555555556, \"#d8576b\"], [0.6666666666666666, \"#ed7953\"], [0.7777777777777778, \"#fb9f3a\"], [0.8888888888888888, \"#fdca26\"], [1.0, \"#f0f921\"]]}, \"colorway\": [\"#636efa\", \"#EF553B\", \"#00cc96\", \"#ab63fa\", \"#FFA15A\", \"#19d3f3\", \"#FF6692\", \"#B6E880\", \"#FF97FF\", \"#FECB52\"], \"font\": {\"color\": \"#2a3f5f\"}, \"geo\": {\"bgcolor\": \"white\", \"lakecolor\": \"white\", \"landcolor\": \"#E5ECF6\", \"showlakes\": true, \"showland\": true, \"subunitcolor\": \"white\"}, \"hoverlabel\": {\"align\": \"left\"}, \"hovermode\": \"closest\", \"mapbox\": {\"style\": \"light\"}, \"paper_bgcolor\": \"white\", \"plot_bgcolor\": \"#E5ECF6\", \"polar\": {\"angularaxis\": {\"gridcolor\": \"white\", \"linecolor\": \"white\", \"ticks\": \"\"}, \"bgcolor\": \"#E5ECF6\", \"radialaxis\": {\"gridcolor\": \"white\", \"linecolor\": \"white\", \"ticks\": \"\"}}, \"scene\": {\"xaxis\": {\"backgroundcolor\": \"#E5ECF6\", \"gridcolor\": \"white\", \"gridwidth\": 2, \"linecolor\": \"white\", \"showbackground\": true, \"ticks\": \"\", \"zerolinecolor\": \"white\"}, \"yaxis\": {\"backgroundcolor\": \"#E5ECF6\", \"gridcolor\": \"white\", \"gridwidth\": 2, \"linecolor\": \"white\", \"showbackground\": true, \"ticks\": \"\", \"zerolinecolor\": \"white\"}, \"zaxis\": {\"backgroundcolor\": \"#E5ECF6\", \"gridcolor\": \"white\", \"gridwidth\": 2, \"linecolor\": \"white\", \"showbackground\": true, \"ticks\": \"\", \"zerolinecolor\": \"white\"}}, \"shapedefaults\": {\"line\": {\"color\": \"#2a3f5f\"}}, \"ternary\": {\"aaxis\": {\"gridcolor\": \"white\", \"linecolor\": \"white\", \"ticks\": \"\"}, \"baxis\": {\"gridcolor\": \"white\", \"linecolor\": \"white\", \"ticks\": \"\"}, \"bgcolor\": \"#E5ECF6\", \"caxis\": {\"gridcolor\": \"white\", \"linecolor\": \"white\", \"ticks\": \"\"}}, \"title\": {\"x\": 0.05}, \"xaxis\": {\"automargin\": true, \"gridcolor\": \"white\", \"linecolor\": \"white\", \"ticks\": \"\", \"title\": {\"standoff\": 15}, \"zerolinecolor\": \"white\", \"zerolinewidth\": 2}, \"yaxis\": {\"automargin\": true, \"gridcolor\": \"white\", \"linecolor\": \"white\", \"ticks\": \"\", \"title\": {\"standoff\": 15}, \"zerolinecolor\": \"white\", \"zerolinewidth\": 2}}}, \"xaxis\": {\"anchor\": \"y\", \"domain\": [0.0, 1.0], \"dtick\": \"M1\", \"tickformat\": \"%b\\n%Y\", \"title\": {\"text\": \"Date\"}}, \"yaxis\": {\"anchor\": \"x\", \"domain\": [0.0, 1.0], \"title\": {\"text\": \"value\"}}},                        {\"responsive\": true}                    ).then(function(){\n",
       "                            \n",
       "var gd = document.getElementById('c7762d53-fdfd-47af-8503-bf268b9e4ab1');\n",
       "var x = new MutationObserver(function (mutations, observer) {{\n",
       "        var display = window.getComputedStyle(gd).display;\n",
       "        if (!display || display === 'none') {{\n",
       "            console.log([gd, 'removed!']);\n",
       "            Plotly.purge(gd);\n",
       "            observer.disconnect();\n",
       "        }}\n",
       "}});\n",
       "\n",
       "// Listen for the removal of the full notebook cells\n",
       "var notebookContainer = gd.closest('#notebook-container');\n",
       "if (notebookContainer) {{\n",
       "    x.observe(notebookContainer, {childList: true});\n",
       "}}\n",
       "\n",
       "// Listen for the clearing of the current output cell\n",
       "var outputEl = gd.closest('.output');\n",
       "if (outputEl) {{\n",
       "    x.observe(outputEl, {childList: true});\n",
       "}}\n",
       "\n",
       "                        })                };                });            </script>        </div>"
      ]
     },
     "metadata": {},
     "output_type": "display_data"
    },
    {
     "data": {
      "application/vnd.plotly.v1+json": {
       "config": {
        "plotlyServerURL": "https://plot.ly"
       },
       "data": [
        {
         "hovertemplate": "variable=SOK<br>Date=%{x|%B %d, %Y}<br>value=%{y}<extra></extra>",
         "legendgroup": "SOK",
         "line": {
          "color": "#636efa",
          "dash": "solid"
         },
         "mode": "lines",
         "name": "SOK",
         "orientation": "v",
         "showlegend": true,
         "type": "scatter",
         "x": [
          "2005-01-03T00:00:00",
          "2005-01-04T00:00:00",
          "2005-01-05T00:00:00",
          "2005-01-06T00:00:00",
          "2005-01-07T00:00:00",
          "2005-01-10T00:00:00",
          "2005-01-11T00:00:00",
          "2005-01-12T00:00:00",
          "2005-01-13T00:00:00",
          "2005-01-14T00:00:00",
          "2005-01-17T00:00:00",
          "2005-01-18T00:00:00",
          "2005-01-19T00:00:00",
          "2005-01-20T00:00:00",
          "2005-01-24T00:00:00",
          "2005-01-25T00:00:00",
          "2005-01-27T00:00:00",
          "2005-01-28T00:00:00",
          "2005-01-31T00:00:00",
          "2005-02-01T00:00:00",
          "2005-02-02T00:00:00",
          "2005-02-03T00:00:00",
          "2005-02-04T00:00:00",
          "2005-02-07T00:00:00",
          "2005-02-08T00:00:00",
          "2005-02-09T00:00:00",
          "2005-02-10T00:00:00",
          "2005-02-11T00:00:00",
          "2005-02-14T00:00:00",
          "2005-02-15T00:00:00",
          "2005-02-16T00:00:00",
          "2005-02-17T00:00:00",
          "2005-02-18T00:00:00",
          "2005-02-21T00:00:00",
          "2005-02-22T00:00:00",
          "2005-02-23T00:00:00",
          "2005-02-24T00:00:00",
          "2005-02-25T00:00:00",
          "2005-02-28T00:00:00",
          "2005-03-01T00:00:00",
          "2005-03-02T00:00:00",
          "2005-03-03T00:00:00",
          "2005-03-04T00:00:00",
          "2005-03-07T00:00:00",
          "2005-03-08T00:00:00",
          "2005-03-09T00:00:00",
          "2005-03-10T00:00:00",
          "2005-03-11T00:00:00",
          "2005-03-14T00:00:00",
          "2005-03-15T00:00:00",
          "2005-03-16T00:00:00",
          "2005-03-17T00:00:00",
          "2005-03-18T00:00:00",
          "2005-03-21T00:00:00",
          "2005-03-22T00:00:00",
          "2005-03-23T00:00:00",
          "2005-03-24T00:00:00",
          "2005-03-28T00:00:00",
          "2005-03-29T00:00:00",
          "2005-03-30T00:00:00",
          "2005-03-31T00:00:00",
          "2005-04-01T00:00:00",
          "2005-04-04T00:00:00",
          "2005-04-05T00:00:00",
          "2005-04-06T00:00:00",
          "2005-04-07T00:00:00",
          "2005-04-08T00:00:00",
          "2005-04-11T00:00:00",
          "2005-04-12T00:00:00",
          "2005-04-13T00:00:00",
          "2005-04-15T00:00:00",
          "2005-04-18T00:00:00",
          "2005-04-19T00:00:00",
          "2005-04-20T00:00:00",
          "2005-04-21T00:00:00",
          "2005-04-22T00:00:00",
          "2005-04-25T00:00:00",
          "2005-04-26T00:00:00",
          "2005-04-27T00:00:00",
          "2005-04-28T00:00:00",
          "2005-04-29T00:00:00",
          "2005-05-02T00:00:00",
          "2005-05-03T00:00:00",
          "2005-05-04T00:00:00",
          "2005-05-05T00:00:00",
          "2005-05-06T00:00:00",
          "2005-05-09T00:00:00",
          "2005-05-10T00:00:00",
          "2005-05-11T00:00:00",
          "2005-05-12T00:00:00",
          "2005-05-13T00:00:00",
          "2005-05-16T00:00:00",
          "2005-05-17T00:00:00",
          "2005-05-18T00:00:00",
          "2005-05-19T00:00:00",
          "2005-05-20T00:00:00",
          "2005-05-23T00:00:00",
          "2005-05-24T00:00:00",
          "2005-05-25T00:00:00",
          "2005-05-26T00:00:00",
          "2005-05-27T00:00:00",
          "2005-05-30T00:00:00",
          "2005-05-31T00:00:00",
          "2005-06-01T00:00:00",
          "2005-06-02T00:00:00",
          "2005-06-03T00:00:00",
          "2005-06-04T00:00:00",
          "2005-06-06T00:00:00",
          "2005-06-07T00:00:00",
          "2005-06-08T00:00:00",
          "2005-06-09T00:00:00",
          "2005-06-10T00:00:00",
          "2005-06-13T00:00:00",
          "2005-06-14T00:00:00",
          "2005-06-15T00:00:00",
          "2005-06-16T00:00:00",
          "2005-06-17T00:00:00",
          "2005-06-20T00:00:00",
          "2005-06-21T00:00:00",
          "2005-06-22T00:00:00",
          "2005-06-23T00:00:00",
          "2005-06-24T00:00:00",
          "2005-06-27T00:00:00",
          "2005-06-28T00:00:00",
          "2005-06-29T00:00:00",
          "2005-06-30T00:00:00"
         ],
         "xaxis": "x",
         "y": [
          62.08293818432625,
          51.32338994740928,
          11.23930515945035,
          6.082079819146226,
          6.1627462229871535,
          16.36201072918708,
          29.689801178202934,
          35.48421350700815,
          13.952994478266909,
          26.58218887158408,
          13.26277785643473,
          15.057341073198172,
          15.499787625654617,
          15.499787625654731,
          15.151850213769569,
          1.9875114224796067,
          2.343444227006031,
          60.28375733855202,
          75.02962085308064,
          61.57752200406226,
          67.46923488496526,
          66.73038747150957,
          50.02736726874656,
          40.38382594417082,
          29.064039408867014,
          41.488779419814,
          37.51143641354073,
          37.23696248856354,
          39.59006211180128,
          30.19875776397513,
          26.493891375347783,
          19.33591387444066,
          16.405588484335418,
          17.31885811056016,
          30.355728989933418,
          25.171251795381828,
          32.93280758778719,
          26.04670734273095,
          38.98119122257065,
          24.590237348858157,
          57.23443223443254,
          68.08311688311733,
          52.53671562082827,
          57.4795431299015,
          48.989942038868236,
          40.001704739175096,
          53.92321810951367,
          43.06526348857304,
          38.65442345046809,
          31.264347518983048,
          22.47483665901487,
          16.983047854494398,
          21.13452585150732,
          9.97594547641351,
          37.41171109592132,
          55.19968508445431,
          44.22058402519311,
          38.999427426280995,
          49.978060552873885,
          28.32382623957863,
          29.69660878831552,
          11.903641983604182,
          10.806223479490578,
          26.315417256011088,
          15.517370470200442,
          7.05962469733632,
          4.207021791767394,
          11.14638447971744,
          2.0027281746028467,
          2.8557114228453737,
          34.41800917529028,
          26.69603124148543,
          29.25710652983347,
          21.12925170068001,
          7.609977324262881,
          14.693877551020243,
          5.523809523809408,
          2.8798185941042673,
          6.294784580498648,
          29.221894943544225,
          41.094619666048196,
          28.58499954763401,
          11.462951234958627,
          3.232573149742035,
          19.902735562310284,
          21.34954407294862,
          28.814589665653912,
          20.261398176292246,
          17.075987841945846,
          25.227826979848906,
          26.447182646643952,
          40.0625434329399,
          31.018564479301446,
          48.20808100863727,
          37.197476221866836,
          51.10537951363327,
          55.16983016983057,
          71.682765632944,
          72.50024922739527,
          68.87102667153829,
          44.94884910485949,
          33.1293386919987,
          40.96709200805929,
          22.85618150355722,
          13.91634980988607,
          21.35692239858918,
          22.067901234567845,
          50.25028879476332,
          50.131810193321805,
          61.24522536287269,
          55.3105590062115,
          34.34292444893173,
          33.97729198440985,
          42.87408913743474,
          46.09388239281525,
          21.63192679206988,
          2.174551003639135,
          6.089329733536557,
          1.0417889423643805,
          2.887662871228752,
          15.201314708299371,
          11.007747388191403,
          5.8281488437612,
          0.6221387486792433,
          9.957154595610081,
          17.93523969722479
         ],
         "yaxis": "y"
        },
        {
         "hovertemplate": "variable=SOD<br>Date=%{x|%B %d, %Y}<br>value=%{y}<extra></extra>",
         "legendgroup": "SOD",
         "line": {
          "color": "#EF553B",
          "dash": "solid"
         },
         "mode": "lines",
         "name": "SOD",
         "orientation": "v",
         "showlegend": true,
         "type": "scatter",
         "x": [
          "2005-01-03T00:00:00",
          "2005-01-04T00:00:00",
          "2005-01-05T00:00:00",
          "2005-01-06T00:00:00",
          "2005-01-07T00:00:00",
          "2005-01-10T00:00:00",
          "2005-01-11T00:00:00",
          "2005-01-12T00:00:00",
          "2005-01-13T00:00:00",
          "2005-01-14T00:00:00",
          "2005-01-17T00:00:00",
          "2005-01-18T00:00:00",
          "2005-01-19T00:00:00",
          "2005-01-20T00:00:00",
          "2005-01-24T00:00:00",
          "2005-01-25T00:00:00",
          "2005-01-27T00:00:00",
          "2005-01-28T00:00:00",
          "2005-01-31T00:00:00",
          "2005-02-01T00:00:00",
          "2005-02-02T00:00:00",
          "2005-02-03T00:00:00",
          "2005-02-04T00:00:00",
          "2005-02-07T00:00:00",
          "2005-02-08T00:00:00",
          "2005-02-09T00:00:00",
          "2005-02-10T00:00:00",
          "2005-02-11T00:00:00",
          "2005-02-14T00:00:00",
          "2005-02-15T00:00:00",
          "2005-02-16T00:00:00",
          "2005-02-17T00:00:00",
          "2005-02-18T00:00:00",
          "2005-02-21T00:00:00",
          "2005-02-22T00:00:00",
          "2005-02-23T00:00:00",
          "2005-02-24T00:00:00",
          "2005-02-25T00:00:00",
          "2005-02-28T00:00:00",
          "2005-03-01T00:00:00",
          "2005-03-02T00:00:00",
          "2005-03-03T00:00:00",
          "2005-03-04T00:00:00",
          "2005-03-07T00:00:00",
          "2005-03-08T00:00:00",
          "2005-03-09T00:00:00",
          "2005-03-10T00:00:00",
          "2005-03-11T00:00:00",
          "2005-03-14T00:00:00",
          "2005-03-15T00:00:00",
          "2005-03-16T00:00:00",
          "2005-03-17T00:00:00",
          "2005-03-18T00:00:00",
          "2005-03-21T00:00:00",
          "2005-03-22T00:00:00",
          "2005-03-23T00:00:00",
          "2005-03-24T00:00:00",
          "2005-03-28T00:00:00",
          "2005-03-29T00:00:00",
          "2005-03-30T00:00:00",
          "2005-03-31T00:00:00",
          "2005-04-01T00:00:00",
          "2005-04-04T00:00:00",
          "2005-04-05T00:00:00",
          "2005-04-06T00:00:00",
          "2005-04-07T00:00:00",
          "2005-04-08T00:00:00",
          "2005-04-11T00:00:00",
          "2005-04-12T00:00:00",
          "2005-04-13T00:00:00",
          "2005-04-15T00:00:00",
          "2005-04-18T00:00:00",
          "2005-04-19T00:00:00",
          "2005-04-20T00:00:00",
          "2005-04-21T00:00:00",
          "2005-04-22T00:00:00",
          "2005-04-25T00:00:00",
          "2005-04-26T00:00:00",
          "2005-04-27T00:00:00",
          "2005-04-28T00:00:00",
          "2005-04-29T00:00:00",
          "2005-05-02T00:00:00",
          "2005-05-03T00:00:00",
          "2005-05-04T00:00:00",
          "2005-05-05T00:00:00",
          "2005-05-06T00:00:00",
          "2005-05-09T00:00:00",
          "2005-05-10T00:00:00",
          "2005-05-11T00:00:00",
          "2005-05-12T00:00:00",
          "2005-05-13T00:00:00",
          "2005-05-16T00:00:00",
          "2005-05-17T00:00:00",
          "2005-05-18T00:00:00",
          "2005-05-19T00:00:00",
          "2005-05-20T00:00:00",
          "2005-05-23T00:00:00",
          "2005-05-24T00:00:00",
          "2005-05-25T00:00:00",
          "2005-05-26T00:00:00",
          "2005-05-27T00:00:00",
          "2005-05-30T00:00:00",
          "2005-05-31T00:00:00",
          "2005-06-01T00:00:00",
          "2005-06-02T00:00:00",
          "2005-06-03T00:00:00",
          "2005-06-04T00:00:00",
          "2005-06-06T00:00:00",
          "2005-06-07T00:00:00",
          "2005-06-08T00:00:00",
          "2005-06-09T00:00:00",
          "2005-06-10T00:00:00",
          "2005-06-13T00:00:00",
          "2005-06-14T00:00:00",
          "2005-06-15T00:00:00",
          "2005-06-16T00:00:00",
          "2005-06-17T00:00:00",
          "2005-06-20T00:00:00",
          "2005-06-21T00:00:00",
          "2005-06-22T00:00:00",
          "2005-06-23T00:00:00",
          "2005-06-24T00:00:00",
          "2005-06-27T00:00:00",
          "2005-06-28T00:00:00",
          "2005-06-29T00:00:00",
          "2005-06-30T00:00:00"
         ],
         "xaxis": "x",
         "y": [
          43.93250154330571,
          50.888469344961116,
          41.5485444303953,
          22.88159164200196,
          7.82804373386125,
          9.535612257106825,
          17.40485271012573,
          27.17867513813273,
          26.375669721159337,
          25.339798952286383,
          17.932653735428573,
          18.30076926707233,
          14.606635518429172,
          15.352305441502507,
          15.383808488359639,
          10.879716420634635,
          6.494268621085067,
          21.538237662679222,
          45.88560747287957,
          65.63030006523165,
          68.02545924736941,
          65.25904812017906,
          61.4089965417405,
          52.38052689480903,
          39.82507754059484,
          36.97888159095066,
          36.021418414073956,
          38.74572610730613,
          38.112820337968564,
          35.675260788113356,
          32.0942370837081,
          25.342854337921228,
          20.745131244707995,
          17.68678682311212,
          21.360058528276372,
          24.281946298625172,
          29.486596124367512,
          28.050255575300024,
          32.653568717696295,
          29.87271197138662,
          40.26862026862049,
          49.96926215546938,
          59.28475491279275,
          59.36645854461573,
          53.00206692986603,
          48.823729969314975,
          47.63828829585236,
          45.66339544575396,
          45.21430168285162,
          37.661344819341416,
          30.79786920948869,
          23.574077344164127,
          20.19747012167222,
          16.031173060805102,
          22.840727474614074,
          34.19578055226307,
          45.61066006852294,
          46.139898845309496,
          44.3993573347827,
          39.1004380729112,
          35.999498526922714,
          23.308025670499486,
          17.468824750470137,
          16.341760906368663,
          17.546337068567418,
          16.297470807849333,
          8.928005653101435,
          7.471010322940434,
          5.785378148695943,
          5.334941359055269,
          13.092149590912882,
          21.323250613207076,
          30.123715648869776,
          25.694129823999685,
          19.33211185159217,
          14.477702191987758,
          9.275888133030891,
          7.699168556311354,
          4.899470899470823,
          12.798832706049097,
          25.53709973003041,
          32.9671713857422,
          27.047523482880333,
          14.42684131077828,
          11.532753315670371,
          14.828284261667037,
          23.355623100304328,
          23.475177304964983,
          22.050658561297393,
          20.855070999362393,
          22.916999156146293,
          30.579184353144313,
          32.50943018629516,
          39.76306297362627,
          38.80804056993525,
          45.50364558137918,
          47.82422863511028,
          59.31932510546934,
          66.45094834339001,
          71.01801384395924,
          62.10670833459775,
          48.98307148946555,
          39.681759934972554,
          32.317537401205136,
          25.91320777383426,
          19.376484570677555,
          19.11372448101443,
          31.22503747597351,
          40.816666740884386,
          53.87577478365267,
          55.56253152080206,
          50.29956960600538,
          41.2102584798511,
          37.064768523592186,
          40.98175450488669,
          36.866632774106705,
          23.300120062841504,
          9.965269176415275,
          3.1018898931801075,
          3.3395938490433132,
          6.3769221739642505,
          9.698908322573258,
          10.679070313417407,
          5.819344993544031,
          5.469147396016925,
          9.504844347171456
         ],
         "yaxis": "y"
        }
       ],
       "layout": {
        "legend": {
         "title": {
          "text": "variable"
         },
         "tracegroupgap": 0
        },
        "margin": {
         "t": 60
        },
        "template": {
         "data": {
          "bar": [
           {
            "error_x": {
             "color": "#2a3f5f"
            },
            "error_y": {
             "color": "#2a3f5f"
            },
            "marker": {
             "line": {
              "color": "#E5ECF6",
              "width": 0.5
             }
            },
            "type": "bar"
           }
          ],
          "barpolar": [
           {
            "marker": {
             "line": {
              "color": "#E5ECF6",
              "width": 0.5
             }
            },
            "type": "barpolar"
           }
          ],
          "carpet": [
           {
            "aaxis": {
             "endlinecolor": "#2a3f5f",
             "gridcolor": "white",
             "linecolor": "white",
             "minorgridcolor": "white",
             "startlinecolor": "#2a3f5f"
            },
            "baxis": {
             "endlinecolor": "#2a3f5f",
             "gridcolor": "white",
             "linecolor": "white",
             "minorgridcolor": "white",
             "startlinecolor": "#2a3f5f"
            },
            "type": "carpet"
           }
          ],
          "choropleth": [
           {
            "colorbar": {
             "outlinewidth": 0,
             "ticks": ""
            },
            "type": "choropleth"
           }
          ],
          "contour": [
           {
            "colorbar": {
             "outlinewidth": 0,
             "ticks": ""
            },
            "colorscale": [
             [
              0,
              "#0d0887"
             ],
             [
              0.1111111111111111,
              "#46039f"
             ],
             [
              0.2222222222222222,
              "#7201a8"
             ],
             [
              0.3333333333333333,
              "#9c179e"
             ],
             [
              0.4444444444444444,
              "#bd3786"
             ],
             [
              0.5555555555555556,
              "#d8576b"
             ],
             [
              0.6666666666666666,
              "#ed7953"
             ],
             [
              0.7777777777777778,
              "#fb9f3a"
             ],
             [
              0.8888888888888888,
              "#fdca26"
             ],
             [
              1,
              "#f0f921"
             ]
            ],
            "type": "contour"
           }
          ],
          "contourcarpet": [
           {
            "colorbar": {
             "outlinewidth": 0,
             "ticks": ""
            },
            "type": "contourcarpet"
           }
          ],
          "heatmap": [
           {
            "colorbar": {
             "outlinewidth": 0,
             "ticks": ""
            },
            "colorscale": [
             [
              0,
              "#0d0887"
             ],
             [
              0.1111111111111111,
              "#46039f"
             ],
             [
              0.2222222222222222,
              "#7201a8"
             ],
             [
              0.3333333333333333,
              "#9c179e"
             ],
             [
              0.4444444444444444,
              "#bd3786"
             ],
             [
              0.5555555555555556,
              "#d8576b"
             ],
             [
              0.6666666666666666,
              "#ed7953"
             ],
             [
              0.7777777777777778,
              "#fb9f3a"
             ],
             [
              0.8888888888888888,
              "#fdca26"
             ],
             [
              1,
              "#f0f921"
             ]
            ],
            "type": "heatmap"
           }
          ],
          "heatmapgl": [
           {
            "colorbar": {
             "outlinewidth": 0,
             "ticks": ""
            },
            "colorscale": [
             [
              0,
              "#0d0887"
             ],
             [
              0.1111111111111111,
              "#46039f"
             ],
             [
              0.2222222222222222,
              "#7201a8"
             ],
             [
              0.3333333333333333,
              "#9c179e"
             ],
             [
              0.4444444444444444,
              "#bd3786"
             ],
             [
              0.5555555555555556,
              "#d8576b"
             ],
             [
              0.6666666666666666,
              "#ed7953"
             ],
             [
              0.7777777777777778,
              "#fb9f3a"
             ],
             [
              0.8888888888888888,
              "#fdca26"
             ],
             [
              1,
              "#f0f921"
             ]
            ],
            "type": "heatmapgl"
           }
          ],
          "histogram": [
           {
            "marker": {
             "colorbar": {
              "outlinewidth": 0,
              "ticks": ""
             }
            },
            "type": "histogram"
           }
          ],
          "histogram2d": [
           {
            "colorbar": {
             "outlinewidth": 0,
             "ticks": ""
            },
            "colorscale": [
             [
              0,
              "#0d0887"
             ],
             [
              0.1111111111111111,
              "#46039f"
             ],
             [
              0.2222222222222222,
              "#7201a8"
             ],
             [
              0.3333333333333333,
              "#9c179e"
             ],
             [
              0.4444444444444444,
              "#bd3786"
             ],
             [
              0.5555555555555556,
              "#d8576b"
             ],
             [
              0.6666666666666666,
              "#ed7953"
             ],
             [
              0.7777777777777778,
              "#fb9f3a"
             ],
             [
              0.8888888888888888,
              "#fdca26"
             ],
             [
              1,
              "#f0f921"
             ]
            ],
            "type": "histogram2d"
           }
          ],
          "histogram2dcontour": [
           {
            "colorbar": {
             "outlinewidth": 0,
             "ticks": ""
            },
            "colorscale": [
             [
              0,
              "#0d0887"
             ],
             [
              0.1111111111111111,
              "#46039f"
             ],
             [
              0.2222222222222222,
              "#7201a8"
             ],
             [
              0.3333333333333333,
              "#9c179e"
             ],
             [
              0.4444444444444444,
              "#bd3786"
             ],
             [
              0.5555555555555556,
              "#d8576b"
             ],
             [
              0.6666666666666666,
              "#ed7953"
             ],
             [
              0.7777777777777778,
              "#fb9f3a"
             ],
             [
              0.8888888888888888,
              "#fdca26"
             ],
             [
              1,
              "#f0f921"
             ]
            ],
            "type": "histogram2dcontour"
           }
          ],
          "mesh3d": [
           {
            "colorbar": {
             "outlinewidth": 0,
             "ticks": ""
            },
            "type": "mesh3d"
           }
          ],
          "parcoords": [
           {
            "line": {
             "colorbar": {
              "outlinewidth": 0,
              "ticks": ""
             }
            },
            "type": "parcoords"
           }
          ],
          "pie": [
           {
            "automargin": true,
            "type": "pie"
           }
          ],
          "scatter": [
           {
            "marker": {
             "colorbar": {
              "outlinewidth": 0,
              "ticks": ""
             }
            },
            "type": "scatter"
           }
          ],
          "scatter3d": [
           {
            "line": {
             "colorbar": {
              "outlinewidth": 0,
              "ticks": ""
             }
            },
            "marker": {
             "colorbar": {
              "outlinewidth": 0,
              "ticks": ""
             }
            },
            "type": "scatter3d"
           }
          ],
          "scattercarpet": [
           {
            "marker": {
             "colorbar": {
              "outlinewidth": 0,
              "ticks": ""
             }
            },
            "type": "scattercarpet"
           }
          ],
          "scattergeo": [
           {
            "marker": {
             "colorbar": {
              "outlinewidth": 0,
              "ticks": ""
             }
            },
            "type": "scattergeo"
           }
          ],
          "scattergl": [
           {
            "marker": {
             "colorbar": {
              "outlinewidth": 0,
              "ticks": ""
             }
            },
            "type": "scattergl"
           }
          ],
          "scattermapbox": [
           {
            "marker": {
             "colorbar": {
              "outlinewidth": 0,
              "ticks": ""
             }
            },
            "type": "scattermapbox"
           }
          ],
          "scatterpolar": [
           {
            "marker": {
             "colorbar": {
              "outlinewidth": 0,
              "ticks": ""
             }
            },
            "type": "scatterpolar"
           }
          ],
          "scatterpolargl": [
           {
            "marker": {
             "colorbar": {
              "outlinewidth": 0,
              "ticks": ""
             }
            },
            "type": "scatterpolargl"
           }
          ],
          "scatterternary": [
           {
            "marker": {
             "colorbar": {
              "outlinewidth": 0,
              "ticks": ""
             }
            },
            "type": "scatterternary"
           }
          ],
          "surface": [
           {
            "colorbar": {
             "outlinewidth": 0,
             "ticks": ""
            },
            "colorscale": [
             [
              0,
              "#0d0887"
             ],
             [
              0.1111111111111111,
              "#46039f"
             ],
             [
              0.2222222222222222,
              "#7201a8"
             ],
             [
              0.3333333333333333,
              "#9c179e"
             ],
             [
              0.4444444444444444,
              "#bd3786"
             ],
             [
              0.5555555555555556,
              "#d8576b"
             ],
             [
              0.6666666666666666,
              "#ed7953"
             ],
             [
              0.7777777777777778,
              "#fb9f3a"
             ],
             [
              0.8888888888888888,
              "#fdca26"
             ],
             [
              1,
              "#f0f921"
             ]
            ],
            "type": "surface"
           }
          ],
          "table": [
           {
            "cells": {
             "fill": {
              "color": "#EBF0F8"
             },
             "line": {
              "color": "white"
             }
            },
            "header": {
             "fill": {
              "color": "#C8D4E3"
             },
             "line": {
              "color": "white"
             }
            },
            "type": "table"
           }
          ]
         },
         "layout": {
          "annotationdefaults": {
           "arrowcolor": "#2a3f5f",
           "arrowhead": 0,
           "arrowwidth": 1
          },
          "autotypenumbers": "strict",
          "coloraxis": {
           "colorbar": {
            "outlinewidth": 0,
            "ticks": ""
           }
          },
          "colorscale": {
           "diverging": [
            [
             0,
             "#8e0152"
            ],
            [
             0.1,
             "#c51b7d"
            ],
            [
             0.2,
             "#de77ae"
            ],
            [
             0.3,
             "#f1b6da"
            ],
            [
             0.4,
             "#fde0ef"
            ],
            [
             0.5,
             "#f7f7f7"
            ],
            [
             0.6,
             "#e6f5d0"
            ],
            [
             0.7,
             "#b8e186"
            ],
            [
             0.8,
             "#7fbc41"
            ],
            [
             0.9,
             "#4d9221"
            ],
            [
             1,
             "#276419"
            ]
           ],
           "sequential": [
            [
             0,
             "#0d0887"
            ],
            [
             0.1111111111111111,
             "#46039f"
            ],
            [
             0.2222222222222222,
             "#7201a8"
            ],
            [
             0.3333333333333333,
             "#9c179e"
            ],
            [
             0.4444444444444444,
             "#bd3786"
            ],
            [
             0.5555555555555556,
             "#d8576b"
            ],
            [
             0.6666666666666666,
             "#ed7953"
            ],
            [
             0.7777777777777778,
             "#fb9f3a"
            ],
            [
             0.8888888888888888,
             "#fdca26"
            ],
            [
             1,
             "#f0f921"
            ]
           ],
           "sequentialminus": [
            [
             0,
             "#0d0887"
            ],
            [
             0.1111111111111111,
             "#46039f"
            ],
            [
             0.2222222222222222,
             "#7201a8"
            ],
            [
             0.3333333333333333,
             "#9c179e"
            ],
            [
             0.4444444444444444,
             "#bd3786"
            ],
            [
             0.5555555555555556,
             "#d8576b"
            ],
            [
             0.6666666666666666,
             "#ed7953"
            ],
            [
             0.7777777777777778,
             "#fb9f3a"
            ],
            [
             0.8888888888888888,
             "#fdca26"
            ],
            [
             1,
             "#f0f921"
            ]
           ]
          },
          "colorway": [
           "#636efa",
           "#EF553B",
           "#00cc96",
           "#ab63fa",
           "#FFA15A",
           "#19d3f3",
           "#FF6692",
           "#B6E880",
           "#FF97FF",
           "#FECB52"
          ],
          "font": {
           "color": "#2a3f5f"
          },
          "geo": {
           "bgcolor": "white",
           "lakecolor": "white",
           "landcolor": "#E5ECF6",
           "showlakes": true,
           "showland": true,
           "subunitcolor": "white"
          },
          "hoverlabel": {
           "align": "left"
          },
          "hovermode": "closest",
          "mapbox": {
           "style": "light"
          },
          "paper_bgcolor": "white",
          "plot_bgcolor": "#E5ECF6",
          "polar": {
           "angularaxis": {
            "gridcolor": "white",
            "linecolor": "white",
            "ticks": ""
           },
           "bgcolor": "#E5ECF6",
           "radialaxis": {
            "gridcolor": "white",
            "linecolor": "white",
            "ticks": ""
           }
          },
          "scene": {
           "xaxis": {
            "backgroundcolor": "#E5ECF6",
            "gridcolor": "white",
            "gridwidth": 2,
            "linecolor": "white",
            "showbackground": true,
            "ticks": "",
            "zerolinecolor": "white"
           },
           "yaxis": {
            "backgroundcolor": "#E5ECF6",
            "gridcolor": "white",
            "gridwidth": 2,
            "linecolor": "white",
            "showbackground": true,
            "ticks": "",
            "zerolinecolor": "white"
           },
           "zaxis": {
            "backgroundcolor": "#E5ECF6",
            "gridcolor": "white",
            "gridwidth": 2,
            "linecolor": "white",
            "showbackground": true,
            "ticks": "",
            "zerolinecolor": "white"
           }
          },
          "shapedefaults": {
           "line": {
            "color": "#2a3f5f"
           }
          },
          "ternary": {
           "aaxis": {
            "gridcolor": "white",
            "linecolor": "white",
            "ticks": ""
           },
           "baxis": {
            "gridcolor": "white",
            "linecolor": "white",
            "ticks": ""
           },
           "bgcolor": "#E5ECF6",
           "caxis": {
            "gridcolor": "white",
            "linecolor": "white",
            "ticks": ""
           }
          },
          "title": {
           "x": 0.05
          },
          "xaxis": {
           "automargin": true,
           "gridcolor": "white",
           "linecolor": "white",
           "ticks": "",
           "title": {
            "standoff": 15
           },
           "zerolinecolor": "white",
           "zerolinewidth": 2
          },
          "yaxis": {
           "automargin": true,
           "gridcolor": "white",
           "linecolor": "white",
           "ticks": "",
           "title": {
            "standoff": 15
           },
           "zerolinecolor": "white",
           "zerolinewidth": 2
          }
         }
        },
        "xaxis": {
         "anchor": "y",
         "domain": [
          0,
          1
         ],
         "dtick": "M1",
         "tickformat": "%b\n%Y",
         "title": {
          "text": "Date"
         }
        },
        "yaxis": {
         "anchor": "x",
         "domain": [
          0,
          1
         ],
         "title": {
          "text": "value"
         }
        }
       }
      },
      "text/html": [
       "<div>                            <div id=\"f19418df-5d14-4274-8fdd-06987120e0a3\" class=\"plotly-graph-div\" style=\"height:525px; width:100%;\"></div>            <script type=\"text/javascript\">                require([\"plotly\"], function(Plotly) {                    window.PLOTLYENV=window.PLOTLYENV || {};                                    if (document.getElementById(\"f19418df-5d14-4274-8fdd-06987120e0a3\")) {                    Plotly.newPlot(                        \"f19418df-5d14-4274-8fdd-06987120e0a3\",                        [{\"hovertemplate\": \"variable=SOK<br>Date=%{x|%B %d, %Y}<br>value=%{y}<extra></extra>\", \"legendgroup\": \"SOK\", \"line\": {\"color\": \"#636efa\", \"dash\": \"solid\"}, \"mode\": \"lines\", \"name\": \"SOK\", \"orientation\": \"v\", \"showlegend\": true, \"type\": \"scatter\", \"x\": [\"2005-01-03T00:00:00\", \"2005-01-04T00:00:00\", \"2005-01-05T00:00:00\", \"2005-01-06T00:00:00\", \"2005-01-07T00:00:00\", \"2005-01-10T00:00:00\", \"2005-01-11T00:00:00\", \"2005-01-12T00:00:00\", \"2005-01-13T00:00:00\", \"2005-01-14T00:00:00\", \"2005-01-17T00:00:00\", \"2005-01-18T00:00:00\", \"2005-01-19T00:00:00\", \"2005-01-20T00:00:00\", \"2005-01-24T00:00:00\", \"2005-01-25T00:00:00\", \"2005-01-27T00:00:00\", \"2005-01-28T00:00:00\", \"2005-01-31T00:00:00\", \"2005-02-01T00:00:00\", \"2005-02-02T00:00:00\", \"2005-02-03T00:00:00\", \"2005-02-04T00:00:00\", \"2005-02-07T00:00:00\", \"2005-02-08T00:00:00\", \"2005-02-09T00:00:00\", \"2005-02-10T00:00:00\", \"2005-02-11T00:00:00\", \"2005-02-14T00:00:00\", \"2005-02-15T00:00:00\", \"2005-02-16T00:00:00\", \"2005-02-17T00:00:00\", \"2005-02-18T00:00:00\", \"2005-02-21T00:00:00\", \"2005-02-22T00:00:00\", \"2005-02-23T00:00:00\", \"2005-02-24T00:00:00\", \"2005-02-25T00:00:00\", \"2005-02-28T00:00:00\", \"2005-03-01T00:00:00\", \"2005-03-02T00:00:00\", \"2005-03-03T00:00:00\", \"2005-03-04T00:00:00\", \"2005-03-07T00:00:00\", \"2005-03-08T00:00:00\", \"2005-03-09T00:00:00\", \"2005-03-10T00:00:00\", \"2005-03-11T00:00:00\", \"2005-03-14T00:00:00\", \"2005-03-15T00:00:00\", \"2005-03-16T00:00:00\", \"2005-03-17T00:00:00\", \"2005-03-18T00:00:00\", \"2005-03-21T00:00:00\", \"2005-03-22T00:00:00\", \"2005-03-23T00:00:00\", \"2005-03-24T00:00:00\", \"2005-03-28T00:00:00\", \"2005-03-29T00:00:00\", \"2005-03-30T00:00:00\", \"2005-03-31T00:00:00\", \"2005-04-01T00:00:00\", \"2005-04-04T00:00:00\", \"2005-04-05T00:00:00\", \"2005-04-06T00:00:00\", \"2005-04-07T00:00:00\", \"2005-04-08T00:00:00\", \"2005-04-11T00:00:00\", \"2005-04-12T00:00:00\", \"2005-04-13T00:00:00\", \"2005-04-15T00:00:00\", \"2005-04-18T00:00:00\", \"2005-04-19T00:00:00\", \"2005-04-20T00:00:00\", \"2005-04-21T00:00:00\", \"2005-04-22T00:00:00\", \"2005-04-25T00:00:00\", \"2005-04-26T00:00:00\", \"2005-04-27T00:00:00\", \"2005-04-28T00:00:00\", \"2005-04-29T00:00:00\", \"2005-05-02T00:00:00\", \"2005-05-03T00:00:00\", \"2005-05-04T00:00:00\", \"2005-05-05T00:00:00\", \"2005-05-06T00:00:00\", \"2005-05-09T00:00:00\", \"2005-05-10T00:00:00\", \"2005-05-11T00:00:00\", \"2005-05-12T00:00:00\", \"2005-05-13T00:00:00\", \"2005-05-16T00:00:00\", \"2005-05-17T00:00:00\", \"2005-05-18T00:00:00\", \"2005-05-19T00:00:00\", \"2005-05-20T00:00:00\", \"2005-05-23T00:00:00\", \"2005-05-24T00:00:00\", \"2005-05-25T00:00:00\", \"2005-05-26T00:00:00\", \"2005-05-27T00:00:00\", \"2005-05-30T00:00:00\", \"2005-05-31T00:00:00\", \"2005-06-01T00:00:00\", \"2005-06-02T00:00:00\", \"2005-06-03T00:00:00\", \"2005-06-04T00:00:00\", \"2005-06-06T00:00:00\", \"2005-06-07T00:00:00\", \"2005-06-08T00:00:00\", \"2005-06-09T00:00:00\", \"2005-06-10T00:00:00\", \"2005-06-13T00:00:00\", \"2005-06-14T00:00:00\", \"2005-06-15T00:00:00\", \"2005-06-16T00:00:00\", \"2005-06-17T00:00:00\", \"2005-06-20T00:00:00\", \"2005-06-21T00:00:00\", \"2005-06-22T00:00:00\", \"2005-06-23T00:00:00\", \"2005-06-24T00:00:00\", \"2005-06-27T00:00:00\", \"2005-06-28T00:00:00\", \"2005-06-29T00:00:00\", \"2005-06-30T00:00:00\"], \"xaxis\": \"x\", \"y\": [62.08293818432625, 51.32338994740928, 11.23930515945035, 6.082079819146226, 6.1627462229871535, 16.36201072918708, 29.689801178202934, 35.48421350700815, 13.952994478266909, 26.58218887158408, 13.26277785643473, 15.057341073198172, 15.499787625654617, 15.499787625654731, 15.151850213769569, 1.9875114224796067, 2.343444227006031, 60.28375733855202, 75.02962085308064, 61.57752200406226, 67.46923488496526, 66.73038747150957, 50.02736726874656, 40.38382594417082, 29.064039408867014, 41.488779419814, 37.51143641354073, 37.23696248856354, 39.59006211180128, 30.19875776397513, 26.493891375347783, 19.33591387444066, 16.405588484335418, 17.31885811056016, 30.355728989933418, 25.171251795381828, 32.93280758778719, 26.04670734273095, 38.98119122257065, 24.590237348858157, 57.23443223443254, 68.08311688311733, 52.53671562082827, 57.4795431299015, 48.989942038868236, 40.001704739175096, 53.92321810951367, 43.06526348857304, 38.65442345046809, 31.264347518983048, 22.47483665901487, 16.983047854494398, 21.13452585150732, 9.97594547641351, 37.41171109592132, 55.19968508445431, 44.22058402519311, 38.999427426280995, 49.978060552873885, 28.32382623957863, 29.69660878831552, 11.903641983604182, 10.806223479490578, 26.315417256011088, 15.517370470200442, 7.05962469733632, 4.207021791767394, 11.14638447971744, 2.0027281746028467, 2.8557114228453737, 34.41800917529028, 26.69603124148543, 29.25710652983347, 21.12925170068001, 7.609977324262881, 14.693877551020243, 5.523809523809408, 2.8798185941042673, 6.294784580498648, 29.221894943544225, 41.094619666048196, 28.58499954763401, 11.462951234958627, 3.232573149742035, 19.902735562310284, 21.34954407294862, 28.814589665653912, 20.261398176292246, 17.075987841945846, 25.227826979848906, 26.447182646643952, 40.0625434329399, 31.018564479301446, 48.20808100863727, 37.197476221866836, 51.10537951363327, 55.16983016983057, 71.682765632944, 72.50024922739527, 68.87102667153829, 44.94884910485949, 33.1293386919987, 40.96709200805929, 22.85618150355722, 13.91634980988607, 21.35692239858918, 22.067901234567845, 50.25028879476332, 50.131810193321805, 61.24522536287269, 55.3105590062115, 34.34292444893173, 33.97729198440985, 42.87408913743474, 46.09388239281525, 21.63192679206988, 2.174551003639135, 6.089329733536557, 1.0417889423643805, 2.887662871228752, 15.201314708299371, 11.007747388191403, 5.8281488437612, 0.6221387486792433, 9.957154595610081, 17.93523969722479], \"yaxis\": \"y\"}, {\"hovertemplate\": \"variable=SOD<br>Date=%{x|%B %d, %Y}<br>value=%{y}<extra></extra>\", \"legendgroup\": \"SOD\", \"line\": {\"color\": \"#EF553B\", \"dash\": \"solid\"}, \"mode\": \"lines\", \"name\": \"SOD\", \"orientation\": \"v\", \"showlegend\": true, \"type\": \"scatter\", \"x\": [\"2005-01-03T00:00:00\", \"2005-01-04T00:00:00\", \"2005-01-05T00:00:00\", \"2005-01-06T00:00:00\", \"2005-01-07T00:00:00\", \"2005-01-10T00:00:00\", \"2005-01-11T00:00:00\", \"2005-01-12T00:00:00\", \"2005-01-13T00:00:00\", \"2005-01-14T00:00:00\", \"2005-01-17T00:00:00\", \"2005-01-18T00:00:00\", \"2005-01-19T00:00:00\", \"2005-01-20T00:00:00\", \"2005-01-24T00:00:00\", \"2005-01-25T00:00:00\", \"2005-01-27T00:00:00\", \"2005-01-28T00:00:00\", \"2005-01-31T00:00:00\", \"2005-02-01T00:00:00\", \"2005-02-02T00:00:00\", \"2005-02-03T00:00:00\", \"2005-02-04T00:00:00\", \"2005-02-07T00:00:00\", \"2005-02-08T00:00:00\", \"2005-02-09T00:00:00\", \"2005-02-10T00:00:00\", \"2005-02-11T00:00:00\", \"2005-02-14T00:00:00\", \"2005-02-15T00:00:00\", \"2005-02-16T00:00:00\", \"2005-02-17T00:00:00\", \"2005-02-18T00:00:00\", \"2005-02-21T00:00:00\", \"2005-02-22T00:00:00\", \"2005-02-23T00:00:00\", \"2005-02-24T00:00:00\", \"2005-02-25T00:00:00\", \"2005-02-28T00:00:00\", \"2005-03-01T00:00:00\", \"2005-03-02T00:00:00\", \"2005-03-03T00:00:00\", \"2005-03-04T00:00:00\", \"2005-03-07T00:00:00\", \"2005-03-08T00:00:00\", \"2005-03-09T00:00:00\", \"2005-03-10T00:00:00\", \"2005-03-11T00:00:00\", \"2005-03-14T00:00:00\", \"2005-03-15T00:00:00\", \"2005-03-16T00:00:00\", \"2005-03-17T00:00:00\", \"2005-03-18T00:00:00\", \"2005-03-21T00:00:00\", \"2005-03-22T00:00:00\", \"2005-03-23T00:00:00\", \"2005-03-24T00:00:00\", \"2005-03-28T00:00:00\", \"2005-03-29T00:00:00\", \"2005-03-30T00:00:00\", \"2005-03-31T00:00:00\", \"2005-04-01T00:00:00\", \"2005-04-04T00:00:00\", \"2005-04-05T00:00:00\", \"2005-04-06T00:00:00\", \"2005-04-07T00:00:00\", \"2005-04-08T00:00:00\", \"2005-04-11T00:00:00\", \"2005-04-12T00:00:00\", \"2005-04-13T00:00:00\", \"2005-04-15T00:00:00\", \"2005-04-18T00:00:00\", \"2005-04-19T00:00:00\", \"2005-04-20T00:00:00\", \"2005-04-21T00:00:00\", \"2005-04-22T00:00:00\", \"2005-04-25T00:00:00\", \"2005-04-26T00:00:00\", \"2005-04-27T00:00:00\", \"2005-04-28T00:00:00\", \"2005-04-29T00:00:00\", \"2005-05-02T00:00:00\", \"2005-05-03T00:00:00\", \"2005-05-04T00:00:00\", \"2005-05-05T00:00:00\", \"2005-05-06T00:00:00\", \"2005-05-09T00:00:00\", \"2005-05-10T00:00:00\", \"2005-05-11T00:00:00\", \"2005-05-12T00:00:00\", \"2005-05-13T00:00:00\", \"2005-05-16T00:00:00\", \"2005-05-17T00:00:00\", \"2005-05-18T00:00:00\", \"2005-05-19T00:00:00\", \"2005-05-20T00:00:00\", \"2005-05-23T00:00:00\", \"2005-05-24T00:00:00\", \"2005-05-25T00:00:00\", \"2005-05-26T00:00:00\", \"2005-05-27T00:00:00\", \"2005-05-30T00:00:00\", \"2005-05-31T00:00:00\", \"2005-06-01T00:00:00\", \"2005-06-02T00:00:00\", \"2005-06-03T00:00:00\", \"2005-06-04T00:00:00\", \"2005-06-06T00:00:00\", \"2005-06-07T00:00:00\", \"2005-06-08T00:00:00\", \"2005-06-09T00:00:00\", \"2005-06-10T00:00:00\", \"2005-06-13T00:00:00\", \"2005-06-14T00:00:00\", \"2005-06-15T00:00:00\", \"2005-06-16T00:00:00\", \"2005-06-17T00:00:00\", \"2005-06-20T00:00:00\", \"2005-06-21T00:00:00\", \"2005-06-22T00:00:00\", \"2005-06-23T00:00:00\", \"2005-06-24T00:00:00\", \"2005-06-27T00:00:00\", \"2005-06-28T00:00:00\", \"2005-06-29T00:00:00\", \"2005-06-30T00:00:00\"], \"xaxis\": \"x\", \"y\": [43.93250154330571, 50.888469344961116, 41.5485444303953, 22.88159164200196, 7.82804373386125, 9.535612257106825, 17.40485271012573, 27.17867513813273, 26.375669721159337, 25.339798952286383, 17.932653735428573, 18.30076926707233, 14.606635518429172, 15.352305441502507, 15.383808488359639, 10.879716420634635, 6.494268621085067, 21.538237662679222, 45.88560747287957, 65.63030006523165, 68.02545924736941, 65.25904812017906, 61.4089965417405, 52.38052689480903, 39.82507754059484, 36.97888159095066, 36.021418414073956, 38.74572610730613, 38.112820337968564, 35.675260788113356, 32.0942370837081, 25.342854337921228, 20.745131244707995, 17.68678682311212, 21.360058528276372, 24.281946298625172, 29.486596124367512, 28.050255575300024, 32.653568717696295, 29.87271197138662, 40.26862026862049, 49.96926215546938, 59.28475491279275, 59.36645854461573, 53.00206692986603, 48.823729969314975, 47.63828829585236, 45.66339544575396, 45.21430168285162, 37.661344819341416, 30.79786920948869, 23.574077344164127, 20.19747012167222, 16.031173060805102, 22.840727474614074, 34.19578055226307, 45.61066006852294, 46.139898845309496, 44.3993573347827, 39.1004380729112, 35.999498526922714, 23.308025670499486, 17.468824750470137, 16.341760906368663, 17.546337068567418, 16.297470807849333, 8.928005653101435, 7.471010322940434, 5.785378148695943, 5.334941359055269, 13.092149590912882, 21.323250613207076, 30.123715648869776, 25.694129823999685, 19.33211185159217, 14.477702191987758, 9.275888133030891, 7.699168556311354, 4.899470899470823, 12.798832706049097, 25.53709973003041, 32.9671713857422, 27.047523482880333, 14.42684131077828, 11.532753315670371, 14.828284261667037, 23.355623100304328, 23.475177304964983, 22.050658561297393, 20.855070999362393, 22.916999156146293, 30.579184353144313, 32.50943018629516, 39.76306297362627, 38.80804056993525, 45.50364558137918, 47.82422863511028, 59.31932510546934, 66.45094834339001, 71.01801384395924, 62.10670833459775, 48.98307148946555, 39.681759934972554, 32.317537401205136, 25.91320777383426, 19.376484570677555, 19.11372448101443, 31.22503747597351, 40.816666740884386, 53.87577478365267, 55.56253152080206, 50.29956960600538, 41.2102584798511, 37.064768523592186, 40.98175450488669, 36.866632774106705, 23.300120062841504, 9.965269176415275, 3.1018898931801075, 3.3395938490433132, 6.3769221739642505, 9.698908322573258, 10.679070313417407, 5.819344993544031, 5.469147396016925, 9.504844347171456], \"yaxis\": \"y\"}],                        {\"legend\": {\"title\": {\"text\": \"variable\"}, \"tracegroupgap\": 0}, \"margin\": {\"t\": 60}, \"template\": {\"data\": {\"bar\": [{\"error_x\": {\"color\": \"#2a3f5f\"}, \"error_y\": {\"color\": \"#2a3f5f\"}, \"marker\": {\"line\": {\"color\": \"#E5ECF6\", \"width\": 0.5}}, \"type\": \"bar\"}], \"barpolar\": [{\"marker\": {\"line\": {\"color\": \"#E5ECF6\", \"width\": 0.5}}, \"type\": \"barpolar\"}], \"carpet\": [{\"aaxis\": {\"endlinecolor\": \"#2a3f5f\", \"gridcolor\": \"white\", \"linecolor\": \"white\", \"minorgridcolor\": \"white\", \"startlinecolor\": \"#2a3f5f\"}, \"baxis\": {\"endlinecolor\": \"#2a3f5f\", \"gridcolor\": \"white\", \"linecolor\": \"white\", \"minorgridcolor\": \"white\", \"startlinecolor\": \"#2a3f5f\"}, \"type\": \"carpet\"}], \"choropleth\": [{\"colorbar\": {\"outlinewidth\": 0, \"ticks\": \"\"}, \"type\": \"choropleth\"}], \"contour\": [{\"colorbar\": {\"outlinewidth\": 0, \"ticks\": \"\"}, \"colorscale\": [[0.0, \"#0d0887\"], [0.1111111111111111, \"#46039f\"], [0.2222222222222222, \"#7201a8\"], [0.3333333333333333, \"#9c179e\"], [0.4444444444444444, \"#bd3786\"], [0.5555555555555556, \"#d8576b\"], [0.6666666666666666, \"#ed7953\"], [0.7777777777777778, \"#fb9f3a\"], [0.8888888888888888, \"#fdca26\"], [1.0, \"#f0f921\"]], \"type\": \"contour\"}], \"contourcarpet\": [{\"colorbar\": {\"outlinewidth\": 0, \"ticks\": \"\"}, \"type\": \"contourcarpet\"}], \"heatmap\": [{\"colorbar\": {\"outlinewidth\": 0, \"ticks\": \"\"}, \"colorscale\": [[0.0, \"#0d0887\"], [0.1111111111111111, \"#46039f\"], [0.2222222222222222, \"#7201a8\"], [0.3333333333333333, \"#9c179e\"], [0.4444444444444444, \"#bd3786\"], [0.5555555555555556, \"#d8576b\"], [0.6666666666666666, \"#ed7953\"], [0.7777777777777778, \"#fb9f3a\"], [0.8888888888888888, \"#fdca26\"], [1.0, \"#f0f921\"]], \"type\": \"heatmap\"}], \"heatmapgl\": [{\"colorbar\": {\"outlinewidth\": 0, \"ticks\": \"\"}, \"colorscale\": [[0.0, \"#0d0887\"], [0.1111111111111111, \"#46039f\"], [0.2222222222222222, \"#7201a8\"], [0.3333333333333333, \"#9c179e\"], [0.4444444444444444, \"#bd3786\"], [0.5555555555555556, \"#d8576b\"], [0.6666666666666666, \"#ed7953\"], [0.7777777777777778, \"#fb9f3a\"], [0.8888888888888888, \"#fdca26\"], [1.0, \"#f0f921\"]], \"type\": \"heatmapgl\"}], \"histogram\": [{\"marker\": {\"colorbar\": {\"outlinewidth\": 0, \"ticks\": \"\"}}, \"type\": \"histogram\"}], \"histogram2d\": [{\"colorbar\": {\"outlinewidth\": 0, \"ticks\": \"\"}, \"colorscale\": [[0.0, \"#0d0887\"], [0.1111111111111111, \"#46039f\"], [0.2222222222222222, \"#7201a8\"], [0.3333333333333333, \"#9c179e\"], [0.4444444444444444, \"#bd3786\"], [0.5555555555555556, \"#d8576b\"], [0.6666666666666666, \"#ed7953\"], [0.7777777777777778, \"#fb9f3a\"], [0.8888888888888888, \"#fdca26\"], [1.0, \"#f0f921\"]], \"type\": \"histogram2d\"}], \"histogram2dcontour\": [{\"colorbar\": {\"outlinewidth\": 0, \"ticks\": \"\"}, \"colorscale\": [[0.0, \"#0d0887\"], [0.1111111111111111, \"#46039f\"], [0.2222222222222222, \"#7201a8\"], [0.3333333333333333, \"#9c179e\"], [0.4444444444444444, \"#bd3786\"], [0.5555555555555556, \"#d8576b\"], [0.6666666666666666, \"#ed7953\"], [0.7777777777777778, \"#fb9f3a\"], [0.8888888888888888, \"#fdca26\"], [1.0, \"#f0f921\"]], \"type\": \"histogram2dcontour\"}], \"mesh3d\": [{\"colorbar\": {\"outlinewidth\": 0, \"ticks\": \"\"}, \"type\": \"mesh3d\"}], \"parcoords\": [{\"line\": {\"colorbar\": {\"outlinewidth\": 0, \"ticks\": \"\"}}, \"type\": \"parcoords\"}], \"pie\": [{\"automargin\": true, \"type\": \"pie\"}], \"scatter\": [{\"marker\": {\"colorbar\": {\"outlinewidth\": 0, \"ticks\": \"\"}}, \"type\": \"scatter\"}], \"scatter3d\": [{\"line\": {\"colorbar\": {\"outlinewidth\": 0, \"ticks\": \"\"}}, \"marker\": {\"colorbar\": {\"outlinewidth\": 0, \"ticks\": \"\"}}, \"type\": \"scatter3d\"}], \"scattercarpet\": [{\"marker\": {\"colorbar\": {\"outlinewidth\": 0, \"ticks\": \"\"}}, \"type\": \"scattercarpet\"}], \"scattergeo\": [{\"marker\": {\"colorbar\": {\"outlinewidth\": 0, \"ticks\": \"\"}}, \"type\": \"scattergeo\"}], \"scattergl\": [{\"marker\": {\"colorbar\": {\"outlinewidth\": 0, \"ticks\": \"\"}}, \"type\": \"scattergl\"}], \"scattermapbox\": [{\"marker\": {\"colorbar\": {\"outlinewidth\": 0, \"ticks\": \"\"}}, \"type\": \"scattermapbox\"}], \"scatterpolar\": [{\"marker\": {\"colorbar\": {\"outlinewidth\": 0, \"ticks\": \"\"}}, \"type\": \"scatterpolar\"}], \"scatterpolargl\": [{\"marker\": {\"colorbar\": {\"outlinewidth\": 0, \"ticks\": \"\"}}, \"type\": \"scatterpolargl\"}], \"scatterternary\": [{\"marker\": {\"colorbar\": {\"outlinewidth\": 0, \"ticks\": \"\"}}, \"type\": \"scatterternary\"}], \"surface\": [{\"colorbar\": {\"outlinewidth\": 0, \"ticks\": \"\"}, \"colorscale\": [[0.0, \"#0d0887\"], [0.1111111111111111, \"#46039f\"], [0.2222222222222222, \"#7201a8\"], [0.3333333333333333, \"#9c179e\"], [0.4444444444444444, \"#bd3786\"], [0.5555555555555556, \"#d8576b\"], [0.6666666666666666, \"#ed7953\"], [0.7777777777777778, \"#fb9f3a\"], [0.8888888888888888, \"#fdca26\"], [1.0, \"#f0f921\"]], \"type\": \"surface\"}], \"table\": [{\"cells\": {\"fill\": {\"color\": \"#EBF0F8\"}, \"line\": {\"color\": \"white\"}}, \"header\": {\"fill\": {\"color\": \"#C8D4E3\"}, \"line\": {\"color\": \"white\"}}, \"type\": \"table\"}]}, \"layout\": {\"annotationdefaults\": {\"arrowcolor\": \"#2a3f5f\", \"arrowhead\": 0, \"arrowwidth\": 1}, \"autotypenumbers\": \"strict\", \"coloraxis\": {\"colorbar\": {\"outlinewidth\": 0, \"ticks\": \"\"}}, \"colorscale\": {\"diverging\": [[0, \"#8e0152\"], [0.1, \"#c51b7d\"], [0.2, \"#de77ae\"], [0.3, \"#f1b6da\"], [0.4, \"#fde0ef\"], [0.5, \"#f7f7f7\"], [0.6, \"#e6f5d0\"], [0.7, \"#b8e186\"], [0.8, \"#7fbc41\"], [0.9, \"#4d9221\"], [1, \"#276419\"]], \"sequential\": [[0.0, \"#0d0887\"], [0.1111111111111111, \"#46039f\"], [0.2222222222222222, \"#7201a8\"], [0.3333333333333333, \"#9c179e\"], [0.4444444444444444, \"#bd3786\"], [0.5555555555555556, \"#d8576b\"], [0.6666666666666666, \"#ed7953\"], [0.7777777777777778, \"#fb9f3a\"], [0.8888888888888888, \"#fdca26\"], [1.0, \"#f0f921\"]], \"sequentialminus\": [[0.0, \"#0d0887\"], [0.1111111111111111, \"#46039f\"], [0.2222222222222222, \"#7201a8\"], [0.3333333333333333, \"#9c179e\"], [0.4444444444444444, \"#bd3786\"], [0.5555555555555556, \"#d8576b\"], [0.6666666666666666, \"#ed7953\"], [0.7777777777777778, \"#fb9f3a\"], [0.8888888888888888, \"#fdca26\"], [1.0, \"#f0f921\"]]}, \"colorway\": [\"#636efa\", \"#EF553B\", \"#00cc96\", \"#ab63fa\", \"#FFA15A\", \"#19d3f3\", \"#FF6692\", \"#B6E880\", \"#FF97FF\", \"#FECB52\"], \"font\": {\"color\": \"#2a3f5f\"}, \"geo\": {\"bgcolor\": \"white\", \"lakecolor\": \"white\", \"landcolor\": \"#E5ECF6\", \"showlakes\": true, \"showland\": true, \"subunitcolor\": \"white\"}, \"hoverlabel\": {\"align\": \"left\"}, \"hovermode\": \"closest\", \"mapbox\": {\"style\": \"light\"}, \"paper_bgcolor\": \"white\", \"plot_bgcolor\": \"#E5ECF6\", \"polar\": {\"angularaxis\": {\"gridcolor\": \"white\", \"linecolor\": \"white\", \"ticks\": \"\"}, \"bgcolor\": \"#E5ECF6\", \"radialaxis\": {\"gridcolor\": \"white\", \"linecolor\": \"white\", \"ticks\": \"\"}}, \"scene\": {\"xaxis\": {\"backgroundcolor\": \"#E5ECF6\", \"gridcolor\": \"white\", \"gridwidth\": 2, \"linecolor\": \"white\", \"showbackground\": true, \"ticks\": \"\", \"zerolinecolor\": \"white\"}, \"yaxis\": {\"backgroundcolor\": \"#E5ECF6\", \"gridcolor\": \"white\", \"gridwidth\": 2, \"linecolor\": \"white\", \"showbackground\": true, \"ticks\": \"\", \"zerolinecolor\": \"white\"}, \"zaxis\": {\"backgroundcolor\": \"#E5ECF6\", \"gridcolor\": \"white\", \"gridwidth\": 2, \"linecolor\": \"white\", \"showbackground\": true, \"ticks\": \"\", \"zerolinecolor\": \"white\"}}, \"shapedefaults\": {\"line\": {\"color\": \"#2a3f5f\"}}, \"ternary\": {\"aaxis\": {\"gridcolor\": \"white\", \"linecolor\": \"white\", \"ticks\": \"\"}, \"baxis\": {\"gridcolor\": \"white\", \"linecolor\": \"white\", \"ticks\": \"\"}, \"bgcolor\": \"#E5ECF6\", \"caxis\": {\"gridcolor\": \"white\", \"linecolor\": \"white\", \"ticks\": \"\"}}, \"title\": {\"x\": 0.05}, \"xaxis\": {\"automargin\": true, \"gridcolor\": \"white\", \"linecolor\": \"white\", \"ticks\": \"\", \"title\": {\"standoff\": 15}, \"zerolinecolor\": \"white\", \"zerolinewidth\": 2}, \"yaxis\": {\"automargin\": true, \"gridcolor\": \"white\", \"linecolor\": \"white\", \"ticks\": \"\", \"title\": {\"standoff\": 15}, \"zerolinecolor\": \"white\", \"zerolinewidth\": 2}}}, \"xaxis\": {\"anchor\": \"y\", \"domain\": [0.0, 1.0], \"dtick\": \"M1\", \"tickformat\": \"%b\\n%Y\", \"title\": {\"text\": \"Date\"}}, \"yaxis\": {\"anchor\": \"x\", \"domain\": [0.0, 1.0], \"title\": {\"text\": \"value\"}}},                        {\"responsive\": true}                    ).then(function(){\n",
       "                            \n",
       "var gd = document.getElementById('f19418df-5d14-4274-8fdd-06987120e0a3');\n",
       "var x = new MutationObserver(function (mutations, observer) {{\n",
       "        var display = window.getComputedStyle(gd).display;\n",
       "        if (!display || display === 'none') {{\n",
       "            console.log([gd, 'removed!']);\n",
       "            Plotly.purge(gd);\n",
       "            observer.disconnect();\n",
       "        }}\n",
       "}});\n",
       "\n",
       "// Listen for the removal of the full notebook cells\n",
       "var notebookContainer = gd.closest('#notebook-container');\n",
       "if (notebookContainer) {{\n",
       "    x.observe(notebookContainer, {childList: true});\n",
       "}}\n",
       "\n",
       "// Listen for the clearing of the current output cell\n",
       "var outputEl = gd.closest('.output');\n",
       "if (outputEl) {{\n",
       "    x.observe(outputEl, {childList: true});\n",
       "}}\n",
       "\n",
       "                        })                };                });            </script>        </div>"
      ]
     },
     "metadata": {},
     "output_type": "display_data"
    }
   ],
   "source": [
    "chart = Signal[(Signal['Date']>= start_date) & (Signal['Date']<= end_date)]\n",
    "chart1 = chart[['Date','+DI','-DI', 'ADX']]\n",
    "chart2 = chart[['Date','SOK','SOD']]\n",
    "import plotly.express as px\n",
    "fig = go.Figure(data=[go.Candlestick(x=Stock_Investment['Date'],\n",
    "                open=Stock_Investment['Open Price'],\n",
    "                high=Stock_Investment['High Price'],\n",
    "                low=Stock_Investment['Low Price'],\n",
    "                close=Stock_Investment['Close Price'])])\n",
    "\n",
    "fig.show()\n",
    "#ADX_Indicator = px.data.stocks()\n",
    "fig1 = px.line(chart1, x=\"Date\", y = chart1.columns,\n",
    "              hover_data={\"Date\": \"|%B %d, %Y\"})\n",
    "              #title='custom tick labels')\n",
    "fig1.update_xaxes(\n",
    "    dtick=\"M1\",\n",
    "    tickformat=\"%b\\n%Y\")\n",
    "fig1.show()\n",
    "\n",
    "fig2 = px.line(chart2, x=\"Date\", y = chart2.columns,\n",
    "              hover_data={\"Date\": \"|%B %d, %Y\"})\n",
    "              #title='custom tick labels')\n",
    "fig2.update_xaxes(\n",
    "    dtick=\"M1\",\n",
    "    tickformat=\"%b\\n%Y\")\n",
    "fig2.show()"
   ]
  },
  {
   "cell_type": "code",
   "execution_count": null,
   "metadata": {},
   "outputs": [],
   "source": []
  }
 ],
 "metadata": {
  "kernelspec": {
   "display_name": "Python 3",
   "language": "python",
   "name": "python3"
  },
  "language_info": {
   "codemirror_mode": {
    "name": "ipython",
    "version": 3
   },
   "file_extension": ".py",
   "mimetype": "text/x-python",
   "name": "python",
   "nbconvert_exporter": "python",
   "pygments_lexer": "ipython3",
   "version": "3.8.5"
  }
 },
 "nbformat": 4,
 "nbformat_minor": 4
}
